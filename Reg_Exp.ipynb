{
 "cells": [
  {
   "cell_type": "markdown",
   "id": "b4e5d231",
   "metadata": {},
   "source": [
    "# Regular Expressions"
   ]
  },
  {
   "cell_type": "markdown",
   "id": "79ff8a15",
   "metadata": {},
   "source": [
    "# Question 1- Write a Python program to check that a string contains only a certain set of characters (in this case a-z, A-Z and 0-9)."
   ]
  },
  {
   "cell_type": "code",
   "execution_count": 3,
   "id": "dd0e90ff",
   "metadata": {},
   "outputs": [
    {
     "name": "stdout",
     "output_type": "stream",
     "text": [
      "Enter a string : HelloWorld123\n",
      "The string contains sets of characters.\n"
     ]
    }
   ],
   "source": [
    "import re\n",
    "\n",
    "st=input(\"Enter a string : \")\n",
    "                \n",
    "if re.search('^[a-zA-Z0-9]+$',st):\n",
    "    print(\"The string contains sets of characters.\")\n",
    "else:\n",
    "    print(\"The string does not contains sets of characters.\")"
   ]
  },
  {
   "cell_type": "markdown",
   "id": "2f0cff31",
   "metadata": {},
   "source": [
    "# Question 2- Create a function in python that matches a string that has an a followed by zero or more b's"
   ]
  },
  {
   "cell_type": "code",
   "execution_count": 15,
   "id": "1128a3e3",
   "metadata": {},
   "outputs": [
    {
     "name": "stdout",
     "output_type": "stream",
     "text": [
      "Enter a string: ab\n",
      "The string contains an 'a' followed by zero or more 'b's.\n"
     ]
    }
   ],
   "source": [
    "import re\n",
    "\n",
    "def strmatch2(stri):\n",
    "    condition='^ab*$'\n",
    "    if re.match(condition,stri):\n",
    "        return True\n",
    "    else:\n",
    "        return False\n",
    "\n",
    "string = input(\"Enter a string: \")\n",
    "if strmatch2(string):\n",
    "    print(\"The string contains an 'a' followed by zero or more 'b's.\")\n",
    "else:\n",
    "    print(\"The string does not match the contains.\")\n"
   ]
  },
  {
   "cell_type": "markdown",
   "id": "a43e48a0",
   "metadata": {},
   "source": [
    "# Question 3-  Create a function in python that matches a string that has an a followed by one or more b's"
   ]
  },
  {
   "cell_type": "code",
   "execution_count": 24,
   "id": "ffb91765",
   "metadata": {},
   "outputs": [
    {
     "name": "stdout",
     "output_type": "stream",
     "text": [
      "Enter a string: ab\n",
      "The string contains an 'a' followed by one or more 'b's.\n"
     ]
    }
   ],
   "source": [
    "def strmatch3(stri):\n",
    "    condition='^ab+$'\n",
    "    if re.match(condition,stri):\n",
    "        return True\n",
    "    else:\n",
    "        return False\n",
    "\n",
    "string = input(\"Enter a string: \")\n",
    "if strmatch3(string):\n",
    "    print(\"The string contains an 'a' followed by one or more 'b's.\")\n",
    "else:\n",
    "    print(\"The string does not match the contains.\")\n"
   ]
  },
  {
   "cell_type": "markdown",
   "id": "d2e97bb1",
   "metadata": {},
   "source": [
    "# Question 4- Create a function in Python and use RegEx that matches a string that has an a followed by zero or one 'b'."
   ]
  },
  {
   "cell_type": "code",
   "execution_count": 23,
   "id": "75235e61",
   "metadata": {},
   "outputs": [
    {
     "name": "stdout",
     "output_type": "stream",
     "text": [
      "Enter a string: ab\n",
      "The string contains an 'a' followed by zero or one 'b'.\n"
     ]
    }
   ],
   "source": [
    "def strmatch4(stri):\n",
    "    condition='^ab?$'\n",
    "    if re.match(condition,stri):\n",
    "        return True\n",
    "    else:\n",
    "        return False\n",
    "\n",
    "string = input(\"Enter a string: \")\n",
    "if strmatch4(string):\n",
    "    print(\"The string contains an 'a' followed by zero or one 'b'.\")\n",
    "else:\n",
    "    print(\"The string does not match the contains.\")\n"
   ]
  },
  {
   "cell_type": "markdown",
   "id": "05ba00fd",
   "metadata": {},
   "source": [
    "# Question 5- Write a Python program that matches a string that has an a followed by three 'b'."
   ]
  },
  {
   "cell_type": "code",
   "execution_count": 31,
   "id": "1996098c",
   "metadata": {},
   "outputs": [
    {
     "name": "stdout",
     "output_type": "stream",
     "text": [
      "Enter a string : abb\n",
      "The string does not match the contains.\n"
     ]
    }
   ],
   "source": [
    "st5=input(\"Enter a string : \")\n",
    "\n",
    "if re.search('ab{3}',st5):\n",
    "    \n",
    "    print(\"The string contains an 'a' followed by three 'b's.\")\n",
    "else:\n",
    "    print(\"The string does not match the contains.\")\n"
   ]
  },
  {
   "cell_type": "markdown",
   "id": "e6ec09b2",
   "metadata": {},
   "source": [
    "# Question 6- Write a regular expression in Python to split a string into uppercase letters.\n",
    "Sample text: “ImportanceOfRegularExpressionsInPython”\n",
    "Output: [‘Importance’, ‘Of’, ‘Regular’, ‘Expression’, ‘In’, ‘Python’]\n"
   ]
  },
  {
   "cell_type": "code",
   "execution_count": 33,
   "id": "a50c709a",
   "metadata": {},
   "outputs": [
    {
     "name": "stdout",
     "output_type": "stream",
     "text": [
      "Enter a string : ImportanceOfRegularExpressionsInPython\n",
      "['Importance', 'Of', 'Regular', 'Expressions', 'In', 'Python']\n"
     ]
    }
   ],
   "source": [
    "import re\n",
    "\n",
    "st6=input(\"Enter a string : \")\n",
    "\n",
    "x=re.findall(r'[A-Z][a-z]*',st6)\n",
    "\n",
    "print(x)\n"
   ]
  },
  {
   "cell_type": "markdown",
   "id": "137a1f5c",
   "metadata": {},
   "source": [
    "# Question 7- Write a Python program that matches a string that has an a followed by two to three 'b'."
   ]
  },
  {
   "cell_type": "code",
   "execution_count": 37,
   "id": "64a5bfb3",
   "metadata": {},
   "outputs": [
    {
     "name": "stdout",
     "output_type": "stream",
     "text": [
      "Enter a string : ab\n",
      "The string does not match the contains.\n"
     ]
    }
   ],
   "source": [
    "import re\n",
    "\n",
    "st7=input(\"Enter a string : \")\n",
    "\n",
    "if re.search('ab{2,3}',st7):\n",
    "    \n",
    "    print(\"The string contains an 'a' followed by two to three 'b's.\")\n",
    "else:\n",
    "    print(\"The string does not match the contains.\")\n"
   ]
  },
  {
   "cell_type": "markdown",
   "id": "821c68f4",
   "metadata": {},
   "source": [
    "# Question 8- Write a Python program to find sequences of lowercase letters joined with a underscore."
   ]
  },
  {
   "cell_type": "code",
   "execution_count": 39,
   "id": "89dd3bc9",
   "metadata": {},
   "outputs": [
    {
     "name": "stdout",
     "output_type": "stream",
     "text": [
      "Enter a string : hk_hgvh\n",
      "The string contains sequences of lowercase letters joined with a _\n"
     ]
    }
   ],
   "source": [
    "import re\n",
    "\n",
    "st8=input(\"Enter a string : \")\n",
    "\n",
    "if re.search(r'[a-z]+_[a-z]',st8):\n",
    "    print(\"The string contains sequences of lowercase letters joined with a _\")\n",
    "else:\n",
    "    print(\"The string does not match the contains.\")\n"
   ]
  },
  {
   "cell_type": "markdown",
   "id": "f978c436",
   "metadata": {},
   "source": [
    "# Question 9- Write a Python program that matches a string that has an 'a' followed by anything, ending in 'b'."
   ]
  },
  {
   "cell_type": "code",
   "execution_count": 42,
   "id": "57aef389",
   "metadata": {},
   "outputs": [
    {
     "name": "stdout",
     "output_type": "stream",
     "text": [
      "Enter a string : akhkjb\n",
      "The string contains an 'a' followed by anything, ending in 'b'\n"
     ]
    }
   ],
   "source": [
    "import re\n",
    "\n",
    "st9=input(\"Enter a string : \")\n",
    "\n",
    "if re.search(r'a*b$',st9):\n",
    "    print(\"The string contains an 'a' followed by anything, ending in 'b'\")\n",
    "else:\n",
    "    print(\"The string does not match the contains.\")\n"
   ]
  },
  {
   "cell_type": "markdown",
   "id": "7b26a673",
   "metadata": {},
   "source": [
    "# Question 10- Write a Python program that matches a word at the beginning of a string."
   ]
  },
  {
   "cell_type": "code",
   "execution_count": 45,
   "id": "5fc17ba2",
   "metadata": {},
   "outputs": [
    {
     "name": "stdout",
     "output_type": "stream",
     "text": [
      "Enter a string :  hello\n",
      "The string does not match the contains.\n"
     ]
    }
   ],
   "source": [
    "import re\n",
    "\n",
    "st10=input(\"Enter a string : \")\n",
    "\n",
    "if re.search(r'^[a-z]|[A-Z]',st10):\n",
    "    print(\"The string contains word at the beginning of a string\")\n",
    "else:\n",
    "    print(\"The string does not match the contains.\")\n"
   ]
  },
  {
   "cell_type": "markdown",
   "id": "3672b616",
   "metadata": {},
   "source": [
    "# Question 11- Write a Python program to match a string that contains only upper and lowercase letters, numbers, and underscores."
   ]
  },
  {
   "cell_type": "code",
   "execution_count": 48,
   "id": "2a9e4fda",
   "metadata": {},
   "outputs": [
    {
     "name": "stdout",
     "output_type": "stream",
     "text": [
      "Enter a string : ghgdgfgf  hfh _\n",
      "The string contains upper and lowercase letters, numbers, and _\n"
     ]
    }
   ],
   "source": [
    "import re\n",
    "\n",
    "st11=input(\"Enter a string : \")\n",
    "\n",
    "if re.search(r'[A-Z]|[a-z]|[0-9]|_',st11):\n",
    "    print(\"The string contains upper and lowercase letters, numbers, and _\")\n",
    "else:\n",
    "    print(\"The string does not match the contains.\")\n"
   ]
  },
  {
   "cell_type": "markdown",
   "id": "ecfd9e10",
   "metadata": {},
   "source": [
    "# Question 12- Write a Python program where a string will start with a specific number. "
   ]
  },
  {
   "cell_type": "code",
   "execution_count": 49,
   "id": "3ad0658f",
   "metadata": {},
   "outputs": [
    {
     "name": "stdout",
     "output_type": "stream",
     "text": [
      "False\n",
      "True\n"
     ]
    }
   ],
   "source": [
    "import re\n",
    "def num(str):\n",
    "    n = re.compile(r\"^9\")\n",
    "    if n.match(str):\n",
    "        return True\n",
    "    else:\n",
    "        return False\n",
    "print(num('1989'))\n",
    "print(num('9891'))\n"
   ]
  },
  {
   "cell_type": "markdown",
   "id": "15e8f09a",
   "metadata": {},
   "source": [
    "# Question 13- Write a Python program to remove leading zeros from an IP address"
   ]
  },
  {
   "cell_type": "code",
   "execution_count": 50,
   "id": "e274ae56",
   "metadata": {},
   "outputs": [
    {
     "name": "stdout",
     "output_type": "stream",
     "text": [
      "192.168.1.11\n"
     ]
    }
   ],
   "source": [
    "ip = \"192.168.001.011\"\n",
    "st= re.sub('\\.[0]*', '.', ip)\n",
    "print(st)"
   ]
  },
  {
   "cell_type": "markdown",
   "id": "0ec12b32",
   "metadata": {},
   "source": [
    "# Question 14- Write a regular expression in python to match a date string in the form of Month name followed by day number and year stored in a text file.\n",
    "Sample text : ' On August 15th 1947 that India was declared independent from British colonialism, and the reins of control were handed over to the leaders of the Country’.\n",
    "Output- August 15th 1947\n",
    "Hint- Use re.match() method here\n"
   ]
  },
  {
   "cell_type": "code",
   "execution_count": null,
   "id": "0fdafd0f",
   "metadata": {},
   "outputs": [],
   "source": []
  },
  {
   "cell_type": "markdown",
   "id": "4e1c6df5",
   "metadata": {},
   "source": [
    "# Question 15- Write a Python program to search some literals strings in a string. Go to the editor\n",
    "Sample text : 'The quick brown fox jumps over the lazy dog.'\n",
    "Searched words : 'fox', 'dog', 'horse'\n"
   ]
  },
  {
   "cell_type": "code",
   "execution_count": 51,
   "id": "988e0029",
   "metadata": {},
   "outputs": [
    {
     "name": "stdout",
     "output_type": "stream",
     "text": [
      "Searched Words : ['fox', 'dog']\n"
     ]
    }
   ],
   "source": [
    "def found(text, searched_words):\n",
    "    word_list = []\n",
    "    for word in searched_words:\n",
    "        pattern = r'\\b' + re.escape(word) + r'\\b'\n",
    "        if re.search(pattern, text):\n",
    "            word_list.append(word)\n",
    "    return word_list\n",
    "\n",
    "sample_text = 'The quick brown fox jumps over the lazy dog.'\n",
    "searched_words = ['fox', 'dog', 'horse']\n",
    "\n",
    "found_words = found(sample_text, searched_words)\n",
    "print(\"Searched Words :\", found_words)\n"
   ]
  },
  {
   "cell_type": "markdown",
   "id": "31791d33",
   "metadata": {},
   "source": [
    "# Question 16- Write a Python program to search a literals string in a string and also find the location within the original string where the pattern occurs\n",
    "Sample text : 'The quick brown fox jumps over the lazy dog.'\n",
    "Searched words : 'fox'\n"
   ]
  },
  {
   "cell_type": "code",
   "execution_count": 56,
   "id": "7d6d1be3",
   "metadata": {},
   "outputs": [
    {
     "name": "stdout",
     "output_type": "stream",
     "text": [
      "Found \"fox\" in \"The quick brown fox jumps over the lazy dog.\" from 16 to 19 \n"
     ]
    }
   ],
   "source": [
    "import re\n",
    "\n",
    "pattern = 'fox'\n",
    "txt = 'The quick brown fox jumps over the lazy dog.'\n",
    "match = re.search(pattern, txt)\n",
    "s = match.start()\n",
    "e = match.end()\n",
    "print('Found \"%s\" in \"%s\" from %d to %d ' % (match.re.pattern, match.string, s, e))"
   ]
  },
  {
   "cell_type": "markdown",
   "id": "6b6b415c",
   "metadata": {},
   "source": [
    "# Question 17- Write a Python program to find the substrings within a string.\n",
    "Sample text : 'Python exercises, PHP exercises, C# exercises'\n",
    "Pattern : 'exercises'.\n"
   ]
  },
  {
   "cell_type": "code",
   "execution_count": 57,
   "id": "8a9b4835",
   "metadata": {},
   "outputs": [
    {
     "name": "stdout",
     "output_type": "stream",
     "text": [
      "Found \"exercises\"\n",
      "Found \"exercises\"\n",
      "Found \"exercises\"\n"
     ]
    }
   ],
   "source": [
    "import re\n",
    "\n",
    "text = 'Python exercises, PHP exercises, C# exercises'\n",
    "pattern = 'exercises'\n",
    "for match in re.findall(pattern, text):\n",
    "    print('Found \"%s\"' % match)"
   ]
  },
  {
   "cell_type": "markdown",
   "id": "ebadb5ab",
   "metadata": {},
   "source": [
    "# Question 18- Write a Python program to find the occurrence and position of the substrings within a string"
   ]
  },
  {
   "cell_type": "code",
   "execution_count": 59,
   "id": "1f58154e",
   "metadata": {},
   "outputs": [
    {
     "name": "stdout",
     "output_type": "stream",
     "text": [
      "Found \"exercises\" at 7,16\n",
      "Found \"exercises\" at 22,31\n",
      "Found \"exercises\" at 36,45\n"
     ]
    }
   ],
   "source": [
    "import re\n",
    "\n",
    "text = 'Python exercises, PHP exercises, C# exercises'\n",
    "pattern = 'exercises'\n",
    "for match in re.finditer(pattern, text):\n",
    "    s = match.start()\n",
    "    e = match.end()\n",
    "    print('Found \"%s\" at %d,%d' % (text[s:e], s, e))"
   ]
  },
  {
   "cell_type": "markdown",
   "id": "78e2c584",
   "metadata": {},
   "source": [
    "# Question 19- Write a Python program to convert a date of yyyy-mm-dd format to dd-mm-yyyy format"
   ]
  },
  {
   "cell_type": "code",
   "execution_count": 61,
   "id": "4d33f2d3",
   "metadata": {},
   "outputs": [
    {
     "name": "stdout",
     "output_type": "stream",
     "text": [
      "Original date Format is  2023-07-01\n",
      "New date Format is  01-07-2023\n"
     ]
    }
   ],
   "source": [
    "import re\n",
    "\n",
    "def convert_date(dt):\n",
    "        return re.sub(r'(\\d{4})-(\\d{1,2})-(\\d{1,2})', '\\\\3-\\\\2-\\\\1', dt)\n",
    "dt1 = \"2023-07-01\"\n",
    "print(\"Original date Format is \",dt1)\n",
    "print(\"New date Format is \",convert_date(dt1))"
   ]
  },
  {
   "cell_type": "markdown",
   "id": "6703264a",
   "metadata": {},
   "source": [
    "# Question 20- Write a Python program to find all words starting with 'a' or 'e' in a given string."
   ]
  },
  {
   "cell_type": "code",
   "execution_count": 66,
   "id": "d568f238",
   "metadata": {},
   "outputs": [
    {
     "name": "stdout",
     "output_type": "stream",
     "text": [
      "['at', 'as', 'eclared', 'ependent', 'alism']\n"
     ]
    }
   ],
   "source": [
    "import re\n",
    "\n",
    "text_line = \"On August 15th 1947 that India was declared independent from British colonialism.\"\n",
    "txt = re.findall(\"[ae]\\w+\", text_line)\n",
    "print(txt)"
   ]
  },
  {
   "cell_type": "markdown",
   "id": "800a8437",
   "metadata": {},
   "source": [
    "# Question 21- Write a Python program to separate and print the numbers and their position of a given string."
   ]
  },
  {
   "cell_type": "code",
   "execution_count": 67,
   "id": "228fd191",
   "metadata": {},
   "outputs": [
    {
     "name": "stdout",
     "output_type": "stream",
     "text": [
      "15\n",
      "Position: 10\n",
      "1947\n",
      "Position: 15\n"
     ]
    }
   ],
   "source": [
    "import re\n",
    "\n",
    "text_line = \"On August 15th 1947 that India was declared independent from British colonialism.\"\n",
    "for m in re.finditer(\"\\d+\", text_line):\n",
    "    print(m.group(0))\n",
    "    print(\"Position:\", m.start())"
   ]
  },
  {
   "cell_type": "markdown",
   "id": "9886ed0d",
   "metadata": {},
   "source": [
    "# Question 22- Write a regular expression in python program to extract maximum numeric value from a string"
   ]
  },
  {
   "cell_type": "code",
   "execution_count": null,
   "id": "202fdb6b",
   "metadata": {},
   "outputs": [],
   "source": []
  },
  {
   "cell_type": "markdown",
   "id": "e8ba0183",
   "metadata": {},
   "source": [
    "# Question 23- Write a Regex in Python to put spaces between words starting with capital letters"
   ]
  },
  {
   "cell_type": "code",
   "execution_count": 69,
   "id": "9f38a07d",
   "metadata": {},
   "outputs": [
    {
     "name": "stdout",
     "output_type": "stream",
     "text": [
      "Hello\n",
      "Importance Of Regular Expressions In Python\n"
     ]
    }
   ],
   "source": [
    "import re\n",
    "\n",
    "def words_spaces(txt):\n",
    "  return re.sub(r\"(\\w)([A-Z])\", r\"\\1 \\2\", txt)\n",
    "\n",
    "print(words_spaces(\"Hello\"))\n",
    "print(words_spaces(\"ImportanceOfRegularExpressionsInPython\"))"
   ]
  },
  {
   "cell_type": "markdown",
   "id": "08cf23ca",
   "metadata": {},
   "source": [
    "# Question 24- Python regex to find sequences of one upper case letter followed by lower case letters"
   ]
  },
  {
   "cell_type": "code",
   "execution_count": 70,
   "id": "ea2d33a7",
   "metadata": {},
   "outputs": [
    {
     "name": "stdout",
     "output_type": "stream",
     "text": [
      "Match found\n",
      "Match Not found\n"
     ]
    }
   ],
   "source": [
    "import re\n",
    "\n",
    "def text_match(text):\n",
    "        patterns = '[A-Z]+[a-z]+$'\n",
    "        if re.search(patterns, text):\n",
    "                return 'Match found'\n",
    "        else:\n",
    "                return('Match Not found')\n",
    "print(text_match(\"Python\"))\n",
    "print(text_match(\"python\"))"
   ]
  },
  {
   "cell_type": "markdown",
   "id": "f5aac6c3",
   "metadata": {},
   "source": [
    "# Question 25- Write a Python program to remove duplicate words from Sentence using Regular Expression"
   ]
  },
  {
   "cell_type": "code",
   "execution_count": 78,
   "id": "ea65760c",
   "metadata": {},
   "outputs": [
    {
     "name": "stdout",
     "output_type": "stream",
     "text": [
      "Original String is  Python exercises, PHP exercises, C# exercises,\n",
      "After removing duplicate word now string is Python exercises, PHP C#\n"
     ]
    }
   ],
   "source": [
    "import re\n",
    "\n",
    "def unique_list(text_str):\n",
    "    l = text_str.split()\n",
    "    temp = []\n",
    "    for x in l:\n",
    "        if x not in temp:\n",
    "            temp.append(x)\n",
    "    return ' '.join(temp)\n",
    "\n",
    "text_str = \"Python exercises, PHP exercises, C# exercises,\"\n",
    "print(\"Original String is \",text_str)\n",
    "print(\"After removing duplicate word now string is\",unique_list(text_str))\n"
   ]
  },
  {
   "cell_type": "markdown",
   "id": "c9bf3e95",
   "metadata": {},
   "source": [
    "# Question 26-  Write a python program using RegEx to accept string ending with alphanumeric character."
   ]
  },
  {
   "cell_type": "code",
   "execution_count": null,
   "id": "941a242d",
   "metadata": {},
   "outputs": [],
   "source": []
  },
  {
   "cell_type": "code",
   "execution_count": null,
   "id": "114c6777",
   "metadata": {},
   "outputs": [],
   "source": []
  },
  {
   "cell_type": "markdown",
   "id": "fa7ae451",
   "metadata": {},
   "source": [
    "# Question 27-Write a python program using RegEx to extract the hashtags.\n",
    "Sample Text: text = \"\"\"RT @kapil_kausik: #Doltiwal I mean #xyzabc is \"hurt\" by #Demonetization as the same has rendered USELESS <ed><U+00A0><U+00BD><ed><U+00B1><U+0089> \"acquired funds\" No wo\"\"\"\n",
    "Output: ['#Doltiwal', '#xyzabc', '#Demonetization']\n"
   ]
  },
  {
   "cell_type": "code",
   "execution_count": null,
   "id": "9cba9a54",
   "metadata": {},
   "outputs": [],
   "source": []
  },
  {
   "cell_type": "code",
   "execution_count": null,
   "id": "6c419efc",
   "metadata": {},
   "outputs": [],
   "source": []
  },
  {
   "cell_type": "markdown",
   "id": "74f00091",
   "metadata": {},
   "source": [
    "# Question 28- Write a python program using RegEx to remove <U+..> like symbols\n",
    "Check the below sample text, there are strange symbols something of the sort <U+..> all over the place. You need to come up with a general Regex expression that will cover all such symbols.\n",
    "Sample Text: \"@Jags123456 Bharat band on 28??<ed><U+00A0><U+00BD><ed><U+00B8><U+0082>Those who  are protesting #demonetization  are all different party leaders\"\n",
    "Output: @Jags123456 Bharat band on 28??<ed><ed>Those who  are protesting #demonetization  are all different party leaders\n"
   ]
  },
  {
   "cell_type": "code",
   "execution_count": null,
   "id": "38b7f788",
   "metadata": {},
   "outputs": [],
   "source": []
  },
  {
   "cell_type": "code",
   "execution_count": null,
   "id": "bed6835b",
   "metadata": {},
   "outputs": [],
   "source": []
  },
  {
   "cell_type": "markdown",
   "id": "b94a957c",
   "metadata": {},
   "source": [
    "# Question 29- Write a python program to extract dates from the text stored in the text file.\n",
    "Sample Text: Ron was born on 12-09-1992 and he was admitted to school 15-12-1999.\n",
    "Store this sample text in the file and then extract dates.\n"
   ]
  },
  {
   "cell_type": "code",
   "execution_count": null,
   "id": "fb43a5e4",
   "metadata": {},
   "outputs": [],
   "source": []
  },
  {
   "cell_type": "code",
   "execution_count": null,
   "id": "c1b4a7dc",
   "metadata": {},
   "outputs": [],
   "source": []
  },
  {
   "cell_type": "markdown",
   "id": "c36189f7",
   "metadata": {},
   "source": [
    "# Question 30- Write a Python program to replace all occurrences of a space, comma, or dot with a colon.\n",
    "Sample Text- 'Python Exercises, PHP exercises.'\n",
    "Output: Python:Exercises::PHP:exercises:\n"
   ]
  },
  {
   "cell_type": "code",
   "execution_count": 1,
   "id": "1b9d831b",
   "metadata": {},
   "outputs": [
    {
     "name": "stdout",
     "output_type": "stream",
     "text": [
      "Python:Exercises::PHP:exercises:\n"
     ]
    }
   ],
   "source": [
    "import re\n",
    "\n",
    "txt = 'Python Exercises, PHP exercises.'\n",
    "txt = re.sub(r'[\\s,.]', ':', txt)\n",
    "print(txt)"
   ]
  },
  {
   "cell_type": "code",
   "execution_count": null,
   "id": "0b00fed6",
   "metadata": {},
   "outputs": [],
   "source": []
  },
  {
   "cell_type": "code",
   "execution_count": null,
   "id": "a0c24501",
   "metadata": {},
   "outputs": [],
   "source": []
  }
 ],
 "metadata": {
  "kernelspec": {
   "display_name": "Python 3 (ipykernel)",
   "language": "python",
   "name": "python3"
  },
  "language_info": {
   "codemirror_mode": {
    "name": "ipython",
    "version": 3
   },
   "file_extension": ".py",
   "mimetype": "text/x-python",
   "name": "python",
   "nbconvert_exporter": "python",
   "pygments_lexer": "ipython3",
   "version": "3.10.9"
  }
 },
 "nbformat": 4,
 "nbformat_minor": 5
}
