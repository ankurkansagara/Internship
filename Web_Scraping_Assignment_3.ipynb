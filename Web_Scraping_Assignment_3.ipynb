{
 "cells": [
  {
   "cell_type": "code",
   "execution_count": 1,
   "id": "e2fa7083",
   "metadata": {
    "scrolled": true
   },
   "outputs": [
    {
     "name": "stdout",
     "output_type": "stream",
     "text": [
      "Requirement already satisfied: selenium in c:\\users\\administrator\\anaconda3\\lib\\site-packages (4.10.0)\n",
      "Requirement already satisfied: urllib3[socks]<3,>=1.26 in c:\\users\\administrator\\anaconda3\\lib\\site-packages (from selenium) (1.26.16)\n",
      "Requirement already satisfied: trio~=0.17 in c:\\users\\administrator\\anaconda3\\lib\\site-packages (from selenium) (0.22.2)\n",
      "Requirement already satisfied: trio-websocket~=0.9 in c:\\users\\administrator\\anaconda3\\lib\\site-packages (from selenium) (0.10.3)\n",
      "Requirement already satisfied: certifi>=2021.10.8 in c:\\users\\administrator\\anaconda3\\lib\\site-packages (from selenium) (2023.5.7)\n",
      "Requirement already satisfied: attrs>=20.1.0 in c:\\users\\administrator\\anaconda3\\lib\\site-packages (from trio~=0.17->selenium) (22.1.0)\n",
      "Requirement already satisfied: sortedcontainers in c:\\users\\administrator\\anaconda3\\lib\\site-packages (from trio~=0.17->selenium) (2.4.0)\n",
      "Requirement already satisfied: idna in c:\\users\\administrator\\anaconda3\\lib\\site-packages (from trio~=0.17->selenium) (3.4)\n",
      "Requirement already satisfied: outcome in c:\\users\\administrator\\anaconda3\\lib\\site-packages (from trio~=0.17->selenium) (1.2.0)\n",
      "Requirement already satisfied: sniffio in c:\\users\\administrator\\anaconda3\\lib\\site-packages (from trio~=0.17->selenium) (1.2.0)\n",
      "Requirement already satisfied: cffi>=1.14 in c:\\users\\administrator\\anaconda3\\lib\\site-packages (from trio~=0.17->selenium) (1.15.1)\n",
      "Requirement already satisfied: exceptiongroup in c:\\users\\administrator\\anaconda3\\lib\\site-packages (from trio-websocket~=0.9->selenium) (1.1.2)\n",
      "Requirement already satisfied: wsproto>=0.14 in c:\\users\\administrator\\anaconda3\\lib\\site-packages (from trio-websocket~=0.9->selenium) (1.2.0)\n",
      "Requirement already satisfied: PySocks!=1.5.7,<2.0,>=1.5.6 in c:\\users\\administrator\\anaconda3\\lib\\site-packages (from urllib3[socks]<3,>=1.26->selenium) (1.7.1)\n",
      "Requirement already satisfied: pycparser in c:\\users\\administrator\\anaconda3\\lib\\site-packages (from cffi>=1.14->trio~=0.17->selenium) (2.21)\n",
      "Requirement already satisfied: h11<1,>=0.9.0 in c:\\users\\administrator\\anaconda3\\lib\\site-packages (from wsproto>=0.14->trio-websocket~=0.9->selenium) (0.14.0)\n"
     ]
    }
   ],
   "source": [
    "!pip install selenium"
   ]
  },
  {
   "cell_type": "code",
   "execution_count": 1,
   "id": "cafbb953",
   "metadata": {},
   "outputs": [],
   "source": [
    "import selenium\n",
    "from selenium import webdriver\n",
    "from selenium.webdriver.common.by import By\n",
    "import time\n",
    "import pandas as pd"
   ]
  },
  {
   "cell_type": "code",
   "execution_count": 2,
   "id": "62f3988e",
   "metadata": {},
   "outputs": [],
   "source": [
    "import warnings"
   ]
  },
  {
   "cell_type": "code",
   "execution_count": 3,
   "id": "c24ff854",
   "metadata": {},
   "outputs": [],
   "source": [
    "warnings.filterwarnings('ignore')"
   ]
  },
  {
   "cell_type": "code",
   "execution_count": 4,
   "id": "0dc4c761",
   "metadata": {},
   "outputs": [],
   "source": [
    "from selenium.common.exceptions import NoSuchElementException"
   ]
  },
  {
   "cell_type": "markdown",
   "id": "06de14df",
   "metadata": {},
   "source": [
    "# Q1"
   ]
  },
  {
   "cell_type": "code",
   "execution_count": 5,
   "id": "a9a1b6e0",
   "metadata": {},
   "outputs": [],
   "source": [
    "driver = webdriver.Chrome()"
   ]
  },
  {
   "cell_type": "code",
   "execution_count": 6,
   "id": "1c7d9538",
   "metadata": {},
   "outputs": [
    {
     "name": "stdout",
     "output_type": "stream",
     "text": [
      "Enter data for search...guitar\n"
     ]
    }
   ],
   "source": [
    "search_input=input ('Enter data for search...')"
   ]
  },
  {
   "cell_type": "code",
   "execution_count": 7,
   "id": "d0064fb6",
   "metadata": {},
   "outputs": [],
   "source": [
    "driver.get(\"https://www.amazon.in/\")"
   ]
  },
  {
   "cell_type": "code",
   "execution_count": 8,
   "id": "339692c6",
   "metadata": {},
   "outputs": [],
   "source": [
    "search= driver.find_element(By.ID,\"twotabsearchtextbox\")\n",
    "search.send_keys(search_input)"
   ]
  },
  {
   "cell_type": "code",
   "execution_count": 9,
   "id": "74759764",
   "metadata": {},
   "outputs": [],
   "source": [
    "search=driver.find_element(By.ID,\"nav-search-submit-button\")\n",
    "search.click()\n",
    "time.sleep(3)"
   ]
  },
  {
   "cell_type": "markdown",
   "id": "4cbdb6a0",
   "metadata": {},
   "source": [
    "# Q2"
   ]
  },
  {
   "cell_type": "code",
   "execution_count": 10,
   "id": "be315cff",
   "metadata": {},
   "outputs": [],
   "source": [
    "gname=[]\n",
    "gproduct=[]\n",
    "gprice=[]\n",
    "greturn=[]\n",
    "gdelivery=[]\n",
    "gavailability=[]\n",
    "gurl=[]"
   ]
  },
  {
   "cell_type": "code",
   "execution_count": 18,
   "id": "1f50355c",
   "metadata": {},
   "outputs": [],
   "source": [
    "start=0\n",
    "end=3\n",
    "\n",
    "for page in range(start,end):\n",
    "    url=driver.find_elements(By.XPATH,'//a[@class=\"a-link-normal s-underline-text s-underline-link-text s-link-style a-text-normal\"]')\n",
    "    for i in url:\n",
    "        gurl.append(i.get_attribute('href'))\n",
    "    nbutton=driver.find_element(By.XPATH,'//a[@class=\"s-pagination-item s-pagination-next s-pagination-button s-pagination-separator\"]')\n",
    "    nbutton.click()\n",
    "    time.sleep(3)\n",
    "    "
   ]
  },
  {
   "cell_type": "code",
   "execution_count": 28,
   "id": "577af198",
   "metadata": {},
   "outputs": [
    {
     "data": {
      "text/plain": [
       "170"
      ]
     },
     "execution_count": 28,
     "metadata": {},
     "output_type": "execute_result"
    }
   ],
   "source": [
    "len(gurl)"
   ]
  },
  {
   "cell_type": "code",
   "execution_count": null,
   "id": "b31e5692",
   "metadata": {},
   "outputs": [],
   "source": []
  },
  {
   "cell_type": "code",
   "execution_count": 29,
   "id": "3015096b",
   "metadata": {},
   "outputs": [
    {
     "name": "stdout",
     "output_type": "stream",
     "text": [
      "['https://www.amazon.in/sspa/click?ie=UTF8&spc=MTo2NTU1MTY3OTU4NzYyMzQ6MTY5MTY3NjY5OTpzcF9hdGY6MjAwOTY2MDg3NTA0OTg6OjA6Og&url=%2FKadence-Frontier-Acoustic-Guitar-Strings%2Fdp%2FB01GDZ46AA%2Fref%3Dsr_1_1_sspa%3Fkeywords%3Dguitar%26qid%3D1691676699%26sr%3D8-1-spons%26sp_csd%3Dd2lkZ2V0TmFtZT1zcF9hdGY%26psc%3D1', 'https://www.amazon.in/sspa/click?ie=UTF8&spc=MTo2NTU1MTY3OTU4NzYyMzQ6MTY5MTY3NjY5OTpzcF9hdGY6MjAwODg0NjU4NTk0MDQ6OjA6Og&url=%2FHenrix-Cutaway-Acoustic-Guitar-Action%2Fdp%2FB097NCQFFM%2Fref%3Dsr_1_2_sspa%3Fkeywords%3Dguitar%26qid%3D1691676699%26sr%3D8-2-spons%26sp_csd%3Dd2lkZ2V0TmFtZT1zcF9hdGY%26psc%3D1', 'https://www.amazon.in/sspa/click?ie=UTF8&spc=MTo2NTU1MTY3OTU4NzYyMzQ6MTY5MTY3NjY5OTpzcF9hdGY6MzAwMDI3NzAzNjIxNjMyOjowOjo&url=%2FMedellin-Acoustic-Guitar-learning-Strings%2Fdp%2FB0CCNSN6S4%2Fref%3Dsr_1_3_sspa%3Fkeywords%3Dguitar%26qid%3D1691676699%26sr%3D8-3-spons%26sp_csd%3Dd2lkZ2V0TmFtZT1zcF9hdGY%26psc%3D1', 'https://www.amazon.in/sspa/click?ie=UTF8&spc=MTo2NTU1MTY3OTU4NzYyMzQ6MTY5MTY3NjY5OTpzcF9hdGY6MzAwMDI3NzAzNjIxNzMyOjowOjo&url=%2FMedellin-Acoustic-Guitar-learning-Strings%2Fdp%2FB0CCNSN9BV%2Fref%3Dsr_1_4_sspa%3Fkeywords%3Dguitar%26qid%3D1691676699%26sr%3D8-4-spons%26sp_csd%3Dd2lkZ2V0TmFtZT1zcF9hdGY%26psc%3D1', 'https://www.amazon.in/Juarez-Acoustic-Cutaway-038C-Strings/dp/B017NPCSLI/ref=sr_1_5?keywords=guitar&qid=1691676699&sr=8-5', 'https://www.amazon.in/Intern-INT-38C-Acoustic-Guitar-Black/dp/B073B6TQQY/ref=sr_1_6?keywords=guitar&qid=1691676699&sr=8-6', 'https://www.amazon.in/Yamaha-F280-Acoustic-Guitar-Natural/dp/B08317Y4VP/ref=sr_1_7?keywords=guitar&qid=1691676699&sr=8-7', 'https://www.amazon.in/JUAREZ-JRZ38C-Acoustic-Sunburst-Strings/dp/B01FYYTDTU/ref=sr_1_8?keywords=guitar&qid=1691676699&sr=8-8', 'https://www.amazon.in/Intern-INT-38C-Acoustic-Guitar-Sunburst/dp/B073B5MJRM/ref=sr_1_9?keywords=guitar&qid=1691676699&sr=8-9', 'https://www.amazon.in/Ibanez-IBA-MD39CNT-Acoustic-Guitar-MD39C-NT/dp/B07G4CCMYL/ref=sr_1_10?keywords=guitar&qid=1691676699&sr=8-10', 'https://www.amazon.in/JUAREZ-JRZ38C-Acoustic-Sunburst-Strings/dp/B01FYYTDS6/ref=sr_1_11?keywords=guitar&qid=1691676699&sr=8-11', 'https://www.amazon.in/Henrix-40-Inch-Cutaway-Acoustic-Guitar/dp/B0B46MGFXH/ref=sr_1_12?keywords=guitar&qid=1691676699&sr=8-12', 'https://www.amazon.in/Yamaha-FX280-acoustic-Dreadnought-Natural/dp/B09HR6BNFQ/ref=sr_1_13?keywords=guitar&qid=1691676699&sr=8-13', 'https://www.amazon.in/Yamaha-FS-100C-6-String-Acoustic-without/dp/B00PAS9CK6/ref=sr_1_14?keywords=guitar&qid=1691676699&sr=8-14', 'https://www.amazon.in/Juarez-Acoustic-Guitar-Cutaway-Strings/dp/B076QHZ4HZ/ref=sr_1_15?keywords=guitar&qid=1691676699&sr=8-15', 'https://www.amazon.in/Kadence-Frontier-Acoustic-Guitar-Strings/dp/B078GTJP5Y/ref=sr_1_16?keywords=guitar&qid=1691676699&sr=8-16', 'https://www.amazon.in/Intern-INT-38C-Acoustic-Guitar-Kit/dp/B073B6TF31/ref=sr_1_17?keywords=guitar&qid=1691676699&sr=8-17', 'https://www.amazon.in/Juarez-JRZ-ST01-6-String-Electric-Without/dp/B01FYZSOGM/ref=sr_1_18?keywords=guitar&qid=1691676699&sr=8-18', 'https://www.amazon.in/Kadence-Professional-Acoustic-Rosewood-Natural/dp/B0CC927DLN/ref=sr_1_19?keywords=guitar&qid=1691676699&sr=8-19', 'https://www.amazon.in/Ju%C3%A2rez-JRZ38C-WH-Strings-Acoustic/dp/B072MFK4L6/ref=sr_1_20?keywords=guitar&qid=1691676699&sr=8-20', 'https://www.amazon.in/sspa/click?ie=UTF8&spc=MTo2NTU1MTY3OTU4NzYyMzQ6MTY5MTY3NjY5OTpzcF9tdGY6MzAwMDI3NzAzNjIxODMyOjowOjo&url=%2FMedellin-Acoustic-Guitar-learning-Strings%2Fdp%2FB0CCNS2NDX%2Fref%3Dsr_1_21_sspa%3Fkeywords%3Dguitar%26qid%3D1691676699%26sr%3D8-21-spons%26sp_csd%3Dd2lkZ2V0TmFtZT1zcF9tdGY%26psc%3D1', 'https://www.amazon.in/sspa/click?ie=UTF8&spc=MTo2NTU1MTY3OTU4NzYyMzQ6MTY5MTY3NjY5OTpzcF9tdGY6MjAwMzYyNDQ1NTk1OTg6OjA6Og&url=%2FTraveller-Acoustic-Guitar-Strings-Polishing%2Fdp%2FB07RK9962M%2Fref%3Dsr_1_22_sspa%3Fkeywords%3Dguitar%26qid%3D1691676699%26sr%3D8-22-spons%26sp_csd%3Dd2lkZ2V0TmFtZT1zcF9tdGY%26psc%3D1', 'https://www.amazon.in/sspa/click?ie=UTF8&spc=MTo2NTU1MTY3OTU4NzYyMzQ6MTY5MTY3NjY5OTpzcF9tdGY6MzAwMDMxMzAxNjUyNzMyOjowOjo&url=%2FImaginea%25C2%25AE-Acoustic-Beginners-Premium-Cutaway%2Fdp%2FB0CDS6Q6CF%2Fref%3Dsr_1_23_sspa%3Fkeywords%3Dguitar%26qid%3D1691676699%26sr%3D8-23-spons%26sp_csd%3Dd2lkZ2V0TmFtZT1zcF9tdGY%26psc%3D1', 'https://www.amazon.in/sspa/click?ie=UTF8&spc=MTo2NTU1MTY3OTU4NzYyMzQ6MTY5MTY3NjY5OTpzcF9tdGY6MjAwMzE2ODgyMjYyMDE6OjA6Og&url=%2FGUITAR-BRO-Acoustic-Beginner-Accessories%2Fdp%2FB07T84GC8L%2Fref%3Dsr_1_24_sspa%3Fkeywords%3Dguitar%26qid%3D1691676699%26sr%3D8-24-spons%26sp_csd%3Dd2lkZ2V0TmFtZT1zcF9tdGY%26psc%3D1', 'https://www.amazon.in/Kadence-Frontier-Acoustic-Guitar-Strings/dp/B01GDZ46AA/ref=sr_1_25?keywords=guitar&qid=1691676699&sr=8-25', 'https://www.amazon.in/Medellin-MED-BLU-C-Linden-Acoustic-Guitar/dp/B07NBMWHJW/ref=sr_1_26?keywords=guitar&qid=1691676699&sr=8-26', 'https://www.amazon.in/Intern-INT-38C-Acoustic-Guitar-Blue/dp/B073B5RZBV/ref=sr_1_27?keywords=guitar&qid=1691676699&sr=8-27', 'https://www.amazon.in/Acoustic-plectrums-stability-age-groups-Electric/dp/B09YH8JRZH/ref=sr_1_28?keywords=guitar&qid=1691676699&sr=8-28', 'https://www.amazon.in/Intern-INT-38C-BK-G-Guitar-Kit-Black/dp/B07K9497RC/ref=sr_1_29?keywords=guitar&qid=1691676699&sr=8-29', 'https://www.amazon.in/Lindenwood-Cutaway-Acoustic-Plectrums-sunburst/dp/B085HV4YW7/ref=sr_1_30?keywords=guitar&qid=1691676699&sr=8-30', 'https://www.amazon.in/Medellin-Acoustic-adjustable-Truss-rod-learning/dp/B0BML6DZGJ/ref=sr_1_31?keywords=guitar&qid=1691676699&sr=8-31', 'https://www.amazon.in/Intern-38-inch-Cutaway-Design-Acoustic/dp/B07X4PN85R/ref=sr_1_32?keywords=guitar&qid=1691676699&sr=8-32', 'https://www.amazon.in/Intern-INT-38C-Brown-Acoustic-Guitar/dp/B07X2HV158/ref=sr_1_33?keywords=guitar&qid=1691676699&sr=8-33', 'https://www.amazon.in/Intern-INT-38C-VT-G-Guitar-Kit-Violet/dp/B07K8YJXKL/ref=sr_1_34?keywords=guitar&qid=1691676699&sr=8-34', 'https://www.amazon.in/Neowood-FLYM-Acoustic-Plectrums-Protectors/dp/B0BPCLSJH3/ref=sr_1_35?keywords=guitar&qid=1691676699&sr=8-35', 'https://www.amazon.in/Medellin-Acoustic-Guitar-learning-Strings/dp/B0CCNSN9BV/ref=sr_1_36?keywords=guitar&qid=1691676699&sr=8-36', 'https://www.amazon.in/Acoustic-Pick-up-stability-professional-amplificaiton/dp/B09YH8YQR1/ref=sr_1_37?keywords=guitar&qid=1691676699&sr=8-37', 'https://www.amazon.in/Intern-INT-38C-Natural-Acoustic-Guitar/dp/B07X4LPJ6H/ref=sr_1_38?keywords=guitar&qid=1691676699&sr=8-38', 'https://www.amazon.in/JUAREZ-Acoustic-Guitar-String-JRGSE32/dp/B08MW1WPW5/ref=sr_1_39?keywords=guitar&qid=1691676699&sr=8-39', 'https://www.amazon.in/Blueberry-38C-Acoustic-Guitar-Strings/dp/B08KLMV4XX/ref=sr_1_40?keywords=guitar&qid=1691676699&sr=8-40', 'https://www.amazon.in/Intern-INT-38C-Sunburst-Acoustic-Guitar/dp/B07X1J4D3Z/ref=sr_1_41?keywords=guitar&qid=1691676699&sr=8-41', 'https://www.amazon.in/Yamaha-F310-6-Strings-Acoustic-Natural/dp/B000RVYW7E/ref=sr_1_42?keywords=guitar&qid=1691676699&sr=8-42', 'https://www.amazon.in/Yamaha-Acoustic-Guitar-Tobacco-Sunburst/dp/B08VXR74Q2/ref=sr_1_43?keywords=guitar&qid=1691676699&sr=8-43', 'https://www.amazon.in/Yamaha-Acoustic-Tobacco-Sunburst-Bajaao/dp/B09PBDGD82/ref=sr_1_44?keywords=guitar&qid=1691676699&sr=8-44', 'https://www.amazon.in/Intern-INT-38C-BLS-G-Guitar-Kit-Blue/dp/B07K8YXTNW/ref=sr_1_45?keywords=guitar&qid=1691676699&sr=8-45', 'https://www.amazon.in/Guitar-Strings-Straps-String-Polishing/dp/B097N7NGHD/ref=sr_1_46?keywords=guitar&qid=1691676699&sr=8-46', 'https://www.amazon.in/JRZ-ST01-6-String-Electric-Sunburst-Without/dp/B01FYZSOEE/ref=sr_1_47?keywords=guitar&qid=1691676699&sr=8-47', 'https://www.amazon.in/JUAREZ-JRZ38C-Acoustic-Natural-Strings/dp/B01FYYTDWC/ref=sr_1_48?keywords=guitar&qid=1691676699&sr=8-48', 'https://www.amazon.in/Rosewood-Fretboard-Acoustic-Strings-K-Retail/dp/B07KLG8C4P/ref=sr_1_49?keywords=guitar&qid=1691676699&sr=8-49', 'https://www.amazon.in/Blueberry-VIP-401-40Inch-TrussRod-Acoustic/dp/B0BVYXF6X6/ref=sr_1_50?keywords=guitar&qid=1691676699&sr=8-50', 'https://www.amazon.in/JUAREZ-Acoustic-Rosewood-Fretboard-Natural/dp/B08GZZX16R/ref=sr_1_51?keywords=guitar&qid=1691676699&sr=8-51', 'https://www.amazon.in/Acoustic-Beginner-Acustica-Guitarra-Packaging/dp/B09JNTBFMC/ref=sr_1_52?keywords=guitar&qid=1691676699&sr=8-52', 'https://www.amazon.in/Medellin-Acoustic-Guitar-learning-Strings/dp/B0CCNSN6S4/ref=sr_1_53?keywords=guitar&qid=1691676699&sr=8-53', 'https://www.amazon.in/JUAREZ-JRZ38C-Handed-Acoustic-Strings/dp/B01FYYTDX6/ref=sr_1_54?keywords=guitar&qid=1691676699&sr=8-54', 'https://www.amazon.in/Acoustic-Cutaway-TBLS-Strings-Sunburst/dp/B098BCCY75/ref=sr_1_55?keywords=guitar&qid=1691676699&sr=8-55', 'https://www.amazon.in/Intern-INT-38C-NT-G-Guitar-Kit-Natural/dp/B07K9MZZH9/ref=sr_1_56?keywords=guitar&qid=1691676699&sr=8-56', 'https://www.amazon.in/sspa/click?ie=UTF8&spc=MTo2NTU1MTY3OTU4NzYyMzQ6MTY5MTY3NjY5OTpzcF9idGY6MzAwMDI4MDk0MjMxOTMyOjowOjo&url=%2FMusical-Guitar-Cutaway-038G-Strings%2Fdp%2FB09G1BL9PD%2Fref%3Dsr_1_57_sspa%3Fkeywords%3Dguitar%26qid%3D1691676699%26sr%3D8-57-spons%26sp_csd%3Dd2lkZ2V0TmFtZT1zcF9idGY%26psc%3D1', 'https://www.amazon.in/sspa/click?ie=UTF8&spc=MTo2NTU1MTY3OTU4NzYyMzQ6MTY5MTY3NjY5OTpzcF9idGY6MzAwMDMxMzAxNjUzMDMyOjowOjo&url=%2FImaginea%25C2%25AE-Sunburst-Beautiful-Acoustic-Beginners%2Fdp%2FB0C69RWYKB%2Fref%3Dsr_1_58_sspa%3Fkeywords%3Dguitar%26qid%3D1691676699%26sr%3D8-58-spons%26sp_csd%3Dd2lkZ2V0TmFtZT1zcF9idGY%26psc%3D1', 'https://www.amazon.in/sspa/click?ie=UTF8&spc=MTo2NTU1MTY3OTU4NzYyMzQ6MTY5MTY3NjY5OTpzcF9idGY6MzAwMDI5MDQwNTIyNTMyOjowOjo&url=%2FGibzs-FT-G41-Frontier-Acoustic-Strings%2Fdp%2FB0BY5DQV35%2Fref%3Dsr_1_59_sspa%3Fkeywords%3Dguitar%26qid%3D1691676699%26sr%3D8-59-spons%26sp_csd%3Dd2lkZ2V0TmFtZT1zcF9idGY%26psc%3D1', 'https://www.amazon.in/Yamaha-Classical-Guitar-C40-02/dp/B003UGCUFE/ref=sxbs_aspa_sqa?c_c=533051941&content-id=amzn1.sym.475b6729-7cda-4ab5-9ff0-a2111d2d1564%3Aamzn1.sym.475b6729-7cda-4ab5-9ff0-a2111d2d1564&cv_ct_cx=guitar&keywords=guitar&pd_rd_i=B003UGCUFE&pd_rd_r=6ec8ce0e-6c8d-49dc-bf3d-1df95d0d5bbe&pd_rd_w=5rwsY&pd_rd_wg=zkO9N&pf_rd_p=475b6729-7cda-4ab5-9ff0-a2111d2d1564&pf_rd_r=JWF8QEV9Y1ZCXZ66D0GP&qid=1691676699&sbo=RZvfv%2F%2FHxDF%2BO5021pAnSA%3D%3D&sr=1-1-93291ede-2a7a-4e75-a6c2-b89c29736263', 'https://www.amazon.in/DAddario-EJ27N-Classical-Tension-Strings/dp/B0002H0JZC/ref=sxbs_aspa_sqa?c_c=533051941&content-id=amzn1.sym.475b6729-7cda-4ab5-9ff0-a2111d2d1564%3Aamzn1.sym.475b6729-7cda-4ab5-9ff0-a2111d2d1564&cv_ct_cx=guitar&keywords=guitar&pd_rd_i=B0002H0JZC&pd_rd_r=6ec8ce0e-6c8d-49dc-bf3d-1df95d0d5bbe&pd_rd_w=5rwsY&pd_rd_wg=zkO9N&pf_rd_p=475b6729-7cda-4ab5-9ff0-a2111d2d1564&pf_rd_r=JWF8QEV9Y1ZCXZ66D0GP&qid=1691676699&sbo=RZvfv%2F%2FHxDF%2BO5021pAnSA%3D%3D&sr=1-3-93291ede-2a7a-4e75-a6c2-b89c29736263', 'https://www.amazon.in/Kadence-Classical-Guitar-String-STR-CN-1/dp/B07F9Q4SFB/ref=sxbs_aspa_sqa?c_c=533051941&content-id=amzn1.sym.475b6729-7cda-4ab5-9ff0-a2111d2d1564%3Aamzn1.sym.475b6729-7cda-4ab5-9ff0-a2111d2d1564&cv_ct_cx=guitar&keywords=guitar&pd_rd_i=B07F9Q4SFB&pd_rd_r=6ec8ce0e-6c8d-49dc-bf3d-1df95d0d5bbe&pd_rd_w=5rwsY&pd_rd_wg=zkO9N&pf_rd_p=475b6729-7cda-4ab5-9ff0-a2111d2d1564&pf_rd_r=JWF8QEV9Y1ZCXZ66D0GP&qid=1691676699&sbo=RZvfv%2F%2FHxDF%2BO5021pAnSA%3D%3D&sr=1-5-93291ede-2a7a-4e75-a6c2-b89c29736263', 'https://www.amazon.in/Valencia-Classical-Acoustic-Guitar-Natural/dp/B06Y436243/ref=sxbs_aspa_sqa?c_c=533051941&content-id=amzn1.sym.475b6729-7cda-4ab5-9ff0-a2111d2d1564%3Aamzn1.sym.475b6729-7cda-4ab5-9ff0-a2111d2d1564&cv_ct_cx=guitar&keywords=guitar&pd_rd_i=B06Y436243&pd_rd_r=6ec8ce0e-6c8d-49dc-bf3d-1df95d0d5bbe&pd_rd_w=5rwsY&pd_rd_wg=zkO9N&pf_rd_p=475b6729-7cda-4ab5-9ff0-a2111d2d1564&pf_rd_r=JWF8QEV9Y1ZCXZ66D0GP&qid=1691676699&sbo=RZvfv%2F%2FHxDF%2BO5021pAnSA%3D%3D&sr=1-7-93291ede-2a7a-4e75-a6c2-b89c29736263', 'https://www.amazon.in/Juarez-Acoustic-Cutaway-038C-Strings/dp/B017NPCSLI/ref=sxbs_aspa_sqa?c_c=621615956&content-id=amzn1.sym.475b6729-7cda-4ab5-9ff0-a2111d2d1564%3Aamzn1.sym.475b6729-7cda-4ab5-9ff0-a2111d2d1564&cv_ct_cx=guitar&keywords=guitar&pd_rd_i=B017NPCSLI&pd_rd_r=6ec8ce0e-6c8d-49dc-bf3d-1df95d0d5bbe&pd_rd_w=5rwsY&pd_rd_wg=zkO9N&pf_rd_p=475b6729-7cda-4ab5-9ff0-a2111d2d1564&pf_rd_r=JWF8QEV9Y1ZCXZ66D0GP&qid=1691676699&sbo=RZvfv%2F%2FHxDF%2BO5021pAnSA%3D%3D&sr=1-2-93291ede-2a7a-4e75-a6c2-b89c29736263', 'https://www.amazon.in/Intern-INT-38C-Acoustic-Guitar-Black/dp/B073B6TQQY/ref=sxbs_aspa_sqa?c_c=621615956&content-id=amzn1.sym.475b6729-7cda-4ab5-9ff0-a2111d2d1564%3Aamzn1.sym.475b6729-7cda-4ab5-9ff0-a2111d2d1564&cv_ct_cx=guitar&keywords=guitar&pd_rd_i=B073B6TQQY&pd_rd_r=6ec8ce0e-6c8d-49dc-bf3d-1df95d0d5bbe&pd_rd_w=5rwsY&pd_rd_wg=zkO9N&pf_rd_p=475b6729-7cda-4ab5-9ff0-a2111d2d1564&pf_rd_r=JWF8QEV9Y1ZCXZ66D0GP&qid=1691676699&sbo=RZvfv%2F%2FHxDF%2BO5021pAnSA%3D%3D&sr=1-4-93291ede-2a7a-4e75-a6c2-b89c29736263', 'https://www.amazon.in/Yamaha-F280-Acoustic-Guitar-Natural/dp/B08317Y4VP/ref=sxbs_aspa_sqa?c_c=621615956&content-id=amzn1.sym.475b6729-7cda-4ab5-9ff0-a2111d2d1564%3Aamzn1.sym.475b6729-7cda-4ab5-9ff0-a2111d2d1564&cv_ct_cx=guitar&keywords=guitar&pd_rd_i=B08317Y4VP&pd_rd_r=6ec8ce0e-6c8d-49dc-bf3d-1df95d0d5bbe&pd_rd_w=5rwsY&pd_rd_wg=zkO9N&pf_rd_p=475b6729-7cda-4ab5-9ff0-a2111d2d1564&pf_rd_r=JWF8QEV9Y1ZCXZ66D0GP&qid=1691676699&sbo=RZvfv%2F%2FHxDF%2BO5021pAnSA%3D%3D&sr=1-6-93291ede-2a7a-4e75-a6c2-b89c29736263', 'https://www.amazon.in/JUAREZ-JRZ38C-Acoustic-Sunburst-Strings/dp/B01FYYTDTU/ref=sxbs_aspa_sqa?c_c=621615956&content-id=amzn1.sym.475b6729-7cda-4ab5-9ff0-a2111d2d1564%3Aamzn1.sym.475b6729-7cda-4ab5-9ff0-a2111d2d1564&cv_ct_cx=guitar&keywords=guitar&pd_rd_i=B01FYYTDTU&pd_rd_r=6ec8ce0e-6c8d-49dc-bf3d-1df95d0d5bbe&pd_rd_w=5rwsY&pd_rd_wg=zkO9N&pf_rd_p=475b6729-7cda-4ab5-9ff0-a2111d2d1564&pf_rd_r=JWF8QEV9Y1ZCXZ66D0GP&qid=1691676699&sbo=RZvfv%2F%2FHxDF%2BO5021pAnSA%3D%3D&sr=1-8-93291ede-2a7a-4e75-a6c2-b89c29736263', 'https://www.amazon.in/sspa/click?ie=UTF8&spc=MTozMzk3NzYzMTE2NjUzOTQ6MTY5MTY3NjcwMTpzcF9hdGZfbmV4dDozMDAwMzEzMDE2NTI4MzI6OjA6Og&url=%2FImaginea%25C2%25AE-Acoustic-Beginners-Premium-Cutaway%2Fdp%2FB0CDS99DSG%2Fref%3Dsr_1_49_sspa%3Fkeywords%3Dguitar%26qid%3D1691676701%26sr%3D8-49-spons%26sp_csd%3Dd2lkZ2V0TmFtZT1zcF9hdGZfbmV4dA%26psc%3D1', 'https://www.amazon.in/sspa/click?ie=UTF8&spc=MTozMzk3NzYzMTE2NjUzOTQ6MTY5MTY3NjcwMTpzcF9hdGZfbmV4dDoyMDAzMTY4ODIyNjMwMTo6MDo6&url=%2FGUITAR-BRO-Acoustic-Beginner-Accessories%2Fdp%2FB07TC7TWCR%2Fref%3Dsr_1_50_sspa%3Fkeywords%3Dguitar%26qid%3D1691676701%26sr%3D8-50-spons%26sp_csd%3Dd2lkZ2V0TmFtZT1zcF9hdGZfbmV4dA%26psc%3D1', 'https://www.amazon.in/sspa/click?ie=UTF8&spc=MTozMzk3NzYzMTE2NjUzOTQ6MTY5MTY3NjcwMTpzcF9hdGZfbmV4dDozMDAwMTkwNzMyODEwMzI6OjA6Og&url=%2FNutCor-Electronic-Musical-Mini-Guitar%2Fdp%2FB07GN9BVH1%2Fref%3Dsr_1_51_sspa%3Fkeywords%3Dguitar%26qid%3D1691676701%26sr%3D8-51-spons%26sp_csd%3Dd2lkZ2V0TmFtZT1zcF9hdGZfbmV4dA%26psc%3D1', 'https://www.amazon.in/sspa/click?ie=UTF8&spc=MTozMzk3NzYzMTE2NjUzOTQ6MTY5MTY3NjcwMTpzcF9hdGZfbmV4dDoyMDAzNDkyMTAxMjU5ODo6MDo6&url=%2FIbanez-MD39C-NT-Cutaway-Acoustic-Polishing%2Fdp%2FB084BQJCP8%2Fref%3Dsr_1_52_sspa%3Fkeywords%3Dguitar%26qid%3D1691676701%26sr%3D8-52-spons%26sp_csd%3Dd2lkZ2V0TmFtZT1zcF9hdGZfbmV4dA%26psc%3D1', 'https://www.amazon.in/Fender-Dread-String-Acoustic-Guitar/dp/B07RM4B5LJ/ref=sr_1_53?keywords=guitar&qid=1691676701&sr=8-53', 'https://www.amazon.in/Kadence-Professional-Guitar-Sunburst-Strings/dp/B07SXH9JKX/ref=sr_1_54?keywords=guitar&qid=1691676701&sr=8-54', 'https://www.amazon.in/Fender-FA-345CE-Auditorium-Bodied-Acoustic/dp/B07BCN55VP/ref=sr_1_55?keywords=guitar&qid=1691676701&sr=8-55', 'https://www.amazon.in/Standzo-Yamaha-F280-Acoustic-Natural/dp/B08G556DD9/ref=sr_1_56?keywords=guitar&qid=1691676701&sr=8-56', 'https://www.amazon.in/Acoustic-Humidity-resistant-resonance-Plectrums/dp/B09RQZG25Q/ref=sr_1_57?keywords=guitar&qid=1691676701&sr=8-57', 'https://www.amazon.in/Yamaha-APX600-NA-Acoustic-Electric-Natural/dp/B078WYGGHS/ref=sr_1_58?keywords=guitar&qid=1691676701&sr=8-58', 'https://www.amazon.in/Juarez-Acoustic-Guitar-Cutaway-JRZ38CT/dp/B01N3TTYJQ/ref=sr_1_49?keywords=guitar&qid=1691676701&sr=8-49', 'https://www.amazon.in/Intern-INT-38C-RD-G-Guitar-Kit-Red/dp/B07K959RKX/ref=sr_1_50?keywords=guitar&qid=1691676701&sr=8-50', 'https://www.amazon.in/Yamaha-Classical-Guitar-C40-02/dp/B003UGCUFE/ref=sr_1_51?keywords=guitar&qid=1691676701&sr=8-51', 'https://www.amazon.in/Ultimate-Concert-Cutaway-Acoustic-Bajaao/dp/B08WHWKKV5/ref=sr_1_52?keywords=guitar&qid=1691676701&sr=8-52', 'https://www.amazon.in/Martin-Smith-W-101-SB-PK-Acoustic-Guitar/dp/B019MY0ZGI/ref=sr_1_53?keywords=guitar&qid=1691676701&sr=8-53', 'https://www.amazon.in/Juarez-Acoustic-Cutaway-BK-Strings/dp/B076T3RHMG/ref=sr_1_54?keywords=guitar&qid=1691676701&sr=8-54', 'https://www.amazon.in/Yamaha-F370-Acoustic-Guitar-Natural/dp/B000WITPJM/ref=sr_1_55?keywords=guitar&qid=1691676701&sr=8-55', 'https://www.amazon.in/Donner-Silent-Guitar-Mahogany/dp/B09Q8CXL2K/ref=sr_1_56?keywords=guitar&qid=1691676701&sr=8-56', 'https://www.amazon.in/Dreadnought-Acoustic-Gig-Bag-Strings-Polishing/dp/B0BJJRJVHY/ref=sr_1_57?keywords=guitar&qid=1691676701&sr=8-57', 'https://www.amazon.in/YAMAHA-NATURAL-CONCERT-CUTAWAY-GUITAR/dp/B08KW4DRKL/ref=sr_1_58?keywords=guitar&qid=1691676701&sr=8-58', 'https://www.amazon.in/sspa/click?ie=UTF8&spc=MTozMzk3NzYzMTE2NjUzOTQ6MTY5MTY3NjcwMTpzcF9tdGY6MjAxNjM5MTMwNTkwOTg6OjA6Og&url=%2FDEVICE-URBAN-INFOTECH-Acoustic-Beginners%2Fdp%2FB0C6DVVVCC%2Fref%3Dsr_1_59_sspa%3Fkeywords%3Dguitar%26qid%3D1691676701%26sr%3D8-59-spons%26sp_csd%3Dd2lkZ2V0TmFtZT1zcF9tdGY%26psc%3D1', 'https://www.amazon.in/sspa/click?ie=UTF8&spc=MTozMzk3NzYzMTE2NjUzOTQ6MTY5MTY3NjcwMTpzcF9tdGY6MzAwMDMxMzAxNjUyOTMyOjowOjo&url=%2FImaginea%25C2%25AE-Sunburst-Acoustic-Beginners-Students%2Fdp%2FB0C6Y2Y8HS%2Fref%3Dsr_1_60_sspa%3Fkeywords%3Dguitar%26qid%3D1691676701%26sr%3D8-60-spons%26sp_csd%3Dd2lkZ2V0TmFtZT1zcF9tdGY%26psc%3D1', 'https://www.amazon.in/Intern-INT-38C-SB-G-Guitar-Kit-Sunburst/dp/B07K8WLPLH/ref=sr_1_61?keywords=guitar&qid=1691676701&sr=8-61', 'https://www.amazon.in/Blueberry-Acoustic-Inbuilt-Strings-Classic/dp/B09VLF8B8G/ref=sr_1_62?keywords=guitar&qid=1691676701&sr=8-62', 'https://www.amazon.in/EA40TBK-Premium-Spruce-Top-Cutaway-Acoustic/dp/B0BW3QYHV1/ref=sr_1_63?keywords=guitar&qid=1691676701&sr=8-63', 'https://www.amazon.in/Blueberry-VIP-341-Natural-Acoustic/dp/B0BVVJ8VG5/ref=sr_1_64?keywords=guitar&qid=1691676701&sr=8-64', 'https://www.amazon.in/JRZ38C-Strings-Acoustic-Cutaway-Mahogany/dp/B071JM8C6T/ref=sr_1_65?keywords=guitar&qid=1691676701&sr=8-65', 'https://www.amazon.in/Kadence-Astroman-Electric-Guitars-Bridge/dp/B0C7CMNTWD/ref=sr_1_66?keywords=guitar&qid=1691676701&sr=8-66', 'https://www.amazon.in/JRZ38C-VTS-Strings-Acoustic-Cutaway/dp/B072MFLQC9/ref=sr_1_67?keywords=guitar&qid=1691676701&sr=8-67', 'https://www.amazon.in/Fender-Dread-String-Acoustic-Guitar/dp/B07RL6VG3H/ref=sr_1_68?keywords=guitar&qid=1691676701&sr=8-68', 'https://www.amazon.in/Medellin-Acoustic-Guitar-Carbon-Learning/dp/B09MSGMQ3Y/ref=sr_1_69?keywords=guitar&qid=1691676701&sr=8-69', 'https://www.amazon.in/Intern-INT-38C-Acoustic-Guitar-Natural/dp/B073B4D22T/ref=sr_1_70?keywords=guitar&qid=1691676701&sr=8-70', 'https://www.amazon.in/Blueberry-B-D38-Acoustic-inbuilt-Strings/dp/B07PCRZ1CD/ref=sr_1_71?keywords=guitar&qid=1691676701&sr=8-71', 'https://www.amazon.in/Kadence-Concert-Ukulele-Equalizer-Binding/dp/B08PNSGQBL/ref=sr_1_72?keywords=guitar&qid=1691676701&sr=8-72', 'https://www.amazon.in/Givson-Ketostics-SUNBRUST-Acoustic-Plectrums/dp/B08KS4F33Q/ref=sr_1_73?keywords=guitar&qid=1691676701&sr=8-73', 'https://www.amazon.in/BLUEBERRY-VIP-403-TrussRod-Acoustic-Basswood/dp/B0BVZ3XYXW/ref=sr_1_74?keywords=guitar&qid=1691676701&sr=8-74', 'https://www.amazon.in/Blueberry-38C-Acoustic-Strings-Sunburst/dp/B08KLMQN88/ref=sr_1_75?keywords=guitar&qid=1691676701&sr=8-75', 'https://www.amazon.in/Carlton-Rosewood-Fretboard-Acoustic-K-Retail/dp/B07KK8P9VB/ref=sr_1_76?keywords=guitar&qid=1691676701&sr=8-76', 'https://www.amazon.in/JUAREZ-Acoustic-Guitar-TBLS-Sunburst/dp/B08FV1B5VC/ref=sr_1_77?keywords=guitar&qid=1691676701&sr=8-77', 'https://www.amazon.in/Kadence-Frontier-Acoustic-Guitar-Equalizer/dp/B01HRIHJWY/ref=sr_1_78?keywords=guitar&qid=1691676701&sr=8-78', 'https://www.amazon.in/Juarez-JRZ38C-ASH-Strings-Acoustic/dp/B072JTPNZC/ref=sr_1_79?keywords=guitar&qid=1691676701&sr=8-79', 'https://www.amazon.in/Henrix-Handed-Cutway-Acoustic-Polishing/dp/B08R3DKYGM/ref=sr_1_80?keywords=guitar&qid=1691676701&sr=8-80', 'https://www.amazon.in/Kadence-Acoustica-Ash-Wood-Equlizer/dp/B0757H5P13/ref=sr_1_81?keywords=guitar&qid=1691676701&sr=8-81', 'https://www.amazon.in/Kadence-Frontier-Acoustic-Foldable-Strings/dp/B01CJJG882/ref=sr_1_82?keywords=guitar&qid=1691676701&sr=8-82', 'https://www.amazon.in/FX280-acoustic-Dreadnought-Tobacco-Sunburst/dp/B09HR7BXGW/ref=sr_1_83?keywords=guitar&qid=1691676701&sr=8-83', 'https://www.amazon.in/Intern-INT-38C-L-BLS-Left-Acoustic-Guitar/dp/B07J4VX4D7/ref=sr_1_84?keywords=guitar&qid=1691676701&sr=8-84', 'https://www.amazon.in/enterprise-Acoustic-D%C3%A9cor-Guitar-Educational/dp/B0CBPG62KK/ref=sr_1_85?keywords=guitar&qid=1691676701&sr=8-85', 'https://www.amazon.in/Fender-String-Cutaway-Acoustic-Guitar/dp/B07YX5W8MV/ref=sr_1_86?keywords=guitar&qid=1691676701&sr=8-86', 'https://www.amazon.in/Yamaha-F310-Acoustic-Guitar-Natural/dp/B08Z3C1GRM/ref=sr_1_87?keywords=guitar&qid=1691676701&sr=8-87', 'https://www.amazon.in/Blueberry-VIP-301-30Inch-Acoustic-Natural/dp/B0BVVFNXMD/ref=sr_1_88?keywords=guitar&qid=1691676701&sr=8-88', 'https://www.amazon.in/Medellin-Acoustic-Guitar-Purple-Learning/dp/B09MSGPQ43/ref=sr_1_89?keywords=guitar&qid=1691676701&sr=8-89', 'https://www.amazon.in/YAMAHA-FS80C-CONCERT-CUTAWAY-GUITAR/dp/B08WBBVMVJ/ref=sr_1_90?keywords=guitar&qid=1691676701&sr=8-90', 'https://www.amazon.in/Medellin-Acoustic-LEARNING-beginners-handrest/dp/B09MSKKHJC/ref=sr_1_91?keywords=guitar&qid=1691676701&sr=8-91', 'https://www.amazon.in/NOVA-SP1-Acoustic-AcousticPlus-Instrument/dp/B0BHZBSK2X/ref=sr_1_92?keywords=guitar&qid=1691676701&sr=8-92', 'https://www.amazon.in/sspa/click?ie=UTF8&spc=MTo2MzQwNDYwMTg2MzgyMzQwOjE2OTE2NzY3MTE6c3BfYXRmX25leHQ6MzAwMDMxMzAxNjUyNjMyOjowOjo&url=%2FImaginea%25C2%25AE-Acoustic-Beginners-Premium-Cutaway%2Fdp%2FB0CDS85MWY%2Fref%3Dsr_1_97_sspa%3Fkeywords%3Dguitar%26qid%3D1691676711%26sr%3D8-97-spons%26sp_csd%3Dd2lkZ2V0TmFtZT1zcF9hdGZfbmV4dA%26psc%3D1', 'https://www.amazon.in/Kadence-Slowhand-Premium-Acoustic-Instrument/dp/B077SZ667X/ref=sr_1_98?keywords=guitar&qid=1691676711&sr=8-98', 'https://www.amazon.in/215-Rosewood-Fretboard-Acoustic-Strings/dp/B0C5458VCL/ref=sr_1_99?keywords=guitar&qid=1691676711&sr=8-99', 'https://www.amazon.in/Kadence-Frontier-Acoustic-Sunburst-Strings/dp/B07T5DMPZ3/ref=sr_1_100?keywords=guitar&qid=1691676711&sr=8-100', 'https://www.amazon.in/Blueberry-VIP-340-34Inch-Acoustic-Guitar/dp/B0BVR4M8MC/ref=sr_1_101?keywords=guitar&qid=1691676711&sr=8-101', 'https://www.amazon.in/Kadence-Guitar-learning-Acoustic-Lavender/dp/B0CD4CNSPJ/ref=sr_1_102?keywords=guitar&qid=1691676711&sr=8-102', 'https://www.amazon.in/FS80C-Acoustic-Cutaway-Concert-Plectrums/dp/B09HSHGD3B/ref=sr_1_103?keywords=guitar&qid=1691676711&sr=8-103', 'https://www.amazon.in/Medellin-Acoustic-Guitar-learning-Strings/dp/B0CCNS2NDX/ref=sr_1_104?keywords=guitar&qid=1691676711&sr=8-104', 'https://www.amazon.in/Blueberry-38C-Acoustic-Strings-Natural/dp/B08KLNFL2Y/ref=sr_1_105?keywords=guitar&qid=1691676711&sr=8-105', 'https://www.amazon.in/Juarez-JRZ-ST01-6-String-Electric-Without/dp/B01FYZSOHG/ref=sr_1_106?keywords=guitar&qid=1691676711&sr=8-106', 'https://www.amazon.in/Standard-Rosewood-Fretboard-Acoustic-K-Retail/dp/B07KLVKW5Z/ref=sr_1_97?keywords=guitar&qid=1691676711&sr=8-97', 'https://www.amazon.in/Traveller-Acoustic-Guitar-Strings-Polishing/dp/B07RK9962M/ref=sr_1_98?keywords=guitar&qid=1691676711&sr=8-98', 'https://www.amazon.in/Ibanez-Performance-PC12MHCEOPN-Concert-Acoustic-Electric/dp/B06XNTSGR7/ref=sr_1_99?keywords=guitar&qid=1691676711&sr=8-99', 'https://www.amazon.in/JUAREZ-JRZ38C-Handed-Acoustic-Strings/dp/B01FYYTDW2/ref=sr_1_100?keywords=guitar&qid=1691676711&sr=8-100', 'https://www.amazon.in/Ibanez-MD39C-NT-Cutaway-Acoustic-Polishing/dp/B084BQJCP8/ref=sr_1_101?keywords=guitar&qid=1691676711&sr=8-101', 'https://www.amazon.in/Junior-Acoustic-Guitar-Strings-Polishing/dp/B07RMJ88G2/ref=sr_1_102?keywords=guitar&qid=1691676711&sr=8-102', 'https://www.amazon.in/Yamaha-PAC012-Electric-Guitar-Metallic/dp/B000MLY7XS/ref=sr_1_103?keywords=guitar&qid=1691676711&sr=8-103', 'https://www.amazon.in/Kadence-Acoustica-Acoustic-Equlizer-Accessories/dp/B09BVH7BMJ/ref=sr_1_104?keywords=guitar&qid=1691676711&sr=8-104', 'https://www.amazon.in/Yamaha-FS100C-Acoustic-Guitars-Natural/dp/B00QKD79QE/ref=sr_1_105?keywords=guitar&qid=1691676711&sr=8-105', 'https://www.amazon.in/Belear-Spruce-Cutaway-Acoustic-Guitar/dp/B0BJBRVTJB/ref=sr_1_106?keywords=guitar&qid=1691676711&sr=8-106', 'https://www.amazon.in/Vault-CL-20-size-Classical-Guitar/dp/B097NB12H3/ref=sr_1_107?keywords=guitar&qid=1691676711&sr=8-107', 'https://www.amazon.in/Belear-I-280-WBL-Couturier-Cutaway-Acoustic/dp/B0BPSX7WHQ/ref=sr_1_108?keywords=guitar&qid=1691676711&sr=8-108', 'https://www.amazon.in/Fender-0930307021-SA-105CE-Dreadnought-Electric/dp/B009X3PLRC/ref=sr_1_109?keywords=guitar&qid=1691676711&sr=8-109', 'https://www.amazon.in/Blueberry-VlP-405-TrussRod-Acoustic-Classic/dp/B0BVZBL1VJ/ref=sr_1_110?keywords=guitar&qid=1691676711&sr=8-110', 'https://www.amazon.in/Kadence-Acoustica-Acoustic-Guitar-Zebra/dp/B07KXNKLJ2/ref=sr_1_111?keywords=guitar&qid=1691676711&sr=8-111', 'https://www.amazon.in/Kadence-A281BK-Professional-Acoustic-Rosewood/dp/B0CD7D6C6R/ref=sr_1_112?keywords=guitar&qid=1691676711&sr=8-112', 'https://www.amazon.in/Blueberry-B-D38-Acoustic-Inbuilt-Sunburst/dp/B08LNP8KGS/ref=sr_1_113?keywords=guitar&qid=1691676711&sr=8-113', 'https://www.amazon.in/Yamaha-FSX80C-Acoustic-Cutaway-Natural/dp/B09HL3GFZF/ref=sr_1_114?keywords=guitar&qid=1691676711&sr=8-114', 'https://www.amazon.in/Cort-GA-MEDX-Electro-Acoustic-Guitar/dp/B09Y3FVX6Y/ref=sr_1_115?keywords=guitar&qid=1691676711&sr=8-115', 'https://www.amazon.in/Tanglewood-Crossroads-Acoustic-Strings-Orchestra/dp/B01IA2I0BK/ref=sr_1_116?keywords=guitar&qid=1691676711&sr=8-116', 'https://www.amazon.in/Kadence-Astro-Electric-Guitar-FRETS/dp/B09YHPH1MZ/ref=sr_1_117?keywords=guitar&qid=1691676711&sr=8-117', 'https://www.amazon.in/Fender-CD-60SCE-Electro-Acoustic-Guitar-black/dp/B09BVZ57LM/ref=sr_1_118?keywords=guitar&qid=1691676711&sr=8-118', 'https://www.amazon.in/Festra-38C-Acoustic-Strings-Sunburst/dp/B09JT67MS5/ref=sr_1_119?keywords=guitar&qid=1691676711&sr=8-119', 'https://www.amazon.in/Belear-I480-CRD-Inch-Acoustic-Guitar/dp/B0BSGP7YP2/ref=sr_1_120?keywords=guitar&qid=1691676711&sr=8-120', 'https://www.amazon.in/Yamaha-FSX80C-Acoustic-Cutaway-Guitar/dp/B09HL5WFDX/ref=sr_1_121?keywords=guitar&qid=1691676711&sr=8-121', 'https://www.amazon.in/Kadence-Frontier-Acoustic-Equalizer-Natural/dp/B01HRIOSGE/ref=sr_1_122?keywords=guitar&qid=1691676711&sr=8-122', 'https://www.amazon.in/Kadence-Frontier-Acoustic-Equalizer-Foldable/dp/B01I50UMPO/ref=sr_1_123?keywords=guitar&qid=1691676711&sr=8-123', 'https://www.amazon.in/Yamaha-6-String-Acoustic-Right-Handed-Sunburst/dp/B000WITGQO/ref=sr_1_124?keywords=guitar&qid=1691676711&sr=8-124', 'https://www.amazon.in/Pluto-HW39C-201-Medium-Cutaway-Acoustic/dp/B014R94EE2/ref=sr_1_125?keywords=guitar&qid=1691676711&sr=8-125', 'https://www.amazon.in/Vault-Jazz-Bass-4-String-Guitar/dp/B09ZXGM7C3/ref=sr_1_126?keywords=guitar&qid=1691676711&sr=8-126', 'https://www.amazon.in/Acoustic-Cutaway-RDS-Strings-Sunburst/dp/B076QGY91P/ref=sr_1_127?keywords=guitar&qid=1691676711&sr=8-127', 'https://www.amazon.in/Pluto-HW39C-201-Medium-Cutaway-Acoustic/dp/B0154UQEJG/ref=sr_1_128?keywords=guitar&qid=1691676711&sr=8-128', 'https://www.amazon.in/Acoustic-plectrums-stability-resistance-Electric/dp/B09YH937P2/ref=sr_1_129?keywords=guitar&qid=1691676711&sr=8-129', 'https://www.amazon.in/Kadence-Frontier-Sunburst-Acoustic-strings/dp/B01M23QBPZ/ref=sr_1_130?keywords=guitar&qid=1691676711&sr=8-130', 'https://www.amazon.in/Ibanez-V50NJP-VS-Acoustic-Dreadnought-Sunburst/dp/B00775TDU4/ref=sr_1_131?keywords=guitar&qid=1691676711&sr=8-131', 'https://www.amazon.in/Blueberry-Acoustic-Guitar-Strings-Redburst/dp/B09N9R525J/ref=sr_1_132?keywords=guitar&qid=1691676711&sr=8-132', 'https://www.amazon.in/CHANGER-acoustic-guitar-string-plectrums/dp/B0BBTYZFKY/ref=sr_1_133?keywords=guitar&qid=1691676711&sr=8-133', 'https://www.amazon.in/Hovner-Royal-Metallic-Rosewood-Fretboard/dp/B09RG6ZMWL/ref=sr_1_134?keywords=guitar&qid=1691676711&sr=8-134', 'https://www.amazon.in/Yamaha-Electric-Acoustic-FSX80C-Dreadnought-Plectrums/dp/B09HSJ6GPQ/ref=sr_1_135?keywords=guitar&qid=1691676711&sr=8-135']\n"
     ]
    }
   ],
   "source": [
    "print(gurl)"
   ]
  },
  {
   "cell_type": "code",
   "execution_count": 38,
   "id": "2a4b161c",
   "metadata": {},
   "outputs": [
    {
     "data": {
      "text/plain": [
       "243"
      ]
     },
     "execution_count": 38,
     "metadata": {},
     "output_type": "execute_result"
    }
   ],
   "source": [
    "len(gname)"
   ]
  },
  {
   "cell_type": "code",
   "execution_count": 23,
   "id": "b4e4e438",
   "metadata": {},
   "outputs": [
    {
     "name": "stdout",
     "output_type": "stream",
     "text": [
      "['Kadence', 'Henrix', 'Medellin', 'Medellin', 'JUAREZ', 'Intern', 'YAMAHA', 'JUAREZ', 'Intern', 'Ibanez', 'JUAREZ', 'Henrix', 'YAMAHA', 'YAMAHA', 'JUAREZ', 'Kadence', 'Intern', 'JUAREZ', 'Kadence', 'JUAREZ', 'Medellin', 'VAULT', '_', 'Guitar Bro', 'Kadence', 'Medellin', 'Intern', 'Intern', 'Intern', 'REVEL', 'Medellin', 'Intern', 'Intern', 'Intern', 'Neowood', 'Medellin', 'Intern', 'Intern', 'JUAREZ', 'blueberry', 'Intern', 'YAMAHA', 'YAMAHA', 'YAMAHA', 'Intern', 'VAULT', 'JUAREZ', 'JUAREZ', 'HOVNER', 'blueberry', 'JUAREZ', 'enya', 'Medellin', 'JUAREZ', 'JUAREZ', 'Intern', 'musicalworks.in', 'IMAGINEA', \"Gibz's guitar\", 'YAMAHA', \"D'Addario\", 'Kadence', 'Valencia']\n"
     ]
    }
   ],
   "source": [
    "print(gname)"
   ]
  },
  {
   "cell_type": "code",
   "execution_count": null,
   "id": "bde30651",
   "metadata": {},
   "outputs": [],
   "source": []
  },
  {
   "cell_type": "code",
   "execution_count": 39,
   "id": "193c5c5e",
   "metadata": {},
   "outputs": [
    {
     "data": {
      "text/html": [
       "<div>\n",
       "<style scoped>\n",
       "    .dataframe tbody tr th:only-of-type {\n",
       "        vertical-align: middle;\n",
       "    }\n",
       "\n",
       "    .dataframe tbody tr th {\n",
       "        vertical-align: top;\n",
       "    }\n",
       "\n",
       "    .dataframe thead th {\n",
       "        text-align: right;\n",
       "    }\n",
       "</style>\n",
       "<table border=\"1\" class=\"dataframe\">\n",
       "  <thead>\n",
       "    <tr style=\"text-align: right;\">\n",
       "      <th></th>\n",
       "      <th>Product URL</th>\n",
       "    </tr>\n",
       "  </thead>\n",
       "  <tbody>\n",
       "    <tr>\n",
       "      <th>0</th>\n",
       "      <td>https://www.amazon.in/sspa/click?ie=UTF8&amp;spc=M...</td>\n",
       "    </tr>\n",
       "    <tr>\n",
       "      <th>1</th>\n",
       "      <td>https://www.amazon.in/sspa/click?ie=UTF8&amp;spc=M...</td>\n",
       "    </tr>\n",
       "    <tr>\n",
       "      <th>2</th>\n",
       "      <td>https://www.amazon.in/sspa/click?ie=UTF8&amp;spc=M...</td>\n",
       "    </tr>\n",
       "    <tr>\n",
       "      <th>3</th>\n",
       "      <td>https://www.amazon.in/sspa/click?ie=UTF8&amp;spc=M...</td>\n",
       "    </tr>\n",
       "    <tr>\n",
       "      <th>4</th>\n",
       "      <td>https://www.amazon.in/Juarez-Acoustic-Cutaway-...</td>\n",
       "    </tr>\n",
       "    <tr>\n",
       "      <th>...</th>\n",
       "      <td>...</td>\n",
       "    </tr>\n",
       "    <tr>\n",
       "      <th>165</th>\n",
       "      <td>https://www.amazon.in/Ibanez-V50NJP-VS-Acousti...</td>\n",
       "    </tr>\n",
       "    <tr>\n",
       "      <th>166</th>\n",
       "      <td>https://www.amazon.in/Blueberry-Acoustic-Guita...</td>\n",
       "    </tr>\n",
       "    <tr>\n",
       "      <th>167</th>\n",
       "      <td>https://www.amazon.in/CHANGER-acoustic-guitar-...</td>\n",
       "    </tr>\n",
       "    <tr>\n",
       "      <th>168</th>\n",
       "      <td>https://www.amazon.in/Hovner-Royal-Metallic-Ro...</td>\n",
       "    </tr>\n",
       "    <tr>\n",
       "      <th>169</th>\n",
       "      <td>https://www.amazon.in/Yamaha-Electric-Acoustic...</td>\n",
       "    </tr>\n",
       "  </tbody>\n",
       "</table>\n",
       "<p>170 rows × 1 columns</p>\n",
       "</div>"
      ],
      "text/plain": [
       "                                           Product URL\n",
       "0    https://www.amazon.in/sspa/click?ie=UTF8&spc=M...\n",
       "1    https://www.amazon.in/sspa/click?ie=UTF8&spc=M...\n",
       "2    https://www.amazon.in/sspa/click?ie=UTF8&spc=M...\n",
       "3    https://www.amazon.in/sspa/click?ie=UTF8&spc=M...\n",
       "4    https://www.amazon.in/Juarez-Acoustic-Cutaway-...\n",
       "..                                                 ...\n",
       "165  https://www.amazon.in/Ibanez-V50NJP-VS-Acousti...\n",
       "166  https://www.amazon.in/Blueberry-Acoustic-Guita...\n",
       "167  https://www.amazon.in/CHANGER-acoustic-guitar-...\n",
       "168  https://www.amazon.in/Hovner-Royal-Metallic-Ro...\n",
       "169  https://www.amazon.in/Yamaha-Electric-Acoustic...\n",
       "\n",
       "[170 rows x 1 columns]"
      ]
     },
     "execution_count": 39,
     "metadata": {},
     "output_type": "execute_result"
    }
   ],
   "source": [
    "df=pd.DataFrame({'Product URL':gurl})\n",
    "df"
   ]
  },
  {
   "cell_type": "code",
   "execution_count": 40,
   "id": "563a6aaf",
   "metadata": {},
   "outputs": [
    {
     "data": {
      "text/plain": [
       "170"
      ]
     },
     "execution_count": 40,
     "metadata": {},
     "output_type": "execute_result"
    }
   ],
   "source": [
    "len(gurl)"
   ]
  },
  {
   "cell_type": "code",
   "execution_count": 32,
   "id": "9d6c2d8e",
   "metadata": {},
   "outputs": [],
   "source": [
    "for url in gurl:\n",
    "    driver.get(url)\n",
    "    time.sleep(3)\n",
    "    \n",
    "    try:\n",
    "        brand=driver.find_element(By.XPATH,'//span[@class=\"a-size-base po-break-word\"]')\n",
    "        gname.append(brand.text)\n",
    "        nproduct=driver.find_element(By.XPATH,'//span[@class=\"a-size-large product-title-word-break\"]')\n",
    "        gproduct.append(nproduct.text)\n",
    "        price=driver.find_element(By.XPATH,'//span[@class=\"a-price-whole\"]')\n",
    "        gprice.append(price.text)\n",
    "        ereturn=driver.find_element(By.XPATH,'/html/body/div[2]/div[2]/div[5]/div[3]/div[4]/div[24]/div[2]/div/div/div/div[2]/div/ol/li[3]/div/span/div[2]/span')\n",
    "        greturn.append(ereturn.text)\n",
    "        delivery=driver.find_element(By.XPATH,'//div[@class=\"a-spacing-base\"]')\n",
    "        gdelivery.append(delivery.text)\n",
    "        availability=driver.find_element(By.XPATH,'//span[@class=\"a-size-medium a-color-success\"]')\n",
    "        gavailability.append(availability.text)\n",
    "    except NoSuchElementException:\n",
    "        gname.append('_')\n",
    "        gproduct.append('_')\n",
    "        gprice.append('_')\n",
    "        greturn.append('_')\n",
    "        gdelivery.append('_')\n",
    "        gavailability.append('_')"
   ]
  },
  {
   "cell_type": "code",
   "execution_count": 36,
   "id": "68789f43",
   "metadata": {},
   "outputs": [
    {
     "data": {
      "text/plain": [
       "243"
      ]
     },
     "execution_count": 36,
     "metadata": {},
     "output_type": "execute_result"
    }
   ],
   "source": [
    "len(gname)"
   ]
  },
  {
   "cell_type": "code",
   "execution_count": 52,
   "id": "35dcccb1",
   "metadata": {},
   "outputs": [
    {
     "name": "stdout",
     "output_type": "stream",
     "text": [
      "['Kadence', 'Kadence', 'Henrix', 'musicalworks.in', '_', 'JUAREZ']\n"
     ]
    }
   ],
   "source": [
    "print(gname)"
   ]
  },
  {
   "cell_type": "code",
   "execution_count": 37,
   "id": "1fd3e84f",
   "metadata": {},
   "outputs": [
    {
     "name": "stdout",
     "output_type": "stream",
     "text": [
      "['Kadence Frontier guitar with Online Guitar learning course , Wine Red Acoustic Guitar with Die Cast Keys, Set of Strings, Strap, Picks and Bag (Wine Red, Acoustic)', 'Henrix 38C 38 Inch Cutaway Acoustic Guitar With Dual Action Truss Rod, Gigbag, Picks, String Set, String Winder, Strap, Polishing Cloth & Ebook - Blue Burst', 'Medellin Acoustic Guitar (with guitar learning course) Neon Orange (Combo, Strings,Bag,Picks and guitar course)', 'Medellin Acoustic Guitar (with guitar learning course) Neon Pink (Combo, Strings,Bag,Picks and guitar course)', 'Juârez Acoustic Guitar, 38 Inch Cutaway, 038C with Bag, Strings, Pick and Strap, Black', 'Intern INT-38C Right hand Acoustic Guitar Kit, With Bag, Strings, Pick And Strap, Black, small', 'Yamaha F280 Acoustic Rosewood Guitar (Natural, Beige)', 'Juarez Lindenwood Acoustic Guitar Kit, 38 Inches Cutaway, 38C With Bag, Strings, Pick And Strap, 3TS Sunburst', '_', 'Intern INT-38C Lindenwood Acoustic Guitar Kit (Sunburst) With Carry Bag, Picks, Strings Set And Guitar Strap (Small)', 'Ibanez MD39C-NT Rose Wood Acoustic Guitar (Natural), Designed in Japan and Made Specially for India', '_', 'Juarez Lindenwood Acoustic Guitar Kit, 38 Inches Cutaway, 38C With Bag, Strings, Pick And Strap, TBS Transparent (Blue Sunburst)', '_', 'Henrix 40C 40-Inch Cutaway Acoustic Guitar with Dual Action Truss Rod, Gigbag, Picks, String Set, Strap, Cloth & Ebook - Natural', 'YAMAHA FX280 Natural Electro Acoustic Guitar', '_', 'Yamaha FS100C Acoustic Guitar, Black', 'Juarez Lindenwood Acoustic Guitar, 38 Inches Curved Body Cutaway, 38CUR With Bag, Strings, Pick And Strap (Black)', '_', 'Kadence rosewood Guitar Frontier Series, Electric Acoustic Black Guitar With EQ, Die Cast Keys, Set Of Strings, Strap, Picks And Bag (Black EQ, Electric Acoustic)', 'Intern INT-38C Acoustic Guitar Kit (Red)', 'Juarez JRZ-ST01 38 Inches Wood 6-String Electric Guitar, Right Handed, Full Black, With Case/Bag And Picks (Black)', '_', 'Kadence A281 Professional Acoustic Rosewood guitar (Natural, Beige)', 'Juârez JRZ38C/WH 6 Strings Acoustic Guitar 38 Inch Cutaway, Right Handed, White with Bag, Strings, Picks and Strap', 'Medellin Acoustic Guitar + (Free online learning Course) Neon Green with Strings,Bag,Picks and guitar strap.', 'Vault Traveller 34 Inch Acoustic Guitar With Truss Rod, Gig-Bag, Strap, Strings, Polishing Cloth, String Winder, Picks & E-Book - Natural Gloss', '_', 'GUITAR BRO - COMBO (Black Acoustic Rose Wood Guitar for Beginner, Guitar Learning Kit, Song Book, Video Lectures, Accessories like Pick, Bag)', '_', 'Kadence Frontier guitar with Online Guitar learning course , Wine Red Acoustic Guitar with Die Cast Keys, Set of Strings, Strap, Picks and Bag (Wine Red, Acoustic)', 'Medellin 38\" Acoustic Guitar premium wood, free online learning course, Set Of Strings, Strap, Bag and 3 Picks Blue', '_', 'Intern INT-38C Acoustic Guitar Kit (Blue)', 'INTERN 41 inches Acoustic Guitar with truss rod. Includes carry bag, strings pack, strap & plectrums. Premium Wooden durable built, tonal stability & for all age-groups(Electric Blue).', 'Intern INT-38C-BK-G Cutaway Right Handed Acoustic Guitar Kit, with Bag, Nickel Strings, Pick And Strap (Black) -6 Strings', 'Revel 38 Inches Lindenwood Cutaway Design Acoustic Guitar With Carry Bag And Plectrums. (sunburst)', 'Medellin 38\" Acoustic Guitar premium wood with adjustable Truss-rod, free online learning course, Set Of Strings, Strap, Bag and 3 Picks (Sunburst Truss Rod)…… (sun brust)', 'Intern 38C Ebony Wood Cutaway Design Acoustic Guitar with Picks And Carry Bag (Black)', 'Intern Int-38c Linden Wood Acoustic Guitar Kit with Carry Bag and Picks (Brown)', 'Intern INT-38C-VT-G 38 Incheses Cutaway Right HAnded lindenwood Acoustic Guitar Kit, With Bag, Strings, Pick And Strap (Violet, 6-Strings)', 'Neowood FLYM, Acoustic Guitar with Touch Pikup, Bag, Plectrums, finger Protectors & Neowood String Set (Wine red)', 'Medellin Acoustic Guitar (with guitar learning course) Neon Pink (Combo, Strings,Bag,Picks and guitar course)', 'INTERN 40 inches Acoustic Guitar with Pick-up & truss rod, carry bag, strings pack, strap & picks. Premium Wooden durable built, Best tonal stability with professional sound amplificaiton. (Natural).', '_', 'Intern INT-38C Natural Linden Wood Acoustic Guitar Kit with Carry Bag & Picks', 'JUAREZ Acoustic Guitar 3xE 1st String & 2 Pick Set JRGSE32', '_', 'Blueberry 38C, 38\" Acoustic Guitar Kit with Bag, Strap, One Pack Strings And Picks (Black)', '_', 'Intern Int-38c Sunburst Linden Wood Acoustic Guitar Kit with Carry Bag and Picks', 'YAMAHA F310, 6-Strings Rose Wood Acoustic Guitar, Natural', '_', 'Yamaha F280 Acoustic Guitar, Tobacco Brown Sunburst', '_', 'Yamaha F280 Acoustic wood Guitar, Tobacco own Sunburst With Bajaao Gig bag', 'Intern INT-38C 38 Incheses basswood-BLS-G Cutaway Right HAnded Acoustic Guitar Kit, With Bag, Strings, Pick And Strap (Blue, 6 Strings)', 'Vault EA20 Guitar Kit with Learn to Play Ebook, Bag, Strings, Straps, Picks, String winder & Polishing Cloth - 40 inch Cutaway Acoustic Guitar Black', 'JUAREZ JRZ-ST01, 6 Strings Linden Wood Electric Guitar, Right Handed with Bag/Case, 2 x Picks (3TS Sunburst)', '_', 'JUAREZ JRZ38C 38 Inches Lindenwood Right Handed Acoustic Guitar With Bag, Strings, Pick And Strap (Natural, Brown, 6 Strings)', 'Hovner 215 Black F-Cut Rosewood Fretboard Acoustic Guitar With Bag,Strap,1 Set of Extra Strings and 2 Picks By K-Retail', 'Blueberry, VIP-401, 40Inch TrussRod Acoustic Guitar Kit With 1 Bag, 1 Belt, 1 String Set And 2 Picks (Green)', '_', 'JUAREZ Fiésta 41 Inch Acoustic Guitar with Dual Action Truss Rod, 21 Frets Rosewood Fretboard & Bridge, Padded 5mm Cotton Bag, Cotton Strap, 2 Picks, Allen Key, Extra String Set, Natural', '_', 'Enya Nova Go Carbon Fiber Acoustic Guitar 1/2 Size Beginner Adult Travel Acustica Guitarra w/Starter Bundle Kit of Colorful Packaging, Acoustic Guitar Strap, Gig Bag, Cleaning Cloth, String(White)', 'Medellin Acoustic Guitar (with guitar learning course) Neon Orange (Combo, Strings,Bag,Picks and guitar course)', 'Juârez Lindenwood Acoustic Guitar, 38 Inches Cutaway, JRZ38C With Bag, Strings, Pick And Strap, Blue', '_', 'JUAREZ Wood Acoustic Guitar, [Left Handed] 96.52 Cm (38 Inch) Cutaway, 38Cl/Tbls With Bag, Strings, Pick And Strap, Blue Sunburst', '_', 'Intern INT-38C-NT-G 38 Incheses lindenwood Right HAnded Acoustic Guitar Kit With Bag, Strings, Pick And Strap (Natural, 6-Strings)', 'Musical Works Guitar, Acoustic Guitar, 40 Inch Cutaway, 038G with Bag, Strings, Pick and Strap, blue mat Colour Acoustic Guitar Cutaway 40 inch Full-size Beginner Guitar Package with Die Cast Keys, Set of Strings, Strap, Picks and Bag (blue maat, Acoustic) with Gig Bag, Tuner, Picks and Strap (Natural Bundle),', '_', 'Imaginea® 41 Inch Guitar 3TS Sunburst Beautiful Cutaway Design Acoustic Guitar with Dual Action Truss Rod for Beginners Students Adults', 'Gibz\\'s Guitar FT-G41 Frontier Series 41\" Jumbo Semi Acoustic Guitar With Die Cast Keys, Super Combo (Bag, 1 pack Strings, Strap, Picks, Capo (Black)', 'Yamaha 22.8 Inches Merantiwood Classical Guitar C40//02 (Brown)', \"D'Addario EJ27N Nylon Classical Normal Tension Guitar Strings\", '_', 'Kadence Classical Guitar Nylon String Normal Tensio STR-CN-1', '_', 'Valencia 200 Series 3/4 Size Classical Acoustic Guitar Natural (VC203-NAT)', '_', 'Juârez Acoustic Guitar, 38 Inch Cutaway, 038C with Bag, Strings, Pick and Strap, Black', 'Intern INT-38C Right hand Acoustic Guitar Kit, With Bag, Strings, Pick And Strap, Black, small', 'Yamaha F280 Acoustic Rosewood Guitar (Natural, Beige)', 'Juarez Lindenwood Acoustic Guitar Kit, 38 Inches Cutaway, 38C With Bag, Strings, Pick And Strap, 3TS Sunburst', '_', '_', 'GUITAR BRO - COMBO (Blue Acoustic Guitar for Beginner, Guitar Learning Kit, Song Book, Video Lectures, Accessories like Pick, Bag)', '_', \"NutCor Portable Electronic Musical Mini Guitar It's an Electronic Guitar Designed in a Mini Size for Easy Portability.\", '_', 'Ibanez MD39C-NT 39 Inches Rose Wood Cutaway Acoustic Guitar With Gig-Bag, Polishing Cloth And E-Book', '_', 'Fender Acoustic Guitar Dreadnought CD60 V3 Black 970110506', 'Kadence Frontier 34inch guitar for Kids, Travel Guitar for Adult Acoustic Guitar with Die Cast Keys, Set of Strings, Strap, Picks and Bag (Sunburst Guitar)', 'Fender Acoustic Guitar Auditorium Cutaway Electronics FA345CE 3-Tone Tea Burst 971343064', '_', 'Standzo Yamaha F280 Acoustic Guitar, Natural with Padded Carry Bag, Belt, Picks, String and Learning Book Combo Pack', '_', 'INTERN Cutaway Design Acoustic Guitar Pack -Humidity Proof, Bend resistant, Durable Action, Natural tone & resonance. Natural Carbon Fibre/Fiber Guitar with Bag, Strap, Strings set & Plectrums.', 'Yamaha APX600 NA Thin Body Acoustic-Electric Guitar, Natural', '_', 'Juârez Acoustic Guitar, 38 Inch Cutaway, JRZ38CT, Hippie Funky Design, with Bag, Picks, Strap & Extra String set', '_', 'Intern INT-38C-RD-G Linden Wood Cutaway Right Handed Acoustic Guitar Kit, With Bag, Strings, Pick And Strap (Red, 6 Strings)', '_', 'Yamaha 22.8 Inches Merantiwood Classical Guitar C40//02 (Brown)', 'Yamaha FS80C 25 Incheses sprucewood The Ultimate Concert Body Cutaway Acoustic Guitar (Black) With Bajaao Gig-Bag', '_', 'Martin Smith W-101-SB-PK Acoustic Guitar Super Kit with Stand (Sun Burst)', '_', 'Juarez Acoustic Guitar, [ LEFT HANDED] 38 Inch Cutaway, 38CL/BK with Bag, Strings, Pick and Strap, Black', '_', 'Yamaha F370 Acoustic Guitar, Natural', '_', 'Donner Silent Guitar, Mahogany', 'Vault DA20 Dreadnought Acoustic Guitar With Gig-Bag, Picks, Strings Set, String Winder, Strap, Polishing Cloth And Allen Key', 'YAMAHA FS80C NATURAL CONCERT CUTAWAY GUITAR', 'DEVICE OF URBAN INFOTECH 41 inch Acoustic Guitar for Beginners Adults Premium Wood Sunburst Curved Cutaway Design Acoustic Guitar Kit with Carry Bag Guitar for Adults Starters', 'Imaginea® 41 Inch Guitar 3TS Sunburst Cutaway Design Acoustic Guitar with Dual Action Truss Rod, Bag, Belt, 5 picks, Allen Key, for Beginners Students Adults', 'Intern INT-38C-SB-G Linden Wood Cutaway Right Handed Acoustic Guitar Kit, With Bag, Strings, Pick And Strap (Sunburst, 6 Strings)', 'Blueberry B40L, 40\" Acoustic Guitar Kit Inbuilt Truss Rod with Bag, Strap, One Pack Strings And Picks (Classic Maroon)', 'Vault EA40TBK 41 inch Premium Solid Spruce-Top Cutaway Acoustic Guitar (Black)', 'Blueberry, VIP 341, 34 Inch Sapele Natural Wood Finsh Acoustic Guitar Kit With Bag, Belt, String Sets And 2 Picks', '_', 'Juârez JRZ38C/MAH 6 Strings Acoustic Guitar 38 Inch Cutaway, Right Handed, Mahogany with Bag, Strings, Picks and Strap', 'Kadence Astroman Electric Guitars Solid Black With Floyd Rose Bridge and Wamy Bar', '_', 'Juârez JRZ38C/VTS 6 Strings Acoustic Guitar 38 Inch Cutaway, Right Handed, Violet/Purple with Bag, Strings, Picks and Strap', 'Fender Acoustic Guitar Dreadnought Cd60 V3 Natural 970110521 Right-Hand One Of The Most Reputed Guitar Brands In The World', 'Medellin M38 carbon fiber body 38 Incheses Acoustic Guitar (Blue Burst) Durable Matt finish With hAndrest, strings, strap, bag, 3 Picks, capo, stAnd', '_', 'Intern INT-38C Acoustic Guitar Kit (Natural)', 'Blueberry B-38, 38\" Acoustic Guitar Kit Inbuilt Truss Rod with Bag, Strap, One Pack Strings And Picks (Natural)', 'Kadence Concert Sized Ukulele 24inch (Built in Equalizer) With Bag and Tuner (Saple Wood With Binding)', 'Givson Venus Special Cutaway Rosewood 41 Inch Acoustic Guitar Kit with Bag, Rhythm String Set, Strap and 5 Plectrums, (Sunburst)', '_', 'BLUEBERRY,VIP-403, 40Inch TrussRod Acoustic Guitar Basswood With Bag, Belt, String Sets And 2 Picks', 'Blueberry 38C, 38\" Acoustic Guitar Kit with Bag, Strap, One Pack Strings And Picks (Sunburst)', '_', 'Hovner Carlton Special Quality Rosewood Fretboard Blue Semi Acoustic Guitar With Bag,Strap,1 Set of Extra Strings and 2 Picks By K-Retail (Blue)', 'JUAREZ 38 Inches Lindenwood Acoustic Guitar With Dual Action Truss Rod, Bag, Picks, Allen Key, Extra String Set, TBLS Blue Sunburst', '_', 'Kadence Frontier Semi Acoustic Jumbo Guitar 41\" with Learning Course, Die cast keys with Super Combo (Bag,strap,strings,capo And 3 picks) (Black, Electric Acoustic)', 'Juârez JRZ38C/ASH 6 Strings Acoustic Guitar 38 Inch Cutaway, Right Handed, Ash with Bag, Strings, Picks and Strap', 'Henrix 38C 38 Inch Left Handed Cutaway Acoustic Guitar with Dual Action Truss Rod, Gigbag, Picks, String Set, Strap, Cloth & Ebook- Natural', 'Kadence Guitar Acoustica Series, Electric Acoustic Guitar, Ash Wood with Pickup and Inbuilt tuner (Ash Wood, Electro Acoustic) with bag.', 'Kadence Frontier Series,Black Acoustic Guitar With Die Cast Keys Super Combo (Capo, Bag, strap, strings and 3 picks)', '_', 'Yamaha FX280 Tobacco Brown Sunburst Electro Acoustic Guitar', '_', 'Intern INT-38C-L-BLS Left Hand Acoustic Guitar Kit, With Bag, Strings, Pick And Strap, Blue', \"C M enterprise 4 String Acoustic Décor Guitar Children's Educational Musical Instrument Child Learning Random Brown Best Gift 24 Inch Kids Keep Tone Picks Strap Ability Beginner Sound (Guitar)\", '_', 'Fender Squier 39 Inch 6 String Cutaway Acoustic Guitar Hardwood Fretboard-Natural Sa 135C Right-Hand One Of The Most Reputed Guitar Brands In The World', '_', 'Yamaha F310, 6-Strings Acoustic Guitar, Natural', '_', 'Blueberry, VIP-301, 30Inch Acoustic Guitar Kit With Bag, Belt, String Sets And 2 Picks Natural', 'Medellin 38\" Acoustic Guitar Purple Burst Carbon Fiber body+(Free Online Learning Course) - Durable Matt finish with handrest, strings, strap, bag, 3 Picks, capo, stand.', '_', 'YAMAHA FS80C BLACK CONCERT CUTAWAY GUITAR', '_', 'Medellin 38 Incheses Acoustic Guitar Carbon Fiber Body With Set Of Strings, Strap, Bag, 3 Picks, Capo, Guitar Wall Hanging Stand (own)', '_', 'Enya NOVA Go SP1 Carbon Fiber Acoustic Electric Guitar with Smart AcousticPlus 35 Inch Travel Acustica Guitarra Starter Bundle Kit of Gig Bag, Strap, Strings, Charging Cable, Instrument Cable(Blue)', '_', 'Kadence Slowhand Premium Jumbo Semi Acoustic Guitar with Heavy Padded Bag, guitar cable, Pro Capo (Black Spruce Wood)', 'Hovner 215 Green F-Cut Rosewood Fretboard Acoustic Guitar With Bag,Strap,1 Set of Extra Strings and 2 Picks V3', 'Kadence Frontier Series 40 Incheses wood Semi Acoustic Guitar With Die Cast Keys (Bag,Strap,Strings And 3 Picks) (Sunburst)', 'Blueberry, VIP-340, 34Inch Acoustic Guitar Kit With Bag, Belt, String Set and 2 Picks (Black)', 'Kadence GenZ Guitar (with Guitar learning course) Acoustic Guitar with Die Cast Keys and Bag (Lavender)', 'Yamaha FS80C Acoustic Guitar Cutaway Concert Body With Mexa Sponge Bag, Guitar Belt, Guitar Stand, String Set & Plectrums.(BK)', '_', 'Medellin Acoustic Guitar + (Free online learning Course) Neon Green with Strings,Bag,Picks and guitar strap.', 'Blueberry 38C, 38\" Acoustic Guitar Kit with Bag, Strap, One Pack Strings And Picks (Natural)', '_', 'Juarez JRZ-ST02 6-String 38 Inches Wood Electric Guitar, Right Handed, Red With Case/Bag And Picks', '_', 'Hovner Standard 185 Natural Rosewood Fretboard Acoustic Guitar With Bag,Strap,1 Set of Extra Strings and 2 Picks By K-Retail', 'Vault Traveller 34 Inch Acoustic Guitar With Truss Rod, Gig-Bag, Strap, Strings, Polishing Cloth, String Winder, Picks & E-Book - Natural Gloss', 'Ibanez Performance Series PC12MHCEOPN Grand Concert Acoustic-Electric Guitar Satin Natural', '_', 'Juârez Acoustic Guitar, 38 Inch Cutaway, JRZ38C with Bag, Strings, Pick and Strap, Red', '_', 'Ibanez MD39C-NT 39 Inches Rose Wood Cutaway Acoustic Guitar With Gig-Bag, Polishing Cloth And E-Book', '_', 'Vault Junior 30 Inch Acoustic Guitar for Kids with Truss Rod, Gig-Bag, Strings, Straps, Picks, String winder, Polishing Cloth & E-Book - Natural Gloss', 'YAMAHA Pacifica012 Electric Guitar, Red Metallic', '_', 'Kadence Acoustica Series Semi Acoustic Ash Wood with Equlizer A-06 (Guitar Super Combo with Accessories)', 'Yamaha FS100C Acoustic Guitar, Natural', 'Belear I280 38 Inch Black Matt Spruce Cutaway, Acoustic Guitar, with Dual Action Truss Rod, Bag, Pick, String and Strap', '_', 'Vault CL-20 4/4 size Classical Guitar With Bag', 'Belear I-280-WBL Couturier 38 Inch Blue Cutaway Acoustic Guitar With Dual Action Truss Rod, Bag,Strap String and Picks', '_', 'Fender 0930307021 SA-105CE Dreadnought Cutaway Electric Guitar - Natural, full size', '_', 'Blueberry, VlP-405, 40Inch TrussRod Acoustic Guitar With Bag, Belt, String Set And 2 Picks (Classic Brown)', 'Kadence Guitar Acoustica Series A05, Electric Acoustic Guitar, Zebra Wood with Pickup, Inbuilt tuner and Bag (Zebra Wood, Electro Acoustic)', '_', 'Blueberry B-D38, 38 Inch Acoustic Guitar Kit Inbuilt Truss Rod with Bag, Strap, One Pack Strings And Picks (Sunburst)', '_', 'Yamaha FSX80C Semi acoustic cutaway guitar (natural)', '_', 'Cort GA-MEDX Electro Acoustic Guitar With Bag.(OP)', '_', 'Tanglewood Crossroads TWCR OE Semi Acoustic Guitar, 6 Strings, Orchestra, Whiskey Barrel Burst Satin Finish', 'Kadence Astro Man Electric Guitar, with Free learning course 24 FRETS, H- S - S PICK UPS Walnut Top with Alder wood Back and Sides (white) With Amplifier', 'Fender CD-60SCE Electro-Acoustic Guitar With Gig- Bag- Black', 'Festra 38C, 38 Inch Acoustic Guitar Kit with Bag, Strap, One Pack Strings And 2 Picks (Acoustic 38C (38 Inch) Guitar Kit, Sunburst)', 'Belear I480-CRD 40 Inch Cherry Red Glossy Dual Action Truss Rod Acoustic Guitar', '_', 'Yamaha FSX80C Semi acoustic cutaway guitar (Black)', '_', 'Kadence Frontier Jumbo Semi Acoustic Guitar, (Bag, 1 pack Strings, Strap, Picks, (Natural EQ C)', 'Kadence Frontier Series Semi Acoustic Guitar With Die Cast Keys Natural Super Combo, Capo, Bag, strap, strings and 3 picks)', 'YAMAHA F310-TBS Right Handed Spruce, Back/Side/Rib, Meranti Acoustic Guitar (Tobacco Sunburst, 6-Strings)', '_', 'Pluto HW39C-201 39-inch Cutaway Acoustic Guitar (Natural)', '_', 'Vault JB4 Jazz Bass 4-String Bass Guitar - Black', 'Juarez Acoustic Lindenwood Guitar, 38 Inches Cutaway With Pick Guard, 38C/RDS With Bag, Strings, Pick And Strap, Red Sunburst', 'Pluto HW39C-201 39-inch Cutaway Acoustic Guitar (Black)', '_', 'INTERN 41 inches Cutaway Shape Acoustic Guitar with truss rod. Includes plectrums. Premium Wooden durable built, Best tonal s', '_', 'Kadence Guitar Frontier Series, Sunburst Acoustic Guitar with Die Cast Keys, Set of Strings, Strap, Picks and Bag (Sunburst, Acoustic)', '_', 'Ibanez V50NJP-VS Dreadnought Acoustic Guitar Pre Pack (Vintage Sunburst)', '_', 'Blueberry 38C, 38\" Acoustic Guitar Kit with Bag, Strap, One Pack Strings And Picks (Redburst)', '_', 'CHANGER sky blue acoustic guitar with cover 1 set string 2 plectrums 1 belt combo acoustic guitar', '_', 'Hovner 215 Royal Metallic Black F-Cut Rosewood Fretboard Acoustic Guitar With Bag,Strap,1 Set of Extra Strings and 2 Picks', 'Yamaha Electric-Acoustic Guitar FSX80C Dreadnought With With Mexa Sponge Bag, Guitar Belt, Guitar Stand, String Set & Plectrums.(NT) Natural', '_']\n"
     ]
    }
   ],
   "source": [
    "print(gproduct)"
   ]
  },
  {
   "cell_type": "code",
   "execution_count": 113,
   "id": "c9771135",
   "metadata": {},
   "outputs": [
    {
     "data": {
      "text/plain": [
       "5"
      ]
     },
     "execution_count": 113,
     "metadata": {},
     "output_type": "execute_result"
    }
   ],
   "source": [
    "len(gproduct)"
   ]
  },
  {
   "cell_type": "code",
   "execution_count": 33,
   "id": "25f8c638",
   "metadata": {},
   "outputs": [
    {
     "name": "stdout",
     "output_type": "stream",
     "text": [
      "170 243 243 243 182 182 170\n"
     ]
    }
   ],
   "source": [
    "print(len(gurl),len(gname),len(gproduct),len(gprice),len(greturn),len(gdelivery),len(gavailability))"
   ]
  },
  {
   "cell_type": "code",
   "execution_count": 35,
   "id": "b7ff30b3",
   "metadata": {},
   "outputs": [
    {
     "name": "stdout",
     "output_type": "stream",
     "text": [
      "['Kadence', 'Henrix', 'Medellin', 'Medellin', 'JUAREZ', 'Intern', 'YAMAHA', 'JUAREZ', '_', 'Intern', 'Ibanez', '_', 'JUAREZ', '_', 'Henrix', 'YAMAHA', '_', 'YAMAHA', 'JUAREZ', '_', 'Kadence', 'Intern', 'JUAREZ', '_', 'Kadence', 'JUAREZ', 'Medellin', 'VAULT', '_', 'Guitar Bro', '_', 'Kadence', 'Medellin', '_', 'Intern', 'Intern', 'Intern', 'REVEL', 'Medellin', 'Intern', 'Intern', 'Intern', 'Neowood', 'Medellin', 'Intern', '_', 'Intern', 'JUAREZ', '_', 'blueberry', '_', 'Intern', 'YAMAHA', '_', 'YAMAHA', '_', 'YAMAHA', 'Intern', 'VAULT', 'JUAREZ', '_', 'JUAREZ', 'HOVNER', 'blueberry', '_', 'JUAREZ', '_', 'enya', 'Medellin', 'JUAREZ', '_', 'JUAREZ', '_', 'Intern', 'musicalworks.in', '_', 'IMAGINEA', \"Gibz's guitar\", 'YAMAHA', \"D'Addario\", '_', 'Kadence', '_', 'Valencia', '_', 'JUAREZ', 'Intern', 'YAMAHA', 'JUAREZ', '_', '_', 'Guitar Bro', '_', 'Yellow and Green', '_', 'Ibanez', '_', 'Fender', 'Kadence', 'Fender', '_', 'STANDZO', '_', 'Intern', 'YAMAHA', '_', 'JUAREZ', '_', 'Intern', '_', 'YAMAHA', 'YAMAHA', '_', 'Martin Smith', '_', 'JUAREZ', '_', 'YAMAHA', '_', 'Donner', 'VAULT', 'YAMAHA', 'DEVICE OF URBAN INFOTECH', 'Sunburst', 'Intern', 'blueberry', 'VAULT', 'blueberry', '_', 'JUAREZ', 'Kadence', '_', 'JUAREZ', 'Fender', 'Medellin', '_', 'Intern', 'blueberry', 'Kadence', 'GIVSON', '_', 'blueberry', 'blueberry', '_', 'HOVNER', 'JUAREZ', '_', 'Kadence', 'JUAREZ', 'Henrix', 'Kadence', 'Kadence', '_', 'YAMAHA', '_', 'Intern', 'C M enterprise', '_', 'Fender', '_', 'YAMAHA', '_', 'blueberry', 'medellin', '_', 'YAMAHA', '_', 'Medellin', '_', 'enya', '_', 'Kadence', 'HOVNER', 'Kadence', 'blueberry', 'Kadence', 'YAMAHA', '_', 'Medellin', 'blueberry', '_', 'JUAREZ', '_', 'HOVNER', 'VAULT', 'Ibanez', '_', 'JUAREZ', '_', 'Ibanez', '_', 'VAULT', 'YAMAHA', '_', 'Kadence', 'YAMAHA', 'Belear', '_', 'VAULT', 'Belear', '_', 'Fender', '_', 'blueberry', 'Kadence', '_', 'blueberry', '_', 'YAMAHA', '_', 'Cort', '_', 'Tanglewood', 'Kadence', 'Fender', 'FESTRA', 'Belear', '_', 'YAMAHA', '_', 'Kadence', 'Kadence', 'YAMAHA', '_', 'Pluto', '_', 'VAULT', 'JUAREZ', 'Pluto', '_', 'Intern', '_', 'Kadence', '_', 'Ibanez', '_', 'blueberry', '_', 'CHANGER', '_', 'HOVNER', 'YAMAHA', '_']\n"
     ]
    }
   ],
   "source": [
    "print(gname)"
   ]
  },
  {
   "cell_type": "code",
   "execution_count": 24,
   "id": "4cd5b8ba",
   "metadata": {},
   "outputs": [
    {
     "data": {
      "text/html": [
       "<div>\n",
       "<style scoped>\n",
       "    .dataframe tbody tr th:only-of-type {\n",
       "        vertical-align: middle;\n",
       "    }\n",
       "\n",
       "    .dataframe tbody tr th {\n",
       "        vertical-align: top;\n",
       "    }\n",
       "\n",
       "    .dataframe thead th {\n",
       "        text-align: right;\n",
       "    }\n",
       "</style>\n",
       "<table border=\"1\" class=\"dataframe\">\n",
       "  <thead>\n",
       "    <tr style=\"text-align: right;\">\n",
       "      <th></th>\n",
       "      <th>Product URL</th>\n",
       "    </tr>\n",
       "  </thead>\n",
       "  <tbody>\n",
       "    <tr>\n",
       "      <th>0</th>\n",
       "      <td>https://www.amazon.in/sspa/click?ie=UTF8&amp;spc=M...</td>\n",
       "    </tr>\n",
       "    <tr>\n",
       "      <th>1</th>\n",
       "      <td>https://www.amazon.in/sspa/click?ie=UTF8&amp;spc=M...</td>\n",
       "    </tr>\n",
       "    <tr>\n",
       "      <th>2</th>\n",
       "      <td>https://www.amazon.in/sspa/click?ie=UTF8&amp;spc=M...</td>\n",
       "    </tr>\n",
       "    <tr>\n",
       "      <th>3</th>\n",
       "      <td>https://www.amazon.in/sspa/click?ie=UTF8&amp;spc=M...</td>\n",
       "    </tr>\n",
       "    <tr>\n",
       "      <th>4</th>\n",
       "      <td>https://www.amazon.in/Juarez-Acoustic-Cutaway-...</td>\n",
       "    </tr>\n",
       "    <tr>\n",
       "      <th>...</th>\n",
       "      <td>...</td>\n",
       "    </tr>\n",
       "    <tr>\n",
       "      <th>165</th>\n",
       "      <td>https://www.amazon.in/Ibanez-V50NJP-VS-Acousti...</td>\n",
       "    </tr>\n",
       "    <tr>\n",
       "      <th>166</th>\n",
       "      <td>https://www.amazon.in/Blueberry-Acoustic-Guita...</td>\n",
       "    </tr>\n",
       "    <tr>\n",
       "      <th>167</th>\n",
       "      <td>https://www.amazon.in/CHANGER-acoustic-guitar-...</td>\n",
       "    </tr>\n",
       "    <tr>\n",
       "      <th>168</th>\n",
       "      <td>https://www.amazon.in/Hovner-Royal-Metallic-Ro...</td>\n",
       "    </tr>\n",
       "    <tr>\n",
       "      <th>169</th>\n",
       "      <td>https://www.amazon.in/Yamaha-Electric-Acoustic...</td>\n",
       "    </tr>\n",
       "  </tbody>\n",
       "</table>\n",
       "<p>170 rows × 1 columns</p>\n",
       "</div>"
      ],
      "text/plain": [
       "                                           Product URL\n",
       "0    https://www.amazon.in/sspa/click?ie=UTF8&spc=M...\n",
       "1    https://www.amazon.in/sspa/click?ie=UTF8&spc=M...\n",
       "2    https://www.amazon.in/sspa/click?ie=UTF8&spc=M...\n",
       "3    https://www.amazon.in/sspa/click?ie=UTF8&spc=M...\n",
       "4    https://www.amazon.in/Juarez-Acoustic-Cutaway-...\n",
       "..                                                 ...\n",
       "165  https://www.amazon.in/Ibanez-V50NJP-VS-Acousti...\n",
       "166  https://www.amazon.in/Blueberry-Acoustic-Guita...\n",
       "167  https://www.amazon.in/CHANGER-acoustic-guitar-...\n",
       "168  https://www.amazon.in/Hovner-Royal-Metallic-Ro...\n",
       "169  https://www.amazon.in/Yamaha-Electric-Acoustic...\n",
       "\n",
       "[170 rows x 1 columns]"
      ]
     },
     "execution_count": 24,
     "metadata": {},
     "output_type": "execute_result"
    }
   ],
   "source": [
    "df=pd.DataFrame({'Product URL':gurl})\n",
    "df"
   ]
  },
  {
   "cell_type": "code",
   "execution_count": 25,
   "id": "3b84a926",
   "metadata": {},
   "outputs": [],
   "source": [
    "df.to_csv('gurl.csv',index=False)"
   ]
  },
  {
   "cell_type": "code",
   "execution_count": 34,
   "id": "37a7b7e3",
   "metadata": {},
   "outputs": [
    {
     "ename": "ValueError",
     "evalue": "All arrays must be of the same length",
     "output_type": "error",
     "traceback": [
      "\u001b[1;31m---------------------------------------------------------------------------\u001b[0m",
      "\u001b[1;31mValueError\u001b[0m                                Traceback (most recent call last)",
      "Cell \u001b[1;32mIn[34], line 1\u001b[0m\n\u001b[1;32m----> 1\u001b[0m df\u001b[38;5;241m=\u001b[39mpd\u001b[38;5;241m.\u001b[39mDataFrame({\u001b[38;5;124m'\u001b[39m\u001b[38;5;124mBrand Name\u001b[39m\u001b[38;5;124m'\u001b[39m:gname,\u001b[38;5;124m'\u001b[39m\u001b[38;5;124mName of the Product\u001b[39m\u001b[38;5;124m'\u001b[39m:gproduct,\u001b[38;5;124m'\u001b[39m\u001b[38;5;124mPrice\u001b[39m\u001b[38;5;124m'\u001b[39m:gprice,\u001b[38;5;124m'\u001b[39m\u001b[38;5;124mReturns/Exchange\u001b[39m\u001b[38;5;124m'\u001b[39m:greturn,\u001b[38;5;124m'\u001b[39m\u001b[38;5;124mExpected Delivery\u001b[39m\u001b[38;5;124m'\u001b[39m:gdelivery,\u001b[38;5;124m'\u001b[39m\u001b[38;5;124mAvailability\u001b[39m\u001b[38;5;124m'\u001b[39m:gavailability,\u001b[38;5;124m'\u001b[39m\u001b[38;5;124mProduct URL\u001b[39m\u001b[38;5;124m'\u001b[39m:gurl})\n\u001b[0;32m      2\u001b[0m df\n",
      "File \u001b[1;32m~\\anaconda3\\Lib\\site-packages\\pandas\\core\\frame.py:664\u001b[0m, in \u001b[0;36mDataFrame.__init__\u001b[1;34m(self, data, index, columns, dtype, copy)\u001b[0m\n\u001b[0;32m    658\u001b[0m     mgr \u001b[38;5;241m=\u001b[39m \u001b[38;5;28mself\u001b[39m\u001b[38;5;241m.\u001b[39m_init_mgr(\n\u001b[0;32m    659\u001b[0m         data, axes\u001b[38;5;241m=\u001b[39m{\u001b[38;5;124m\"\u001b[39m\u001b[38;5;124mindex\u001b[39m\u001b[38;5;124m\"\u001b[39m: index, \u001b[38;5;124m\"\u001b[39m\u001b[38;5;124mcolumns\u001b[39m\u001b[38;5;124m\"\u001b[39m: columns}, dtype\u001b[38;5;241m=\u001b[39mdtype, copy\u001b[38;5;241m=\u001b[39mcopy\n\u001b[0;32m    660\u001b[0m     )\n\u001b[0;32m    662\u001b[0m \u001b[38;5;28;01melif\u001b[39;00m \u001b[38;5;28misinstance\u001b[39m(data, \u001b[38;5;28mdict\u001b[39m):\n\u001b[0;32m    663\u001b[0m     \u001b[38;5;66;03m# GH#38939 de facto copy defaults to False only in non-dict cases\u001b[39;00m\n\u001b[1;32m--> 664\u001b[0m     mgr \u001b[38;5;241m=\u001b[39m dict_to_mgr(data, index, columns, dtype\u001b[38;5;241m=\u001b[39mdtype, copy\u001b[38;5;241m=\u001b[39mcopy, typ\u001b[38;5;241m=\u001b[39mmanager)\n\u001b[0;32m    665\u001b[0m \u001b[38;5;28;01melif\u001b[39;00m \u001b[38;5;28misinstance\u001b[39m(data, ma\u001b[38;5;241m.\u001b[39mMaskedArray):\n\u001b[0;32m    666\u001b[0m     \u001b[38;5;28;01mimport\u001b[39;00m \u001b[38;5;21;01mnumpy\u001b[39;00m\u001b[38;5;21;01m.\u001b[39;00m\u001b[38;5;21;01mma\u001b[39;00m\u001b[38;5;21;01m.\u001b[39;00m\u001b[38;5;21;01mmrecords\u001b[39;00m \u001b[38;5;28;01mas\u001b[39;00m \u001b[38;5;21;01mmrecords\u001b[39;00m\n",
      "File \u001b[1;32m~\\anaconda3\\Lib\\site-packages\\pandas\\core\\internals\\construction.py:493\u001b[0m, in \u001b[0;36mdict_to_mgr\u001b[1;34m(data, index, columns, dtype, typ, copy)\u001b[0m\n\u001b[0;32m    489\u001b[0m     \u001b[38;5;28;01melse\u001b[39;00m:\n\u001b[0;32m    490\u001b[0m         \u001b[38;5;66;03m# dtype check to exclude e.g. range objects, scalars\u001b[39;00m\n\u001b[0;32m    491\u001b[0m         arrays \u001b[38;5;241m=\u001b[39m [x\u001b[38;5;241m.\u001b[39mcopy() \u001b[38;5;28;01mif\u001b[39;00m \u001b[38;5;28mhasattr\u001b[39m(x, \u001b[38;5;124m\"\u001b[39m\u001b[38;5;124mdtype\u001b[39m\u001b[38;5;124m\"\u001b[39m) \u001b[38;5;28;01melse\u001b[39;00m x \u001b[38;5;28;01mfor\u001b[39;00m x \u001b[38;5;129;01min\u001b[39;00m arrays]\n\u001b[1;32m--> 493\u001b[0m \u001b[38;5;28;01mreturn\u001b[39;00m arrays_to_mgr(arrays, columns, index, dtype\u001b[38;5;241m=\u001b[39mdtype, typ\u001b[38;5;241m=\u001b[39mtyp, consolidate\u001b[38;5;241m=\u001b[39mcopy)\n",
      "File \u001b[1;32m~\\anaconda3\\Lib\\site-packages\\pandas\\core\\internals\\construction.py:118\u001b[0m, in \u001b[0;36marrays_to_mgr\u001b[1;34m(arrays, columns, index, dtype, verify_integrity, typ, consolidate)\u001b[0m\n\u001b[0;32m    115\u001b[0m \u001b[38;5;28;01mif\u001b[39;00m verify_integrity:\n\u001b[0;32m    116\u001b[0m     \u001b[38;5;66;03m# figure out the index, if necessary\u001b[39;00m\n\u001b[0;32m    117\u001b[0m     \u001b[38;5;28;01mif\u001b[39;00m index \u001b[38;5;129;01mis\u001b[39;00m \u001b[38;5;28;01mNone\u001b[39;00m:\n\u001b[1;32m--> 118\u001b[0m         index \u001b[38;5;241m=\u001b[39m _extract_index(arrays)\n\u001b[0;32m    119\u001b[0m     \u001b[38;5;28;01melse\u001b[39;00m:\n\u001b[0;32m    120\u001b[0m         index \u001b[38;5;241m=\u001b[39m ensure_index(index)\n",
      "File \u001b[1;32m~\\anaconda3\\Lib\\site-packages\\pandas\\core\\internals\\construction.py:666\u001b[0m, in \u001b[0;36m_extract_index\u001b[1;34m(data)\u001b[0m\n\u001b[0;32m    664\u001b[0m lengths \u001b[38;5;241m=\u001b[39m \u001b[38;5;28mlist\u001b[39m(\u001b[38;5;28mset\u001b[39m(raw_lengths))\n\u001b[0;32m    665\u001b[0m \u001b[38;5;28;01mif\u001b[39;00m \u001b[38;5;28mlen\u001b[39m(lengths) \u001b[38;5;241m>\u001b[39m \u001b[38;5;241m1\u001b[39m:\n\u001b[1;32m--> 666\u001b[0m     \u001b[38;5;28;01mraise\u001b[39;00m \u001b[38;5;167;01mValueError\u001b[39;00m(\u001b[38;5;124m\"\u001b[39m\u001b[38;5;124mAll arrays must be of the same length\u001b[39m\u001b[38;5;124m\"\u001b[39m)\n\u001b[0;32m    668\u001b[0m \u001b[38;5;28;01mif\u001b[39;00m have_dicts:\n\u001b[0;32m    669\u001b[0m     \u001b[38;5;28;01mraise\u001b[39;00m \u001b[38;5;167;01mValueError\u001b[39;00m(\n\u001b[0;32m    670\u001b[0m         \u001b[38;5;124m\"\u001b[39m\u001b[38;5;124mMixing dicts with non-Series may lead to ambiguous ordering.\u001b[39m\u001b[38;5;124m\"\u001b[39m\n\u001b[0;32m    671\u001b[0m     )\n",
      "\u001b[1;31mValueError\u001b[0m: All arrays must be of the same length"
     ]
    }
   ],
   "source": [
    "df=pd.DataFrame({'Brand Name':gname,'Name of the Product':gproduct,'Price':gprice,'Returns/Exchange':greturn,'Expected Delivery':gdelivery,'Availability':gavailability,'Product URL':gurl})\n",
    "df"
   ]
  },
  {
   "cell_type": "code",
   "execution_count": null,
   "id": "abf2d3b1",
   "metadata": {},
   "outputs": [],
   "source": []
  },
  {
   "cell_type": "markdown",
   "id": "6f633fe2",
   "metadata": {},
   "source": [
    "# Q3"
   ]
  },
  {
   "cell_type": "code",
   "execution_count": null,
   "id": "f608d979",
   "metadata": {},
   "outputs": [],
   "source": []
  },
  {
   "cell_type": "code",
   "execution_count": 41,
   "id": "36405456",
   "metadata": {},
   "outputs": [],
   "source": [
    "driver = webdriver.Chrome()"
   ]
  },
  {
   "cell_type": "code",
   "execution_count": 42,
   "id": "f03b2a1f",
   "metadata": {},
   "outputs": [],
   "source": [
    "driver.get(\"https://images.google.com/\")"
   ]
  },
  {
   "cell_type": "code",
   "execution_count": 43,
   "id": "91c8f127",
   "metadata": {},
   "outputs": [],
   "source": [
    "search= driver.find_element(By.ID,\"APjFqb\")\n",
    "search.send_keys('fruits')"
   ]
  },
  {
   "cell_type": "code",
   "execution_count": 44,
   "id": "0968cdec",
   "metadata": {},
   "outputs": [],
   "source": [
    "search=driver.find_element(By.XPATH,\"/html/body/div[1]/div[3]/form/div[1]/div[1]/div[1]/button/div/span\")\n",
    "search.click()\n",
    "time.sleep(3)"
   ]
  },
  {
   "cell_type": "code",
   "execution_count": 11,
   "id": "88812833",
   "metadata": {
    "scrolled": true
   },
   "outputs": [
    {
     "name": "stdout",
     "output_type": "stream",
     "text": [
      "Requirement already satisfied: requests in c:\\users\\administrator\\anaconda3\\lib\\site-packages (2.29.0)\n",
      "Requirement already satisfied: charset-normalizer<4,>=2 in c:\\users\\administrator\\anaconda3\\lib\\site-packages (from requests) (2.0.4)\n",
      "Requirement already satisfied: idna<4,>=2.5 in c:\\users\\administrator\\anaconda3\\lib\\site-packages (from requests) (3.4)\n",
      "Requirement already satisfied: urllib3<1.27,>=1.21.1 in c:\\users\\administrator\\anaconda3\\lib\\site-packages (from requests) (1.26.16)\n",
      "Requirement already satisfied: certifi>=2017.4.17 in c:\\users\\administrator\\anaconda3\\lib\\site-packages (from requests) (2023.5.7)\n",
      "Note: you may need to restart the kernel to use updated packages.\n"
     ]
    }
   ],
   "source": [
    "pip install requests"
   ]
  },
  {
   "cell_type": "code",
   "execution_count": 45,
   "id": "8e45d196",
   "metadata": {},
   "outputs": [],
   "source": [
    "import requests"
   ]
  },
  {
   "cell_type": "code",
   "execution_count": null,
   "id": "53ee46f0",
   "metadata": {},
   "outputs": [],
   "source": []
  },
  {
   "cell_type": "code",
   "execution_count": 47,
   "id": "c9d31ae5",
   "metadata": {},
   "outputs": [
    {
     "name": "stdout",
     "output_type": "stream",
     "text": [
      "Downloading 0 of 10 images\n",
      "Downloading 1 of 10 images\n",
      "Downloading 2 of 10 images\n",
      "Downloading 3 of 10 images\n",
      "Downloading 4 of 10 images\n",
      "Downloading 5 of 10 images\n",
      "Downloading 6 of 10 images\n",
      "Downloading 7 of 10 images\n",
      "Downloading 8 of 10 images\n",
      "Downloading 9 of 10 images\n",
      "Downloading 10 of 10 images\n"
     ]
    }
   ],
   "source": [
    "for _ in range(20):\n",
    "    driver.execute_script('window.scrollBy(0,100)')\n",
    "\n",
    "images=driver.find_elements(By.XPATH,'//img[@class=\"rg_i Q4LuWd\"]')\n",
    "\n",
    "img_urls=[]\n",
    "img_data=[]\n",
    "\n",
    "for image in images:\n",
    "    source=image.get_attribute('src')\n",
    "    if source is not None:\n",
    "        if(source[0:4] == 'http'):\n",
    "            img_urls.append(source)\n",
    "            \n",
    "for i in range(len(img_urls)):\n",
    "    if i>10:\n",
    "        break\n",
    "    print(\"Downloading {0} of {1} images\".format(i,10))\n",
    "    response=requests.get(img_urls[i])\n",
    "    file=open(r\"C:\\Users\\Administrator\\Downloads\\Images\\fruit\\fruit\"+str(i)+\".jpg\",\"wb\")\n",
    "    file.write(response.content)\n"
   ]
  },
  {
   "cell_type": "code",
   "execution_count": null,
   "id": "ac386c81",
   "metadata": {},
   "outputs": [],
   "source": []
  },
  {
   "cell_type": "code",
   "execution_count": 48,
   "id": "ee1914f6",
   "metadata": {},
   "outputs": [],
   "source": [
    "driver = webdriver.Chrome()"
   ]
  },
  {
   "cell_type": "code",
   "execution_count": 49,
   "id": "39c8b275",
   "metadata": {},
   "outputs": [],
   "source": [
    "driver.get(\"https://images.google.com/\")"
   ]
  },
  {
   "cell_type": "code",
   "execution_count": 50,
   "id": "673edd05",
   "metadata": {},
   "outputs": [],
   "source": [
    "search= driver.find_element(By.ID,\"APjFqb\")\n",
    "search.send_keys('cars')"
   ]
  },
  {
   "cell_type": "code",
   "execution_count": 51,
   "id": "e6cd85d3",
   "metadata": {},
   "outputs": [],
   "source": [
    "search=driver.find_element(By.XPATH,\"/html/body/div[1]/div[3]/form/div[1]/div[1]/div[1]/button/div/span\")\n",
    "search.click()\n",
    "time.sleep(3)"
   ]
  },
  {
   "cell_type": "code",
   "execution_count": 52,
   "id": "ec447a7b",
   "metadata": {},
   "outputs": [
    {
     "name": "stdout",
     "output_type": "stream",
     "text": [
      "Downloading 0 of 10 images\n",
      "Downloading 1 of 10 images\n",
      "Downloading 2 of 10 images\n",
      "Downloading 3 of 10 images\n",
      "Downloading 4 of 10 images\n",
      "Downloading 5 of 10 images\n",
      "Downloading 6 of 10 images\n",
      "Downloading 7 of 10 images\n",
      "Downloading 8 of 10 images\n",
      "Downloading 9 of 10 images\n",
      "Downloading 10 of 10 images\n"
     ]
    }
   ],
   "source": [
    "for _ in range(20):\n",
    "    driver.execute_script('window.scrollBy(0,100)')\n",
    "\n",
    "images=driver.find_elements(By.XPATH,'//img[@class=\"rg_i Q4LuWd\"]')\n",
    "\n",
    "img_urls=[]\n",
    "\n",
    "for image in images:\n",
    "    source=image.get_attribute('src')\n",
    "    if source is not None:\n",
    "        if(source[0:4] == 'http'):\n",
    "            img_urls.append(source)\n",
    "            \n",
    "for i in range(len(img_urls)):\n",
    "    if i>10:\n",
    "        break\n",
    "    print(\"Downloading {0} of {1} images\".format(i,10))\n",
    "    response=requests.get(img_urls[i])\n",
    "    file=open(r\"C:\\Users\\Administrator\\Downloads\\Images\\car\\car\"+str(i)+\".jpg\",\"wb\")\n",
    "    file.write(response.content)\n"
   ]
  },
  {
   "cell_type": "code",
   "execution_count": null,
   "id": "609cbe2f",
   "metadata": {},
   "outputs": [],
   "source": []
  },
  {
   "cell_type": "code",
   "execution_count": 53,
   "id": "95929d45",
   "metadata": {},
   "outputs": [],
   "source": [
    "driver = webdriver.Chrome()"
   ]
  },
  {
   "cell_type": "code",
   "execution_count": 54,
   "id": "b8e5b960",
   "metadata": {},
   "outputs": [],
   "source": [
    "driver.get(\"https://images.google.com/\")"
   ]
  },
  {
   "cell_type": "code",
   "execution_count": 55,
   "id": "b310cbcc",
   "metadata": {},
   "outputs": [],
   "source": [
    "search= driver.find_element(By.ID,\"APjFqb\")\n",
    "search.send_keys('machine learning')"
   ]
  },
  {
   "cell_type": "code",
   "execution_count": 56,
   "id": "ef8a0bf2",
   "metadata": {},
   "outputs": [],
   "source": [
    "search=driver.find_element(By.XPATH,\"/html/body/div[1]/div[3]/form/div[1]/div[1]/div[1]/button/div/span\")\n",
    "search.click()\n",
    "time.sleep(3)"
   ]
  },
  {
   "cell_type": "code",
   "execution_count": 57,
   "id": "a88aaac6",
   "metadata": {},
   "outputs": [
    {
     "name": "stdout",
     "output_type": "stream",
     "text": [
      "Downloading 0 of 10 images\n",
      "Downloading 1 of 10 images\n",
      "Downloading 2 of 10 images\n",
      "Downloading 3 of 10 images\n",
      "Downloading 4 of 10 images\n",
      "Downloading 5 of 10 images\n",
      "Downloading 6 of 10 images\n",
      "Downloading 7 of 10 images\n",
      "Downloading 8 of 10 images\n",
      "Downloading 9 of 10 images\n",
      "Downloading 10 of 10 images\n"
     ]
    }
   ],
   "source": [
    "for _ in range(20):\n",
    "    driver.execute_script('window.scrollBy(0,100)')\n",
    "\n",
    "images=driver.find_elements(By.XPATH,'//img[@class=\"rg_i Q4LuWd\"]')\n",
    "\n",
    "img_urls=[]\n",
    "\n",
    "for image in images:\n",
    "    source=image.get_attribute('src')\n",
    "    if source is not None:\n",
    "        if(source[0:4] == 'http'):\n",
    "            img_urls.append(source)\n",
    "            \n",
    "for i in range(len(img_urls)):\n",
    "    if i>10:\n",
    "        break\n",
    "    print(\"Downloading {0} of {1} images\".format(i,10))\n",
    "    response=requests.get(img_urls[i])\n",
    "    file=open(r\"C:\\Users\\Administrator\\Downloads\\Images\\ml\\ml\"+str(i)+\".jpg\",\"wb\")\n",
    "    file.write(response.content)\n"
   ]
  },
  {
   "cell_type": "code",
   "execution_count": null,
   "id": "02ca54ec",
   "metadata": {},
   "outputs": [],
   "source": []
  },
  {
   "cell_type": "code",
   "execution_count": 58,
   "id": "80de38d2",
   "metadata": {},
   "outputs": [],
   "source": [
    "driver = webdriver.Chrome()"
   ]
  },
  {
   "cell_type": "code",
   "execution_count": 59,
   "id": "b233360c",
   "metadata": {},
   "outputs": [],
   "source": [
    "driver.get(\"https://images.google.com/\")"
   ]
  },
  {
   "cell_type": "code",
   "execution_count": 60,
   "id": "304db678",
   "metadata": {},
   "outputs": [],
   "source": [
    "search= driver.find_element(By.ID,\"APjFqb\")\n",
    "search.send_keys('guitar')"
   ]
  },
  {
   "cell_type": "code",
   "execution_count": 61,
   "id": "6c870ec6",
   "metadata": {},
   "outputs": [],
   "source": [
    "search=driver.find_element(By.XPATH,\"/html/body/div[1]/div[3]/form/div[1]/div[1]/div[1]/button/div/span\")\n",
    "search.click()\n",
    "time.sleep(3)"
   ]
  },
  {
   "cell_type": "code",
   "execution_count": 62,
   "id": "d27cbe8d",
   "metadata": {},
   "outputs": [
    {
     "name": "stdout",
     "output_type": "stream",
     "text": [
      "Downloading 0 of 10 images\n",
      "Downloading 1 of 10 images\n",
      "Downloading 2 of 10 images\n",
      "Downloading 3 of 10 images\n",
      "Downloading 4 of 10 images\n",
      "Downloading 5 of 10 images\n",
      "Downloading 6 of 10 images\n",
      "Downloading 7 of 10 images\n",
      "Downloading 8 of 10 images\n",
      "Downloading 9 of 10 images\n",
      "Downloading 10 of 10 images\n"
     ]
    }
   ],
   "source": [
    "for _ in range(20):\n",
    "    driver.execute_script('window.scrollBy(0,100)')\n",
    "\n",
    "images=driver.find_elements(By.XPATH,'//img[@class=\"rg_i Q4LuWd\"]')\n",
    "\n",
    "img_urls=[]\n",
    "\n",
    "for image in images:\n",
    "    source=image.get_attribute('src')\n",
    "    if source is not None:\n",
    "        if(source[0:4] == 'http'):\n",
    "            img_urls.append(source)\n",
    "            \n",
    "for i in range(len(img_urls)):\n",
    "    if i>10:\n",
    "        break\n",
    "    print(\"Downloading {0} of {1} images\".format(i,10))\n",
    "    response=requests.get(img_urls[i])\n",
    "    file=open(r\"C:\\Users\\Administrator\\Downloads\\Images\\guitar\\guitar\"+str(i)+\".jpg\",\"wb\")\n",
    "    file.write(response.content)\n"
   ]
  },
  {
   "cell_type": "code",
   "execution_count": null,
   "id": "1090c8a5",
   "metadata": {},
   "outputs": [],
   "source": []
  },
  {
   "cell_type": "code",
   "execution_count": 63,
   "id": "bb2e1ec5",
   "metadata": {},
   "outputs": [],
   "source": [
    "driver = webdriver.Chrome()"
   ]
  },
  {
   "cell_type": "code",
   "execution_count": 64,
   "id": "b86edc16",
   "metadata": {},
   "outputs": [],
   "source": [
    "driver.get(\"https://images.google.com/\")"
   ]
  },
  {
   "cell_type": "code",
   "execution_count": 65,
   "id": "a76ba88f",
   "metadata": {},
   "outputs": [],
   "source": [
    "search= driver.find_element(By.ID,\"APjFqb\")\n",
    "search.send_keys('cakes')"
   ]
  },
  {
   "cell_type": "code",
   "execution_count": 66,
   "id": "24a247aa",
   "metadata": {},
   "outputs": [],
   "source": [
    "search=driver.find_element(By.XPATH,\"/html/body/div[1]/div[3]/form/div[1]/div[1]/div[1]/button/div/span\")\n",
    "search.click()\n",
    "time.sleep(3)"
   ]
  },
  {
   "cell_type": "code",
   "execution_count": 67,
   "id": "05220729",
   "metadata": {},
   "outputs": [
    {
     "name": "stdout",
     "output_type": "stream",
     "text": [
      "Downloading 0 of 10 images\n",
      "Downloading 1 of 10 images\n",
      "Downloading 2 of 10 images\n",
      "Downloading 3 of 10 images\n",
      "Downloading 4 of 10 images\n",
      "Downloading 5 of 10 images\n",
      "Downloading 6 of 10 images\n",
      "Downloading 7 of 10 images\n",
      "Downloading 8 of 10 images\n",
      "Downloading 9 of 10 images\n",
      "Downloading 10 of 10 images\n"
     ]
    }
   ],
   "source": [
    "for _ in range(20):\n",
    "    driver.execute_script('window.scrollBy(0,100)')\n",
    "\n",
    "images=driver.find_elements(By.XPATH,'//img[@class=\"rg_i Q4LuWd\"]')\n",
    "\n",
    "img_urls=[]\n",
    "\n",
    "for image in images:\n",
    "    source=image.get_attribute('src')\n",
    "    if source is not None:\n",
    "        if(source[0:4] == 'http'):\n",
    "            img_urls.append(source)\n",
    "            \n",
    "for i in range(len(img_urls)):\n",
    "    if i>10:\n",
    "        break\n",
    "    print(\"Downloading {0} of {1} images\".format(i,10))\n",
    "    response=requests.get(img_urls[i])\n",
    "    file=open(r\"C:\\Users\\Administrator\\Downloads\\Images\\cakes\\cakes\"+str(i)+\".jpg\",\"wb\")\n",
    "    file.write(response.content)\n"
   ]
  },
  {
   "cell_type": "code",
   "execution_count": null,
   "id": "10874a94",
   "metadata": {},
   "outputs": [],
   "source": []
  },
  {
   "cell_type": "markdown",
   "id": "16a48be8",
   "metadata": {},
   "source": [
    "# Q4"
   ]
  },
  {
   "cell_type": "code",
   "execution_count": null,
   "id": "595789ae",
   "metadata": {},
   "outputs": [],
   "source": []
  },
  {
   "cell_type": "code",
   "execution_count": 68,
   "id": "a87ec346",
   "metadata": {},
   "outputs": [],
   "source": [
    "driver = webdriver.Chrome()"
   ]
  },
  {
   "cell_type": "code",
   "execution_count": 69,
   "id": "58ea526f",
   "metadata": {},
   "outputs": [],
   "source": [
    "driver.get(\"https://www.flipkart.com/\")"
   ]
  },
  {
   "cell_type": "code",
   "execution_count": 70,
   "id": "52131c2c",
   "metadata": {},
   "outputs": [],
   "source": [
    "search= driver.find_element(By.CLASS_NAME,\"_3704LK\")\n",
    "search.send_keys('smartphones')"
   ]
  },
  {
   "cell_type": "code",
   "execution_count": 71,
   "id": "984402ec",
   "metadata": {},
   "outputs": [],
   "source": [
    "search=driver.find_element(By.CLASS_NAME,'_34RNph')\n",
    "search.click()\n",
    "time.sleep(3)"
   ]
  },
  {
   "cell_type": "code",
   "execution_count": null,
   "id": "58c861ae",
   "metadata": {},
   "outputs": [],
   "source": []
  },
  {
   "cell_type": "code",
   "execution_count": 72,
   "id": "e2abfe90",
   "metadata": {},
   "outputs": [],
   "source": [
    "pbrand=[]\n",
    "pname=[]\n",
    "pcolour=[]\n",
    "pram=[]\n",
    "pstorage=[]\n",
    "ppcamera=[]\n",
    "pscamera=[]\n",
    "psize=[]\n",
    "pbattery=[]\n",
    "pprice=[]\n",
    "purl=[]"
   ]
  },
  {
   "cell_type": "code",
   "execution_count": 75,
   "id": "de9838fd",
   "metadata": {},
   "outputs": [],
   "source": [
    "url=driver.find_elements(By.XPATH,'//a[@class=\"_1fQZEK\"]')\n",
    "\n",
    "for i in url:\n",
    "    purl.append(i.get_attribute('href'))\n",
    "\n",
    "time.sleep(3)\n",
    "    "
   ]
  },
  {
   "cell_type": "code",
   "execution_count": null,
   "id": "aa19969e",
   "metadata": {},
   "outputs": [],
   "source": []
  },
  {
   "cell_type": "code",
   "execution_count": 76,
   "id": "f924fbfc",
   "metadata": {},
   "outputs": [
    {
     "name": "stdout",
     "output_type": "stream",
     "text": [
      "24\n"
     ]
    }
   ],
   "source": [
    "print(len(purl))"
   ]
  },
  {
   "cell_type": "code",
   "execution_count": 77,
   "id": "43608220",
   "metadata": {},
   "outputs": [
    {
     "name": "stdout",
     "output_type": "stream",
     "text": [
      "['https://www.flipkart.com/samsung-galaxy-f04-jade-purple-64-gb/p/itm0934dc56a1df7?pid=MOBGKY2VTP3XETBR&lid=LSTMOBGKY2VTP3XETBRJKXEIM&marketplace=FLIPKART&q=smartphones&store=tyy%2F4io&srno=s_1_1&otracker=search&otracker1=search&fm=organic&iid=05e2bb39-3440-4a87-b971-a12b884dbf91.MOBGKY2VTP3XETBR.SEARCH&ppt=hp&ppn=homepage&ssid=91yz5lzk8w0000001691681414250&qH=6ea4465d0add4685', 'https://www.flipkart.com/samsung-galaxy-f13-sunrise-copper-64-gb/p/itm0d8c65ec17621?pid=MOBGENJWWRYSFC5P&lid=LSTMOBGENJWWRYSFC5PYXUAZH&marketplace=FLIPKART&q=smartphones&store=tyy%2F4io&srno=s_1_2&otracker=search&otracker1=search&fm=organic&iid=05e2bb39-3440-4a87-b971-a12b884dbf91.MOBGENJWWRYSFC5P.SEARCH&ppt=hp&ppn=homepage&ssid=91yz5lzk8w0000001691681414250&qH=6ea4465d0add4685', 'https://www.flipkart.com/poco-c51-royal-blue-64-gb/p/itm1e4e8373537a7?pid=MOBGZCQFCWNDK89P&lid=LSTMOBGZCQFCWNDK89PTMGT86&marketplace=FLIPKART&q=smartphones&store=tyy%2F4io&spotlightTagId=BestsellerId_tyy%2F4io&srno=s_1_3&otracker=search&otracker1=search&fm=Search&iid=05e2bb39-3440-4a87-b971-a12b884dbf91.MOBGZCQFCWNDK89P.SEARCH&ppt=sp&ppn=sp&ssid=91yz5lzk8w0000001691681414250&qH=6ea4465d0add4685', 'https://www.flipkart.com/samsung-galaxy-f13-waterfall-blue-64-gb/p/itm583ef432b2b0c?pid=MOBGENJWBPFYJSFT&lid=LSTMOBGENJWBPFYJSFT1ZY7B0&marketplace=FLIPKART&q=smartphones&store=tyy%2F4io&srno=s_1_4&otracker=search&otracker1=search&fm=organic&iid=05e2bb39-3440-4a87-b971-a12b884dbf91.MOBGENJWBPFYJSFT.SEARCH&ppt=hp&ppn=homepage&ssid=91yz5lzk8w0000001691681414250&qH=6ea4465d0add4685', 'https://www.flipkart.com/vivo-t2x-5g-glimmer-black-128-gb/p/itmcb8f0f6a85d5d?pid=MOBGZBFUZDW5JHYW&lid=LSTMOBGZBFUZDW5JHYWSIG1N1&marketplace=FLIPKART&q=smartphones&store=tyy%2F4io&srno=s_1_5&otracker=search&otracker1=search&fm=organic&iid=05e2bb39-3440-4a87-b971-a12b884dbf91.MOBGZBFUZDW5JHYW.SEARCH&ppt=hp&ppn=homepage&ssid=91yz5lzk8w0000001691681414250&qH=6ea4465d0add4685', 'https://www.flipkart.com/poco-c51-power-black-64-gb/p/itm62bcd2634619e?pid=MOBGZCQFWM5HZHXX&lid=LSTMOBGZCQFWM5HZHXXVV2MKC&marketplace=FLIPKART&q=smartphones&store=tyy%2F4io&srno=s_1_6&otracker=search&otracker1=search&fm=organic&iid=05e2bb39-3440-4a87-b971-a12b884dbf91.MOBGZCQFWM5HZHXX.SEARCH&ppt=hp&ppn=homepage&ssid=91yz5lzk8w0000001691681414250&qH=6ea4465d0add4685', 'https://www.flipkart.com/vivo-t2x-5g-marine-blue-128-gb/p/itmcb8f0f6a85d5d?pid=MOBGZBFU4HBKKFSN&lid=LSTMOBGZBFU4HBKKFSNRCJ28C&marketplace=FLIPKART&q=smartphones&store=tyy%2F4io&srno=s_1_7&otracker=search&otracker1=search&fm=organic&iid=05e2bb39-3440-4a87-b971-a12b884dbf91.MOBGZBFU4HBKKFSN.SEARCH&ppt=hp&ppn=homepage&ssid=91yz5lzk8w0000001691681414250&qH=6ea4465d0add4685', 'https://www.flipkart.com/vivo-t2x-5g-glimmer-black-128-gb/p/itmcb8f0f6a85d5d?pid=MOBGZBFUF389GDMP&lid=LSTMOBGZBFUF389GDMPKCQWJ4&marketplace=FLIPKART&q=smartphones&store=tyy%2F4io&srno=s_1_8&otracker=search&otracker1=search&fm=organic&iid=05e2bb39-3440-4a87-b971-a12b884dbf91.MOBGZBFUF389GDMP.SEARCH&ppt=hp&ppn=homepage&ssid=91yz5lzk8w0000001691681414250&qH=6ea4465d0add4685', 'https://www.flipkart.com/vivo-t2x-5g-aurora-gold-128-gb/p/itmcb8f0f6a85d5d?pid=MOBGZBFUQMTHYHSH&lid=LSTMOBGZBFUQMTHYHSHQ0KBA5&marketplace=FLIPKART&q=smartphones&store=tyy%2F4io&srno=s_1_9&otracker=search&otracker1=search&fm=organic&iid=05e2bb39-3440-4a87-b971-a12b884dbf91.MOBGZBFUQMTHYHSH.SEARCH&ppt=hp&ppn=homepage&ssid=91yz5lzk8w0000001691681414250&qH=6ea4465d0add4685', 'https://www.flipkart.com/poco-c55-forest-green-128-gb/p/itm7ed4c1ff2689f?pid=MOBGMXSWCYATKHYR&lid=LSTMOBGMXSWCYATKHYRKSVQMR&marketplace=FLIPKART&q=smartphones&store=tyy%2F4io&srno=s_1_10&otracker=search&otracker1=search&fm=organic&iid=05e2bb39-3440-4a87-b971-a12b884dbf91.MOBGMXSWCYATKHYR.SEARCH&ppt=hp&ppn=homepage&ssid=91yz5lzk8w0000001691681414250&qH=6ea4465d0add4685', 'https://www.flipkart.com/poco-c55-power-black-128-gb/p/itm52dfc91751293?pid=MOBGMXSWPMRNGVGW&lid=LSTMOBGMXSWPMRNGVGWUDX773&marketplace=FLIPKART&q=smartphones&store=tyy%2F4io&srno=s_1_11&otracker=search&otracker1=search&fm=organic&iid=05e2bb39-3440-4a87-b971-a12b884dbf91.MOBGMXSWPMRNGVGW.SEARCH&ppt=hp&ppn=homepage&ssid=91yz5lzk8w0000001691681414250&qH=6ea4465d0add4685', 'https://www.flipkart.com/poco-c55-cool-blue-128-gb/p/itm26aca9fd143ba?pid=MOBGMXSWJHRVUWFE&lid=LSTMOBGMXSWJHRVUWFESKZGEW&marketplace=FLIPKART&q=smartphones&store=tyy%2F4io&srno=s_1_12&otracker=search&otracker1=search&fm=organic&iid=05e2bb39-3440-4a87-b971-a12b884dbf91.MOBGMXSWJHRVUWFE.SEARCH&ppt=hp&ppn=homepage&ssid=91yz5lzk8w0000001691681414250&qH=6ea4465d0add4685', 'https://www.flipkart.com/poco-c50-royal-blue-32-gb/p/itma43af9d14952e?pid=MOBGK8WZUTGDEZFA&lid=LSTMOBGK8WZUTGDEZFAWKBDLT&marketplace=FLIPKART&q=smartphones&store=tyy%2F4io&srno=s_1_13&otracker=search&otracker1=search&fm=organic&iid=05e2bb39-3440-4a87-b971-a12b884dbf91.MOBGK8WZUTGDEZFA.SEARCH&ppt=hp&ppn=homepage&ssid=91yz5lzk8w0000001691681414250&qH=6ea4465d0add4685', 'https://www.flipkart.com/samsung-galaxy-f34-5g-electric-black-128-gb/p/itm85da260a1ae3c?pid=MOBGRZMYDDS8SBXZ&lid=LSTMOBGRZMYDDS8SBXZKIP6ZG&marketplace=FLIPKART&q=smartphones&store=tyy%2F4io&spotlightTagId=TrendingId_tyy%2F4io&srno=s_1_14&otracker=search&otracker1=search&fm=organic&iid=05e2bb39-3440-4a87-b971-a12b884dbf91.MOBGRZMYDDS8SBXZ.SEARCH&ppt=hp&ppn=homepage&ssid=91yz5lzk8w0000001691681414250&qH=6ea4465d0add4685', 'https://www.flipkart.com/vivo-t2x-5g-aurora-gold-128-gb/p/itmcb8f0f6a85d5d?pid=MOBGZBFUFNDXSGHS&lid=LSTMOBGZBFUFNDXSGHS1WR15D&marketplace=FLIPKART&q=smartphones&store=tyy%2F4io&spotlightTagId=BestsellerId_tyy%2F4io&srno=s_1_15&otracker=search&otracker1=search&fm=organic&iid=05e2bb39-3440-4a87-b971-a12b884dbf91.MOBGZBFUFNDXSGHS.SEARCH&ppt=hp&ppn=homepage&ssid=91yz5lzk8w0000001691681414250&qH=6ea4465d0add4685', 'https://www.flipkart.com/poco-c55-cool-blue-64-gb/p/itm166c52f5d5dc0?pid=MOBGMXSW55C7ZJE7&lid=LSTMOBGMXSW55C7ZJE7OFBLA7&marketplace=FLIPKART&q=smartphones&store=tyy%2F4io&srno=s_1_16&otracker=search&otracker1=search&fm=organic&iid=05e2bb39-3440-4a87-b971-a12b884dbf91.MOBGMXSW55C7ZJE7.SEARCH&ppt=hp&ppn=homepage&ssid=91yz5lzk8w0000001691681414250&qH=6ea4465d0add4685', 'https://www.flipkart.com/realme-c53-champion-gold-64-gb/p/itm5df90168ecd05?pid=MOBGQY939DG9GBQ8&lid=LSTMOBGQY939DG9GBQ8XN2GK7&marketplace=FLIPKART&q=smartphones&store=tyy%2F4io&spotlightTagId=BestsellerId_tyy%2F4io&srno=s_1_17&otracker=search&otracker1=search&fm=organic&iid=05e2bb39-3440-4a87-b971-a12b884dbf91.MOBGQY939DG9GBQ8.SEARCH&ppt=hp&ppn=homepage&ssid=91yz5lzk8w0000001691681414250&qH=6ea4465d0add4685', 'https://www.flipkart.com/samsung-galaxy-f13-waterfall-blue-128-gb/p/itm85a305642eb7b?pid=MOBGENJWVWYAAVG5&lid=LSTMOBGENJWVWYAAVG5AKPCP0&marketplace=FLIPKART&q=smartphones&store=tyy%2F4io&srno=s_1_18&otracker=search&otracker1=search&fm=organic&iid=05e2bb39-3440-4a87-b971-a12b884dbf91.MOBGENJWVWYAAVG5.SEARCH&ppt=hp&ppn=homepage&ssid=91yz5lzk8w0000001691681414250&qH=6ea4465d0add4685', 'https://www.flipkart.com/motorola-g62-5g-frosted-blue-128-gb/p/itm556a0153d9a10?pid=MOBGEDT5YQ2YFVTQ&lid=LSTMOBGEDT5YQ2YFVTQQ0KAIT&marketplace=FLIPKART&q=smartphones&store=tyy%2F4io&srno=s_1_19&otracker=search&otracker1=search&fm=organic&iid=05e2bb39-3440-4a87-b971-a12b884dbf91.MOBGEDT5YQ2YFVTQ.SEARCH&ppt=hp&ppn=homepage&ssid=91yz5lzk8w0000001691681414250&qH=6ea4465d0add4685', 'https://www.flipkart.com/poco-c55-forest-green-64-gb/p/itm8b99ef9bd674c?pid=MOBGMXSWFYZYWKTD&lid=LSTMOBGMXSWFYZYWKTDWKED3U&marketplace=FLIPKART&q=smartphones&store=tyy%2F4io&srno=s_1_20&otracker=search&otracker1=search&fm=organic&iid=05e2bb39-3440-4a87-b971-a12b884dbf91.MOBGMXSWFYZYWKTD.SEARCH&ppt=hp&ppn=homepage&ssid=91yz5lzk8w0000001691681414250&qH=6ea4465d0add4685', 'https://www.flipkart.com/poco-c55-power-black-64-gb/p/itme567bcd596fe9?pid=MOBGMXSW9PHJVQCA&lid=LSTMOBGMXSW9PHJVQCALTZQ3D&marketplace=FLIPKART&q=smartphones&store=tyy%2F4io&srno=s_1_21&otracker=search&otracker1=search&fm=organic&iid=05e2bb39-3440-4a87-b971-a12b884dbf91.MOBGMXSW9PHJVQCA.SEARCH&ppt=hp&ppn=homepage&ssid=91yz5lzk8w0000001691681414250&qH=6ea4465d0add4685', 'https://www.flipkart.com/infinix-hot-30i-diamond-white-128-gb/p/itm8b42a43b35895?pid=MOBGNPK29ZWFHGGD&lid=LSTMOBGNPK29ZWFHGGDKTDNDX&marketplace=FLIPKART&q=smartphones&store=tyy%2F4io&srno=s_1_22&otracker=search&otracker1=search&fm=organic&iid=05e2bb39-3440-4a87-b971-a12b884dbf91.MOBGNPK29ZWFHGGD.SEARCH&ppt=hp&ppn=homepage&ssid=91yz5lzk8w0000001691681414250&qH=6ea4465d0add4685', 'https://www.flipkart.com/realme-c53-champion-black-64-gb/p/itm5df90168ecd05?pid=MOBGQY93HQSAGAXG&lid=LSTMOBGQY93HQSAGAXGQLZ2WK&marketplace=FLIPKART&q=smartphones&store=tyy%2F4io&srno=s_1_23&otracker=search&otracker1=search&fm=organic&iid=05e2bb39-3440-4a87-b971-a12b884dbf91.MOBGQY93HQSAGAXG.SEARCH&ppt=hp&ppn=homepage&ssid=91yz5lzk8w0000001691681414250&qH=6ea4465d0add4685', 'https://www.flipkart.com/infinix-smart-7-hd-jade-white-64-gb/p/itmae6d492c1083e?pid=MOBGZNM998PNVGGF&lid=LSTMOBGZNM998PNVGGFEMF5MT&marketplace=FLIPKART&q=smartphones&store=tyy%2F4io&srno=s_1_24&otracker=search&otracker1=search&fm=organic&iid=05e2bb39-3440-4a87-b971-a12b884dbf91.MOBGZNM998PNVGGF.SEARCH&ppt=hp&ppn=homepage&ssid=91yz5lzk8w0000001691681414250&qH=6ea4465d0add4685']\n"
     ]
    }
   ],
   "source": [
    "print(purl)"
   ]
  },
  {
   "cell_type": "code",
   "execution_count": 78,
   "id": "e94bb4fb",
   "metadata": {},
   "outputs": [
    {
     "name": "stdout",
     "output_type": "stream",
     "text": [
      "0 0 0 0 0 0 0 0 0 0 24\n"
     ]
    }
   ],
   "source": [
    "print(len(pbrand),len(pname),len(pcolour),len(pram),len(pstorage),len(ppcamera),len(pscamera),len(psize),len(pbattery),len(pprice),len(purl))\n",
    "\n"
   ]
  },
  {
   "cell_type": "code",
   "execution_count": 79,
   "id": "55a789ad",
   "metadata": {},
   "outputs": [],
   "source": [
    "for url in purl:\n",
    "    driver.get(url)\n",
    "    search=driver.find_element(By.XPATH,\"/html/body/div[1]/div/div[3]/div[1]/div[2]/div[10]/div[5]/div/div[2]/button\")\n",
    "    search.click()\n",
    "    time.sleep(3)\n",
    "    \n",
    "    try:\n",
    "        sbrand=driver.find_element(By.XPATH,'/html/body/div[1]/div/div[3]/div[1]/div[2]/div[2]/div[1]/div/div[4]/a')\n",
    "        pbrand.append(sbrand.text)\n",
    "        sname=driver.find_element(By.XPATH,'//span[@class=\"B_NuCI\"]')\n",
    "        pname.append(sname.text)        \n",
    "        scolour=driver.find_element(By.XPATH,'/html/body/div[1]/div/div[3]/div[1]/div[2]/div[10]/div[5]/div/div[2]/div[1]/div[1]/table/tbody/tr[4]/td[2]/ul/li')\n",
    "        pcolour.append(scolour.text)\n",
    "        sram=driver.find_element(By.XPATH,'/html/body/div[1]/div/div[3]/div[1]/div[2]/div[10]/div[5]/div/div[2]/div[1]/div[4]/table/tbody/tr[2]/td[2]/ul/li')\n",
    "        pram.append(sram.text)\n",
    "        sstorage=driver.find_element(By.XPATH,'/html/body/div[1]/div/div[3]/div[1]/div[2]/div[10]/div[5]/div/div[2]/div[1]/div[4]/table/tbody/tr[1]/td[2]/ul/li')\n",
    "        pstorage.append(sstorage.text)\n",
    "        spcamera=driver.find_element(By.XPATH,'/html/body/div[1]/div/div[3]/div[1]/div[2]/div[10]/div[5]/div/div[2]/div[1]/div[5]/table/tbody/tr[2]/td[2]/ul/li')\n",
    "        ppcamera.append(spcamera.text)\n",
    "        sscamera=driver.find_element(By.XPATH,'/html/body/div[1]/div/div[3]/div[1]/div[2]/div[10]/div[5]/div/div[2]/div[1]/div[5]/table/tbody/tr[6]/td[2]/ul/li')\n",
    "        pscamera.append(sscamera.text)        \n",
    "        ssize=driver.find_element(By.XPATH,'/html/body/div[1]/div/div[3]/div[1]/div[2]/div[10]/div[5]/div/div[2]/div[1]/div[2]/table/tbody/tr[1]/td[2]/ul/li')\n",
    "        psize.append(ssize.text)\n",
    "        sbattery=driver.find_element(By.XPATH,'/html/body/div[1]/div/div[3]/div[1]/div[2]/div[10]/div[5]/div/div[2]/div[1]/div[10]/table/tbody/tr/td[2]/ul/li')\n",
    "        pbattery.append(sbattery.text)\n",
    "        sprice=driver.find_element(By.XPATH,'//div[@class=\"_30jeq3 _16Jk6d\"]')\n",
    "        pprice.append(sprice.text)\n",
    "    except NoSuchElementException:\n",
    "        pbrand.append('_')\n",
    "        pname.append('_')\n",
    "        pcolour.append('_')\n",
    "        pram.append('_')\n",
    "        pstorage.append('_')\n",
    "        ppcamera.append('_')\n",
    "        pscamera.append('_')\n",
    "        psize.append('_')\n",
    "        pbattery.append('_')\n",
    "        pprice.append('_')"
   ]
  },
  {
   "cell_type": "code",
   "execution_count": null,
   "id": "07e97cec",
   "metadata": {},
   "outputs": [],
   "source": []
  },
  {
   "cell_type": "code",
   "execution_count": 80,
   "id": "8c2c0342",
   "metadata": {},
   "outputs": [
    {
     "name": "stdout",
     "output_type": "stream",
     "text": [
      "24 24 24 24 24 24 24 24 24 24 24\n"
     ]
    }
   ],
   "source": [
    "print(len(pbrand),len(pname),len(pcolour),len(pram),len(pstorage),len(ppcamera),len(pscamera),len(psize),len(pbattery),len(pprice),len(purl))\n",
    "\n"
   ]
  },
  {
   "cell_type": "code",
   "execution_count": null,
   "id": "46642e7e",
   "metadata": {},
   "outputs": [],
   "source": []
  },
  {
   "cell_type": "code",
   "execution_count": 81,
   "id": "6b4c17a4",
   "metadata": {},
   "outputs": [
    {
     "data": {
      "text/html": [
       "<div>\n",
       "<style scoped>\n",
       "    .dataframe tbody tr th:only-of-type {\n",
       "        vertical-align: middle;\n",
       "    }\n",
       "\n",
       "    .dataframe tbody tr th {\n",
       "        vertical-align: top;\n",
       "    }\n",
       "\n",
       "    .dataframe thead th {\n",
       "        text-align: right;\n",
       "    }\n",
       "</style>\n",
       "<table border=\"1\" class=\"dataframe\">\n",
       "  <thead>\n",
       "    <tr style=\"text-align: right;\">\n",
       "      <th></th>\n",
       "      <th>Brand Name</th>\n",
       "      <th>Smartphone Name</th>\n",
       "      <th>Colour</th>\n",
       "      <th>Ram</th>\n",
       "      <th>Storage(ROM)</th>\n",
       "      <th>Primary Camera</th>\n",
       "      <th>Secoundary Camera</th>\n",
       "      <th>Display Size</th>\n",
       "      <th>Battery Capacity</th>\n",
       "      <th>Price</th>\n",
       "      <th>Product URL</th>\n",
       "    </tr>\n",
       "  </thead>\n",
       "  <tbody>\n",
       "    <tr>\n",
       "      <th>0</th>\n",
       "      <td>SAMSUNG Galaxy F04 (Jade Purple, 64 GB)  (4 GB...</td>\n",
       "      <td>SAMSUNG Galaxy F04 (Jade Purple, 64 GB)  (4 GB...</td>\n",
       "      <td>Jade Purple</td>\n",
       "      <td>4 GB</td>\n",
       "      <td>64 GB</td>\n",
       "      <td>13MP + 2MP</td>\n",
       "      <td>5MP Front Camera</td>\n",
       "      <td>16.51 cm (6.5 inch)</td>\n",
       "      <td>5000 mAh</td>\n",
       "      <td>₹7,099</td>\n",
       "      <td>https://www.flipkart.com/samsung-galaxy-f04-ja...</td>\n",
       "    </tr>\n",
       "    <tr>\n",
       "      <th>1</th>\n",
       "      <td>SAMSUNG Galaxy F13 (Sunrise Copper, 64 GB)  (4...</td>\n",
       "      <td>SAMSUNG Galaxy F13 (Sunrise Copper, 64 GB)  (4...</td>\n",
       "      <td>Sunrise Copper</td>\n",
       "      <td>4 GB</td>\n",
       "      <td>64 GB</td>\n",
       "      <td>50MP + 5MP + 2MP</td>\n",
       "      <td>8MP Front Camera</td>\n",
       "      <td>16.76 cm (6.6 inch)</td>\n",
       "      <td>6000 mAh</td>\n",
       "      <td>₹9,599</td>\n",
       "      <td>https://www.flipkart.com/samsung-galaxy-f13-su...</td>\n",
       "    </tr>\n",
       "    <tr>\n",
       "      <th>2</th>\n",
       "      <td>POCO C51 (Royal Blue, 64 GB)  (4 GB RAM)</td>\n",
       "      <td>POCO C51 (Royal Blue, 64 GB)  (4 GB RAM)</td>\n",
       "      <td>Royal Blue</td>\n",
       "      <td>4 GB</td>\n",
       "      <td>64 GB</td>\n",
       "      <td>8MP Dual Rear Camera</td>\n",
       "      <td>5MP Front Camera</td>\n",
       "      <td>16.56 cm (6.52 inch)</td>\n",
       "      <td>5000 mAh</td>\n",
       "      <td>₹6,499</td>\n",
       "      <td>https://www.flipkart.com/poco-c51-royal-blue-6...</td>\n",
       "    </tr>\n",
       "    <tr>\n",
       "      <th>3</th>\n",
       "      <td>SAMSUNG Galaxy F13 (Waterfall Blue, 64 GB)  (4...</td>\n",
       "      <td>SAMSUNG Galaxy F13 (Waterfall Blue, 64 GB)  (4...</td>\n",
       "      <td>Waterfall Blue</td>\n",
       "      <td>4 GB</td>\n",
       "      <td>64 GB</td>\n",
       "      <td>50MP + 5MP + 2MP</td>\n",
       "      <td>8MP Front Camera</td>\n",
       "      <td>16.76 cm (6.6 inch)</td>\n",
       "      <td>6000 mAh</td>\n",
       "      <td>₹9,599</td>\n",
       "      <td>https://www.flipkart.com/samsung-galaxy-f13-wa...</td>\n",
       "    </tr>\n",
       "    <tr>\n",
       "      <th>4</th>\n",
       "      <td>vivo T2x 5G (Glimmer Black, 128 GB)  (4 GB RAM)</td>\n",
       "      <td>vivo T2x 5G (Glimmer Black, 128 GB)  (4 GB RAM)</td>\n",
       "      <td>Glimmer Black</td>\n",
       "      <td>4 GB</td>\n",
       "      <td>128 GB</td>\n",
       "      <td>50MP + 2MP</td>\n",
       "      <td>8MP Front Camera Setup: (f/2.0 Aperture)</td>\n",
       "      <td>16.71 cm (6.58 inch)</td>\n",
       "      <td>5000 mAh</td>\n",
       "      <td>₹12,999</td>\n",
       "      <td>https://www.flipkart.com/vivo-t2x-5g-glimmer-b...</td>\n",
       "    </tr>\n",
       "    <tr>\n",
       "      <th>5</th>\n",
       "      <td>POCO C51 (Power Black, 64 GB)  (4 GB RAM)</td>\n",
       "      <td>POCO C51 (Power Black, 64 GB)  (4 GB RAM)</td>\n",
       "      <td>Power Black</td>\n",
       "      <td>4 GB</td>\n",
       "      <td>64 GB</td>\n",
       "      <td>8MP Dual Rear Camera</td>\n",
       "      <td>5MP Front Camera</td>\n",
       "      <td>16.56 cm (6.52 inch)</td>\n",
       "      <td>5000 mAh</td>\n",
       "      <td>₹6,499</td>\n",
       "      <td>https://www.flipkart.com/poco-c51-power-black-...</td>\n",
       "    </tr>\n",
       "    <tr>\n",
       "      <th>6</th>\n",
       "      <td>vivo T2x 5G (Marine Blue, 128 GB)  (6 GB RAM)</td>\n",
       "      <td>vivo T2x 5G (Marine Blue, 128 GB)  (6 GB RAM)</td>\n",
       "      <td>Marine Blue</td>\n",
       "      <td>6 GB</td>\n",
       "      <td>128 GB</td>\n",
       "      <td>50MP + 2MP</td>\n",
       "      <td>8MP Front Camera Setup: (f/2.0 Aperture)</td>\n",
       "      <td>16.71 cm (6.58 inch)</td>\n",
       "      <td>5000 mAh</td>\n",
       "      <td>₹13,999</td>\n",
       "      <td>https://www.flipkart.com/vivo-t2x-5g-marine-bl...</td>\n",
       "    </tr>\n",
       "    <tr>\n",
       "      <th>7</th>\n",
       "      <td>vivo T2x 5G (Glimmer Black, 128 GB)  (6 GB RAM)</td>\n",
       "      <td>vivo T2x 5G (Glimmer Black, 128 GB)  (6 GB RAM)</td>\n",
       "      <td>Glimmer Black</td>\n",
       "      <td>6 GB</td>\n",
       "      <td>128 GB</td>\n",
       "      <td>50MP + 2MP</td>\n",
       "      <td>8MP Front Camera Setup: (f/2.0 Aperture)</td>\n",
       "      <td>16.71 cm (6.58 inch)</td>\n",
       "      <td>5000 mAh</td>\n",
       "      <td>₹13,999</td>\n",
       "      <td>https://www.flipkart.com/vivo-t2x-5g-glimmer-b...</td>\n",
       "    </tr>\n",
       "    <tr>\n",
       "      <th>8</th>\n",
       "      <td>vivo T2x 5G (Aurora Gold, 128 GB)  (4 GB RAM)</td>\n",
       "      <td>vivo T2x 5G (Aurora Gold, 128 GB)  (4 GB RAM)</td>\n",
       "      <td>Aurora Gold</td>\n",
       "      <td>4 GB</td>\n",
       "      <td>128 GB</td>\n",
       "      <td>50MP + 2MP</td>\n",
       "      <td>8MP Front Camera Setup: (f/2.0 Aperture)</td>\n",
       "      <td>16.71 cm (6.58 inch)</td>\n",
       "      <td>5000 mAh</td>\n",
       "      <td>₹12,999</td>\n",
       "      <td>https://www.flipkart.com/vivo-t2x-5g-aurora-go...</td>\n",
       "    </tr>\n",
       "    <tr>\n",
       "      <th>9</th>\n",
       "      <td>POCO C55 (Forest Green, 128 GB)  (6 GB RAM)</td>\n",
       "      <td>POCO C55 (Forest Green, 128 GB)  (6 GB RAM)</td>\n",
       "      <td>Forest Green</td>\n",
       "      <td>6 GB</td>\n",
       "      <td>128 GB</td>\n",
       "      <td>50MP Dual Rear Camera</td>\n",
       "      <td>5MP Front Camera: Camera Features: Portrait Mo...</td>\n",
       "      <td>17.04 cm (6.71 inch)</td>\n",
       "      <td>5000 mAh</td>\n",
       "      <td>₹8,499</td>\n",
       "      <td>https://www.flipkart.com/poco-c55-forest-green...</td>\n",
       "    </tr>\n",
       "    <tr>\n",
       "      <th>10</th>\n",
       "      <td>POCO C55 (Power Black, 128 GB)  (6 GB RAM)</td>\n",
       "      <td>POCO C55 (Power Black, 128 GB)  (6 GB RAM)</td>\n",
       "      <td>Power Black</td>\n",
       "      <td>6 GB</td>\n",
       "      <td>128 GB</td>\n",
       "      <td>50MP Dual Rear Camera</td>\n",
       "      <td>5MP Front Camera: Camera Features: Portrait Mo...</td>\n",
       "      <td>17.04 cm (6.71 inch)</td>\n",
       "      <td>5000 mAh</td>\n",
       "      <td>₹8,499</td>\n",
       "      <td>https://www.flipkart.com/poco-c55-power-black-...</td>\n",
       "    </tr>\n",
       "    <tr>\n",
       "      <th>11</th>\n",
       "      <td>POCO C55 (Cool Blue, 128 GB)  (6 GB RAM)</td>\n",
       "      <td>POCO C55 (Cool Blue, 128 GB)  (6 GB RAM)</td>\n",
       "      <td>Cool Blue</td>\n",
       "      <td>6 GB</td>\n",
       "      <td>128 GB</td>\n",
       "      <td>50MP Dual Rear Camera</td>\n",
       "      <td>5MP Front Camera: Camera Features: Portrait Mo...</td>\n",
       "      <td>17.04 cm (6.71 inch)</td>\n",
       "      <td>5000 mAh</td>\n",
       "      <td>₹8,499</td>\n",
       "      <td>https://www.flipkart.com/poco-c55-cool-blue-12...</td>\n",
       "    </tr>\n",
       "    <tr>\n",
       "      <th>12</th>\n",
       "      <td>POCO C50 (Royal Blue, 32 GB)  (2 GB RAM)</td>\n",
       "      <td>POCO C50 (Royal Blue, 32 GB)  (2 GB RAM)</td>\n",
       "      <td>Royal Blue</td>\n",
       "      <td>2 GB</td>\n",
       "      <td>32 GB</td>\n",
       "      <td>8MP Dual Camera</td>\n",
       "      <td>5 MP Camera Setup</td>\n",
       "      <td>16.56 cm (6.52 inch)</td>\n",
       "      <td>5000 mAh</td>\n",
       "      <td>₹5,499</td>\n",
       "      <td>https://www.flipkart.com/poco-c50-royal-blue-3...</td>\n",
       "    </tr>\n",
       "    <tr>\n",
       "      <th>13</th>\n",
       "      <td>SAMSUNG Galaxy F34 5G (Electric Black, 128 GB)...</td>\n",
       "      <td>SAMSUNG Galaxy F34 5G (Electric Black, 128 GB)...</td>\n",
       "      <td>Electric Black</td>\n",
       "      <td>6 GB</td>\n",
       "      <td>128 GB</td>\n",
       "      <td>50MP (OIS) + 8MP + 2MP</td>\n",
       "      <td>13MP Front Camera</td>\n",
       "      <td>16.51 cm (6.5 inch)</td>\n",
       "      <td>6000 mAh</td>\n",
       "      <td>₹18,999</td>\n",
       "      <td>https://www.flipkart.com/samsung-galaxy-f34-5g...</td>\n",
       "    </tr>\n",
       "    <tr>\n",
       "      <th>14</th>\n",
       "      <td>vivo T2x 5G (Aurora Gold, 128 GB)  (6 GB RAM)</td>\n",
       "      <td>vivo T2x 5G (Aurora Gold, 128 GB)  (6 GB RAM)</td>\n",
       "      <td>Aurora Gold</td>\n",
       "      <td>6 GB</td>\n",
       "      <td>128 GB</td>\n",
       "      <td>50MP + 2MP</td>\n",
       "      <td>8MP Front Camera Setup: (f/2.0 Aperture)</td>\n",
       "      <td>16.71 cm (6.58 inch)</td>\n",
       "      <td>5000 mAh</td>\n",
       "      <td>₹13,999</td>\n",
       "      <td>https://www.flipkart.com/vivo-t2x-5g-aurora-go...</td>\n",
       "    </tr>\n",
       "    <tr>\n",
       "      <th>15</th>\n",
       "      <td>POCO C55 (Cool Blue, 64 GB)  (4 GB RAM)</td>\n",
       "      <td>POCO C55 (Cool Blue, 64 GB)  (4 GB RAM)</td>\n",
       "      <td>Cool Blue</td>\n",
       "      <td>4 GB</td>\n",
       "      <td>64 GB</td>\n",
       "      <td>50MP Dual Rear Camera</td>\n",
       "      <td>5MP Front Camera: Camera Features: Portrait Mo...</td>\n",
       "      <td>17.04 cm (6.71 inch)</td>\n",
       "      <td>5000 mAh</td>\n",
       "      <td>₹7,499</td>\n",
       "      <td>https://www.flipkart.com/poco-c55-cool-blue-64...</td>\n",
       "    </tr>\n",
       "    <tr>\n",
       "      <th>16</th>\n",
       "      <td>realme C53 (Champion Gold, 64 GB)  (6 GB RAM)</td>\n",
       "      <td>realme C53 (Champion Gold, 64 GB)  (6 GB RAM)</td>\n",
       "      <td>Champion Gold</td>\n",
       "      <td>6 GB</td>\n",
       "      <td>64 GB</td>\n",
       "      <td>108MP + 2MP</td>\n",
       "      <td>8MP Front Camera</td>\n",
       "      <td>17.12 cm (6.74 inch)</td>\n",
       "      <td>5000 mAh</td>\n",
       "      <td>₹10,999</td>\n",
       "      <td>https://www.flipkart.com/realme-c53-champion-g...</td>\n",
       "    </tr>\n",
       "    <tr>\n",
       "      <th>17</th>\n",
       "      <td>SAMSUNG Galaxy F13 (Waterfall Blue, 128 GB)  (...</td>\n",
       "      <td>SAMSUNG Galaxy F13 (Waterfall Blue, 128 GB)  (...</td>\n",
       "      <td>Waterfall Blue</td>\n",
       "      <td>4 GB</td>\n",
       "      <td>128 GB</td>\n",
       "      <td>50MP + 5MP + 2MP</td>\n",
       "      <td>8MP Front Camera</td>\n",
       "      <td>16.76 cm (6.6 inch)</td>\n",
       "      <td>6000 mAh</td>\n",
       "      <td>₹10,599</td>\n",
       "      <td>https://www.flipkart.com/samsung-galaxy-f13-wa...</td>\n",
       "    </tr>\n",
       "    <tr>\n",
       "      <th>18</th>\n",
       "      <td>MOTOROLA G62 5G (Frosted Blue, 128 GB)  (6 GB ...</td>\n",
       "      <td>MOTOROLA G62 5G (Frosted Blue, 128 GB)  (6 GB ...</td>\n",
       "      <td>Frosted Blue</td>\n",
       "      <td>6 GB</td>\n",
       "      <td>128 GB</td>\n",
       "      <td>50MP + 8MP + 2MP</td>\n",
       "      <td>16MP Camera Setup: Camera Feature: Camera Feat...</td>\n",
       "      <td>16.64 cm (6.55 inch)</td>\n",
       "      <td>5000 mAh</td>\n",
       "      <td>₹14,999</td>\n",
       "      <td>https://www.flipkart.com/motorola-g62-5g-frost...</td>\n",
       "    </tr>\n",
       "    <tr>\n",
       "      <th>19</th>\n",
       "      <td>POCO C55 (Forest Green, 64 GB)  (4 GB RAM)</td>\n",
       "      <td>POCO C55 (Forest Green, 64 GB)  (4 GB RAM)</td>\n",
       "      <td>Forest Green</td>\n",
       "      <td>4 GB</td>\n",
       "      <td>64 GB</td>\n",
       "      <td>50MP Dual Rear Camera</td>\n",
       "      <td>5MP Front Camera: Camera Features: Portrait Mo...</td>\n",
       "      <td>17.04 cm (6.71 inch)</td>\n",
       "      <td>5000 mAh</td>\n",
       "      <td>₹7,499</td>\n",
       "      <td>https://www.flipkart.com/poco-c55-forest-green...</td>\n",
       "    </tr>\n",
       "    <tr>\n",
       "      <th>20</th>\n",
       "      <td>POCO C55 (Power Black, 64 GB)  (4 GB RAM)</td>\n",
       "      <td>POCO C55 (Power Black, 64 GB)  (4 GB RAM)</td>\n",
       "      <td>Power Black</td>\n",
       "      <td>4 GB</td>\n",
       "      <td>64 GB</td>\n",
       "      <td>50MP Dual Rear Camera</td>\n",
       "      <td>5MP Front Camera: Camera Features: Portrait Mo...</td>\n",
       "      <td>17.04 cm (6.71 inch)</td>\n",
       "      <td>5000 mAh</td>\n",
       "      <td>₹7,499</td>\n",
       "      <td>https://www.flipkart.com/poco-c55-power-black-...</td>\n",
       "    </tr>\n",
       "    <tr>\n",
       "      <th>21</th>\n",
       "      <td>Infinix HOT 30i (Diamond White, 128 GB)  (8 GB...</td>\n",
       "      <td>Infinix HOT 30i (Diamond White, 128 GB)  (8 GB...</td>\n",
       "      <td>Diamond White</td>\n",
       "      <td>8 GB</td>\n",
       "      <td>128 GB</td>\n",
       "      <td>50MP + AI Lens</td>\n",
       "      <td>5MP AI Camera: Camera Features: Portrait, Face...</td>\n",
       "      <td>16.76 cm (6.6 inch)</td>\n",
       "      <td>5000 mAh</td>\n",
       "      <td>₹9,039</td>\n",
       "      <td>https://www.flipkart.com/infinix-hot-30i-diamo...</td>\n",
       "    </tr>\n",
       "    <tr>\n",
       "      <th>22</th>\n",
       "      <td>realme C53 (Champion Black, 64 GB)  (6 GB RAM)</td>\n",
       "      <td>realme C53 (Champion Black, 64 GB)  (6 GB RAM)</td>\n",
       "      <td>Champion Black</td>\n",
       "      <td>6 GB</td>\n",
       "      <td>64 GB</td>\n",
       "      <td>108MP + 2MP</td>\n",
       "      <td>8MP Front Camera</td>\n",
       "      <td>17.12 cm (6.74 inch)</td>\n",
       "      <td>5000 mAh</td>\n",
       "      <td>₹10,999</td>\n",
       "      <td>https://www.flipkart.com/realme-c53-champion-b...</td>\n",
       "    </tr>\n",
       "    <tr>\n",
       "      <th>23</th>\n",
       "      <td>Infinix Smart 7 HD (Jade White, 64 GB)  (2 GB ...</td>\n",
       "      <td>Infinix Smart 7 HD (Jade White, 64 GB)  (2 GB ...</td>\n",
       "      <td>Jade White</td>\n",
       "      <td>2 GB</td>\n",
       "      <td>64 GB</td>\n",
       "      <td>8MP + AI Lens</td>\n",
       "      <td>5MP Front Camera: Camera Features:AI Portrait,...</td>\n",
       "      <td>16.76 cm (6.6 inch)</td>\n",
       "      <td>5000 mAh</td>\n",
       "      <td>₹5,999</td>\n",
       "      <td>https://www.flipkart.com/infinix-smart-7-hd-ja...</td>\n",
       "    </tr>\n",
       "  </tbody>\n",
       "</table>\n",
       "</div>"
      ],
      "text/plain": [
       "                                           Brand Name  \\\n",
       "0   SAMSUNG Galaxy F04 (Jade Purple, 64 GB)  (4 GB...   \n",
       "1   SAMSUNG Galaxy F13 (Sunrise Copper, 64 GB)  (4...   \n",
       "2            POCO C51 (Royal Blue, 64 GB)  (4 GB RAM)   \n",
       "3   SAMSUNG Galaxy F13 (Waterfall Blue, 64 GB)  (4...   \n",
       "4     vivo T2x 5G (Glimmer Black, 128 GB)  (4 GB RAM)   \n",
       "5           POCO C51 (Power Black, 64 GB)  (4 GB RAM)   \n",
       "6       vivo T2x 5G (Marine Blue, 128 GB)  (6 GB RAM)   \n",
       "7     vivo T2x 5G (Glimmer Black, 128 GB)  (6 GB RAM)   \n",
       "8       vivo T2x 5G (Aurora Gold, 128 GB)  (4 GB RAM)   \n",
       "9         POCO C55 (Forest Green, 128 GB)  (6 GB RAM)   \n",
       "10         POCO C55 (Power Black, 128 GB)  (6 GB RAM)   \n",
       "11           POCO C55 (Cool Blue, 128 GB)  (6 GB RAM)   \n",
       "12           POCO C50 (Royal Blue, 32 GB)  (2 GB RAM)   \n",
       "13  SAMSUNG Galaxy F34 5G (Electric Black, 128 GB)...   \n",
       "14      vivo T2x 5G (Aurora Gold, 128 GB)  (6 GB RAM)   \n",
       "15            POCO C55 (Cool Blue, 64 GB)  (4 GB RAM)   \n",
       "16      realme C53 (Champion Gold, 64 GB)  (6 GB RAM)   \n",
       "17  SAMSUNG Galaxy F13 (Waterfall Blue, 128 GB)  (...   \n",
       "18  MOTOROLA G62 5G (Frosted Blue, 128 GB)  (6 GB ...   \n",
       "19         POCO C55 (Forest Green, 64 GB)  (4 GB RAM)   \n",
       "20          POCO C55 (Power Black, 64 GB)  (4 GB RAM)   \n",
       "21  Infinix HOT 30i (Diamond White, 128 GB)  (8 GB...   \n",
       "22     realme C53 (Champion Black, 64 GB)  (6 GB RAM)   \n",
       "23  Infinix Smart 7 HD (Jade White, 64 GB)  (2 GB ...   \n",
       "\n",
       "                                      Smartphone Name          Colour   Ram  \\\n",
       "0   SAMSUNG Galaxy F04 (Jade Purple, 64 GB)  (4 GB...     Jade Purple  4 GB   \n",
       "1   SAMSUNG Galaxy F13 (Sunrise Copper, 64 GB)  (4...  Sunrise Copper  4 GB   \n",
       "2            POCO C51 (Royal Blue, 64 GB)  (4 GB RAM)      Royal Blue  4 GB   \n",
       "3   SAMSUNG Galaxy F13 (Waterfall Blue, 64 GB)  (4...  Waterfall Blue  4 GB   \n",
       "4     vivo T2x 5G (Glimmer Black, 128 GB)  (4 GB RAM)   Glimmer Black  4 GB   \n",
       "5           POCO C51 (Power Black, 64 GB)  (4 GB RAM)     Power Black  4 GB   \n",
       "6       vivo T2x 5G (Marine Blue, 128 GB)  (6 GB RAM)     Marine Blue  6 GB   \n",
       "7     vivo T2x 5G (Glimmer Black, 128 GB)  (6 GB RAM)   Glimmer Black  6 GB   \n",
       "8       vivo T2x 5G (Aurora Gold, 128 GB)  (4 GB RAM)     Aurora Gold  4 GB   \n",
       "9         POCO C55 (Forest Green, 128 GB)  (6 GB RAM)    Forest Green  6 GB   \n",
       "10         POCO C55 (Power Black, 128 GB)  (6 GB RAM)     Power Black  6 GB   \n",
       "11           POCO C55 (Cool Blue, 128 GB)  (6 GB RAM)       Cool Blue  6 GB   \n",
       "12           POCO C50 (Royal Blue, 32 GB)  (2 GB RAM)      Royal Blue  2 GB   \n",
       "13  SAMSUNG Galaxy F34 5G (Electric Black, 128 GB)...  Electric Black  6 GB   \n",
       "14      vivo T2x 5G (Aurora Gold, 128 GB)  (6 GB RAM)     Aurora Gold  6 GB   \n",
       "15            POCO C55 (Cool Blue, 64 GB)  (4 GB RAM)       Cool Blue  4 GB   \n",
       "16      realme C53 (Champion Gold, 64 GB)  (6 GB RAM)   Champion Gold  6 GB   \n",
       "17  SAMSUNG Galaxy F13 (Waterfall Blue, 128 GB)  (...  Waterfall Blue  4 GB   \n",
       "18  MOTOROLA G62 5G (Frosted Blue, 128 GB)  (6 GB ...    Frosted Blue  6 GB   \n",
       "19         POCO C55 (Forest Green, 64 GB)  (4 GB RAM)    Forest Green  4 GB   \n",
       "20          POCO C55 (Power Black, 64 GB)  (4 GB RAM)     Power Black  4 GB   \n",
       "21  Infinix HOT 30i (Diamond White, 128 GB)  (8 GB...   Diamond White  8 GB   \n",
       "22     realme C53 (Champion Black, 64 GB)  (6 GB RAM)  Champion Black  6 GB   \n",
       "23  Infinix Smart 7 HD (Jade White, 64 GB)  (2 GB ...      Jade White  2 GB   \n",
       "\n",
       "   Storage(ROM)          Primary Camera  \\\n",
       "0         64 GB              13MP + 2MP   \n",
       "1         64 GB        50MP + 5MP + 2MP   \n",
       "2         64 GB    8MP Dual Rear Camera   \n",
       "3         64 GB        50MP + 5MP + 2MP   \n",
       "4        128 GB              50MP + 2MP   \n",
       "5         64 GB    8MP Dual Rear Camera   \n",
       "6        128 GB              50MP + 2MP   \n",
       "7        128 GB              50MP + 2MP   \n",
       "8        128 GB              50MP + 2MP   \n",
       "9        128 GB   50MP Dual Rear Camera   \n",
       "10       128 GB   50MP Dual Rear Camera   \n",
       "11       128 GB   50MP Dual Rear Camera   \n",
       "12        32 GB         8MP Dual Camera   \n",
       "13       128 GB  50MP (OIS) + 8MP + 2MP   \n",
       "14       128 GB              50MP + 2MP   \n",
       "15        64 GB   50MP Dual Rear Camera   \n",
       "16        64 GB             108MP + 2MP   \n",
       "17       128 GB        50MP + 5MP + 2MP   \n",
       "18       128 GB        50MP + 8MP + 2MP   \n",
       "19        64 GB   50MP Dual Rear Camera   \n",
       "20        64 GB   50MP Dual Rear Camera   \n",
       "21       128 GB          50MP + AI Lens   \n",
       "22        64 GB             108MP + 2MP   \n",
       "23        64 GB           8MP + AI Lens   \n",
       "\n",
       "                                    Secoundary Camera          Display Size  \\\n",
       "0                                    5MP Front Camera   16.51 cm (6.5 inch)   \n",
       "1                                    8MP Front Camera   16.76 cm (6.6 inch)   \n",
       "2                                    5MP Front Camera  16.56 cm (6.52 inch)   \n",
       "3                                    8MP Front Camera   16.76 cm (6.6 inch)   \n",
       "4            8MP Front Camera Setup: (f/2.0 Aperture)  16.71 cm (6.58 inch)   \n",
       "5                                    5MP Front Camera  16.56 cm (6.52 inch)   \n",
       "6            8MP Front Camera Setup: (f/2.0 Aperture)  16.71 cm (6.58 inch)   \n",
       "7            8MP Front Camera Setup: (f/2.0 Aperture)  16.71 cm (6.58 inch)   \n",
       "8            8MP Front Camera Setup: (f/2.0 Aperture)  16.71 cm (6.58 inch)   \n",
       "9   5MP Front Camera: Camera Features: Portrait Mo...  17.04 cm (6.71 inch)   \n",
       "10  5MP Front Camera: Camera Features: Portrait Mo...  17.04 cm (6.71 inch)   \n",
       "11  5MP Front Camera: Camera Features: Portrait Mo...  17.04 cm (6.71 inch)   \n",
       "12                                  5 MP Camera Setup  16.56 cm (6.52 inch)   \n",
       "13                                  13MP Front Camera   16.51 cm (6.5 inch)   \n",
       "14           8MP Front Camera Setup: (f/2.0 Aperture)  16.71 cm (6.58 inch)   \n",
       "15  5MP Front Camera: Camera Features: Portrait Mo...  17.04 cm (6.71 inch)   \n",
       "16                                   8MP Front Camera  17.12 cm (6.74 inch)   \n",
       "17                                   8MP Front Camera   16.76 cm (6.6 inch)   \n",
       "18  16MP Camera Setup: Camera Feature: Camera Feat...  16.64 cm (6.55 inch)   \n",
       "19  5MP Front Camera: Camera Features: Portrait Mo...  17.04 cm (6.71 inch)   \n",
       "20  5MP Front Camera: Camera Features: Portrait Mo...  17.04 cm (6.71 inch)   \n",
       "21  5MP AI Camera: Camera Features: Portrait, Face...   16.76 cm (6.6 inch)   \n",
       "22                                   8MP Front Camera  17.12 cm (6.74 inch)   \n",
       "23  5MP Front Camera: Camera Features:AI Portrait,...   16.76 cm (6.6 inch)   \n",
       "\n",
       "   Battery Capacity    Price  \\\n",
       "0          5000 mAh   ₹7,099   \n",
       "1          6000 mAh   ₹9,599   \n",
       "2          5000 mAh   ₹6,499   \n",
       "3          6000 mAh   ₹9,599   \n",
       "4          5000 mAh  ₹12,999   \n",
       "5          5000 mAh   ₹6,499   \n",
       "6          5000 mAh  ₹13,999   \n",
       "7          5000 mAh  ₹13,999   \n",
       "8          5000 mAh  ₹12,999   \n",
       "9          5000 mAh   ₹8,499   \n",
       "10         5000 mAh   ₹8,499   \n",
       "11         5000 mAh   ₹8,499   \n",
       "12         5000 mAh   ₹5,499   \n",
       "13         6000 mAh  ₹18,999   \n",
       "14         5000 mAh  ₹13,999   \n",
       "15         5000 mAh   ₹7,499   \n",
       "16         5000 mAh  ₹10,999   \n",
       "17         6000 mAh  ₹10,599   \n",
       "18         5000 mAh  ₹14,999   \n",
       "19         5000 mAh   ₹7,499   \n",
       "20         5000 mAh   ₹7,499   \n",
       "21         5000 mAh   ₹9,039   \n",
       "22         5000 mAh  ₹10,999   \n",
       "23         5000 mAh   ₹5,999   \n",
       "\n",
       "                                          Product URL  \n",
       "0   https://www.flipkart.com/samsung-galaxy-f04-ja...  \n",
       "1   https://www.flipkart.com/samsung-galaxy-f13-su...  \n",
       "2   https://www.flipkart.com/poco-c51-royal-blue-6...  \n",
       "3   https://www.flipkart.com/samsung-galaxy-f13-wa...  \n",
       "4   https://www.flipkart.com/vivo-t2x-5g-glimmer-b...  \n",
       "5   https://www.flipkart.com/poco-c51-power-black-...  \n",
       "6   https://www.flipkart.com/vivo-t2x-5g-marine-bl...  \n",
       "7   https://www.flipkart.com/vivo-t2x-5g-glimmer-b...  \n",
       "8   https://www.flipkart.com/vivo-t2x-5g-aurora-go...  \n",
       "9   https://www.flipkart.com/poco-c55-forest-green...  \n",
       "10  https://www.flipkart.com/poco-c55-power-black-...  \n",
       "11  https://www.flipkart.com/poco-c55-cool-blue-12...  \n",
       "12  https://www.flipkart.com/poco-c50-royal-blue-3...  \n",
       "13  https://www.flipkart.com/samsung-galaxy-f34-5g...  \n",
       "14  https://www.flipkart.com/vivo-t2x-5g-aurora-go...  \n",
       "15  https://www.flipkart.com/poco-c55-cool-blue-64...  \n",
       "16  https://www.flipkart.com/realme-c53-champion-g...  \n",
       "17  https://www.flipkart.com/samsung-galaxy-f13-wa...  \n",
       "18  https://www.flipkart.com/motorola-g62-5g-frost...  \n",
       "19  https://www.flipkart.com/poco-c55-forest-green...  \n",
       "20  https://www.flipkart.com/poco-c55-power-black-...  \n",
       "21  https://www.flipkart.com/infinix-hot-30i-diamo...  \n",
       "22  https://www.flipkart.com/realme-c53-champion-b...  \n",
       "23  https://www.flipkart.com/infinix-smart-7-hd-ja...  "
      ]
     },
     "execution_count": 81,
     "metadata": {},
     "output_type": "execute_result"
    }
   ],
   "source": [
    "df=pd.DataFrame({'Brand Name':pname,'Smartphone Name':pname,'Colour':pcolour,'Ram':pram,'Storage(ROM)':pstorage,'Primary Camera':ppcamera,'Secoundary Camera':pscamera,'Display Size':psize,'Battery Capacity':pbattery,'Price':pprice,'Product URL':purl})\n",
    "df"
   ]
  },
  {
   "cell_type": "code",
   "execution_count": null,
   "id": "75b2606b",
   "metadata": {},
   "outputs": [],
   "source": []
  },
  {
   "cell_type": "code",
   "execution_count": 82,
   "id": "c2163c62",
   "metadata": {},
   "outputs": [],
   "source": [
    "df.to_csv('Mobile Details.csv',index=False)"
   ]
  },
  {
   "cell_type": "code",
   "execution_count": null,
   "id": "cfeb582c",
   "metadata": {},
   "outputs": [],
   "source": []
  },
  {
   "cell_type": "code",
   "execution_count": null,
   "id": "1d9a4505",
   "metadata": {},
   "outputs": [],
   "source": []
  },
  {
   "cell_type": "markdown",
   "id": "8589ed2f",
   "metadata": {},
   "source": [
    "# Q5"
   ]
  },
  {
   "cell_type": "code",
   "execution_count": null,
   "id": "77b72600",
   "metadata": {},
   "outputs": [],
   "source": []
  },
  {
   "cell_type": "code",
   "execution_count": 90,
   "id": "acfc4db9",
   "metadata": {},
   "outputs": [],
   "source": [
    "driver = webdriver.Chrome()"
   ]
  },
  {
   "cell_type": "code",
   "execution_count": 84,
   "id": "cbac6024",
   "metadata": {},
   "outputs": [],
   "source": [
    "driver.get(\"https://www.google.com/maps/place/Gateway+Of+India+Mumbai/@18.9219891,72.8297834,17z/data=!3m1!4b1!4m6!3m5!1s0x3be7d1c73a0d5cad:0xc70a25a7209c733c!8m2!3d18.9219841!4d72.8346543!16zL20vMDJoN3Iy?hl=en&entry=ttu\")"
   ]
  },
  {
   "cell_type": "code",
   "execution_count": 91,
   "id": "384187c4",
   "metadata": {},
   "outputs": [],
   "source": [
    "driver.get(\"https://www.google.com/maps/\")\n",
    "time.sleep(3)"
   ]
  },
  {
   "cell_type": "code",
   "execution_count": 92,
   "id": "78142913",
   "metadata": {},
   "outputs": [],
   "source": [
    "import re"
   ]
  },
  {
   "cell_type": "code",
   "execution_count": 93,
   "id": "0f79282b",
   "metadata": {},
   "outputs": [
    {
     "name": "stdout",
     "output_type": "stream",
     "text": [
      "Enter the name of address :gateway of india\n"
     ]
    }
   ],
   "source": [
    "city=input(\"Enter the name of address :\")"
   ]
  },
  {
   "cell_type": "code",
   "execution_count": 94,
   "id": "858293d4",
   "metadata": {},
   "outputs": [],
   "source": [
    "loc=driver.find_element(By.ID,\"searchboxinput\")\n",
    "loc.send_keys(city)\n",
    "time.sleep(3)"
   ]
  },
  {
   "cell_type": "code",
   "execution_count": 96,
   "id": "e65a81cf",
   "metadata": {},
   "outputs": [],
   "source": [
    "search=driver.find_element(By.XPATH,\"/html/body/div[3]/div[8]/div[3]/div[1]/div[1]/div/div[2]/div[1]/button\")\n",
    "search.click()\n",
    "time.sleep(3)"
   ]
  },
  {
   "cell_type": "code",
   "execution_count": 97,
   "id": "4647215d",
   "metadata": {},
   "outputs": [
    {
     "name": "stdout",
     "output_type": "stream",
     "text": [
      "URL is :  https://www.google.com/maps/place/Gateway+Of+India+Mumbai/@18.9219841,72.832074,17z/data=!4m6!3m5!1s0x3be7d1c73a0d5cad:0xc70a25a7209c733c!8m2!3d18.9219841!4d72.8346543!16zL20vMDJoN3Iy?entry=ttu\n",
      "Latitude = 18.9219841, Longitude = 72.832074\n"
     ]
    }
   ],
   "source": [
    "try:\n",
    "    urlstr=driver.current_url\n",
    "    print(\"URL is : \",urlstr)\n",
    "    lat_lon=re.findall(r'@(.*)data',urlstr)\n",
    "    if len(lat_lon):\n",
    "        lat_lon_list=lat_lon[0].split(',')\n",
    "        if len(lat_lon_list)>=2:\n",
    "            lat=lat_lon_list[0] \n",
    "            lon=lat_lon_list[1] \n",
    "        print(\"Latitude = {}, Longitude = {}\".format(lat, lon)) \n",
    "\n",
    "except Exception as e:\n",
    "    print(\"error :\",str(e))\n"
   ]
  },
  {
   "cell_type": "code",
   "execution_count": null,
   "id": "60fbe639",
   "metadata": {},
   "outputs": [],
   "source": []
  },
  {
   "cell_type": "markdown",
   "id": "1dd4644c",
   "metadata": {},
   "source": [
    "# Q6"
   ]
  },
  {
   "cell_type": "code",
   "execution_count": null,
   "id": "eaa4383f",
   "metadata": {},
   "outputs": [],
   "source": []
  },
  {
   "cell_type": "code",
   "execution_count": 102,
   "id": "4fa61386",
   "metadata": {},
   "outputs": [],
   "source": [
    "driver = webdriver.Chrome()"
   ]
  },
  {
   "cell_type": "code",
   "execution_count": 103,
   "id": "bbea3a72",
   "metadata": {},
   "outputs": [],
   "source": [
    "driver.get(\"https://www.digit.in/\")  \n",
    "time.sleep(3)"
   ]
  },
  {
   "cell_type": "code",
   "execution_count": 104,
   "id": "815dcc1a",
   "metadata": {},
   "outputs": [],
   "source": [
    "from selenium.webdriver.common.action_chains import ActionChains\n",
    "driver.maximize_window()"
   ]
  },
  {
   "cell_type": "code",
   "execution_count": 109,
   "id": "006848ce",
   "metadata": {},
   "outputs": [],
   "source": [
    "search_icon=driver.find_element(By.XPATH,\"/html/body/div[2]/div/ul/li[2]/span\")\n",
    "search_icon.click()"
   ]
  },
  {
   "cell_type": "code",
   "execution_count": 110,
   "id": "2b6d59ef",
   "metadata": {},
   "outputs": [],
   "source": [
    "search_icon=driver.find_element(By.XPATH,\"/html/body/div[2]/div/ul/li[2]/div[2]/div/div[1]/span[4]\")\n",
    "search_icon.click()"
   ]
  },
  {
   "cell_type": "code",
   "execution_count": 111,
   "id": "dba211f3",
   "metadata": {},
   "outputs": [],
   "source": [
    "search_icon=driver.find_element(By.XPATH,\"/html/body/div[2]/div/ul/li[2]/div[2]/div/div[5]/div/div[2]/a/span\")\n",
    "search_icon.click()"
   ]
  },
  {
   "cell_type": "code",
   "execution_count": 112,
   "id": "f800c2a5",
   "metadata": {},
   "outputs": [],
   "source": [
    "brand=[]\n",
    "spec=[]\n",
    "dec=[]\n",
    "seller=[]\n",
    "price=[]"
   ]
  },
  {
   "cell_type": "code",
   "execution_count": null,
   "id": "d4d6e8c4",
   "metadata": {},
   "outputs": [],
   "source": []
  },
  {
   "cell_type": "code",
   "execution_count": 119,
   "id": "3ee7c9e9",
   "metadata": {},
   "outputs": [
    {
     "name": "stdout",
     "output_type": "stream",
     "text": [
      "['HP OMEN 17 (2023)', 'MSI Titan GT77 12UHS', 'Lenovo Legion 5i Pro', 'ASUS ROG Strix Scar 18 2023', 'Acer Predator Helios Neo 16', 'ASUS ROG Zephyrus G14', 'MSI Cyborg 15']\n"
     ]
    }
   ],
   "source": [
    "lbrand=driver.find_elements(By.XPATH,'//span[@class=\"datahreflink\"]')\n",
    "\n",
    "for i in lbrand[0:7]:\n",
    "    br=i.text\n",
    "    brand.append(br)\n",
    "    \n",
    "print(brand)"
   ]
  },
  {
   "cell_type": "code",
   "execution_count": 121,
   "id": "aab28504",
   "metadata": {},
   "outputs": [
    {
     "name": "stdout",
     "output_type": "stream",
     "text": [
      "['Windows 11 Home\\n17.3\" (2560 x 1440)\\n13th Gen Intel Core i7-13700HX | 5.0 GHz\\n1 TB SSD/16 GB DDR5', 'Windows 11 Home\\n17.3\" (3840 x 2160)\\n12th Gen Intel Core i9-12900HX | 3.6 GHz\\n2 TB SSD/64 GB DDR5', 'Windows 11 Home\\n16\" (2560 x 1600)\\n12th Gen Intel Core i7-12700H | 4.7 GHz\\n1 TB SSD/32 GB DDR5', 'Windows 11 Home\\n18\" (1920 x 1200)\\n13th Gen Intel Core i9-13980HX | 2.2 GHz\\n1 TB SSD/32 GB DDR5', 'Windows 11 Home\\n16\" (2560 x 1600)\\n13th Gen Intel Core i7-13700HX | NA\\n1 TB SSD/16 GB DDR5', 'Windows 11 Home\\n14\" (1920 x 1200)\\nAMD Ryzen 9-6900HS | 4.9 GHz\\n1 TB SSD/16 GB DDR5', 'Windows 11 Home\\n15.6\" (1920 x 1080)\\n12th Gen Intel Core i7-12650H | 4.7 GHz\\n1 TB SSD/16 GB DDR5']\n"
     ]
    }
   ],
   "source": [
    "lspec=driver.find_elements(By.XPATH,'//div[@class=\"Specs-Wrap\"]')\n",
    "\n",
    "for i in lspec[0:7]:\n",
    "    sp=i.text\n",
    "    spec.append(sp)\n",
    "    \n",
    "print(spec)"
   ]
  },
  {
   "cell_type": "code",
   "execution_count": 122,
   "id": "4fa7314b",
   "metadata": {},
   "outputs": [
    {
     "name": "stdout",
     "output_type": "stream",
     "text": [
      "['We tested the HP OMEN 17 2023 at our digit test labs and it got every single gamer in the Digit editorial team super excited with its screaming fast performance across the latest games at maxed-out settings. Just to give you a reference, the OMEN 17 will happily do 350+ FPS on Valorant and consistently deliver 100+ FPS across any game you throw at it, all with the graphics slider kept at maximum/highest levels. You can check out our video review below to get the full low down on its performance, display quality tests with hardware level tests of brightness and color accuracy along with thermal performance under heavy load as well.', \"This laptop won our best performance award last year in the gaming laptop category and that is a testament to its performance and gaming prowess. What impressed us the most about this gaming beast is its sustained performance delivery even under heavy loads. This speaks volumes about its thermal management system, a big factor when it comes to high-performance gaming laptops that house top-of-the-line hardware inside laptop chassis which have very little room to manage heat in comparison to gaming desktops. However, you should also keep in mind that this is one heavy laptop (3.3 kg) and its not meant to be carried around frequently. The MSI Titan is also heavy on your wallet and that's also the reason why we have suggested lesser-priced high-performance gaming laptops below in the list to suit slightly lower budgets. To know more about the MSI laptop and its performance numbers, check out our videos below.\", 'This Lenovo Legion 5i Pro gaming laptop hits the sweet spot when it comes to the price-to-performance ratio in the upper price range of gaming laptops. It does pack an Nvidia GeForce RTX 3070Ti GPU which is very well-fed with enough power. The 150W TGP rating of the GPU ensures unshackled performance across the most demanding games with Ray Tracing turned on. Besides performance (which you can find in detail from the video below), the other two areas that left us mighty impressed are thermal management and display quality. Lenovo has worked on the aspects that matter the most to gamers and as a result, this gaming laptop performs very well when it comes to the premium segment of gaming laptops where there is very little room for any cut corners.', \"If a 17-inch display on a gaming laptop no longer cuts it for you, this one should be right in the slot for a high-performance gaming laptop. With an 18-inch display the ASUS ROG Strix Scar 18 (that's a mouthful), should be your weapon of choice, especially if you are on the lookout for a performance machine with an Nvidia RTX 4080 under the hood. The blazing fast GPU is well accompanied by a 13th Gen Intel Core i9 HX series processor and 32GB of RAM. Your games will not only run at butter-smooth frame rates, they will also load faster with 32GB of DDR5 memory rated at 4800MHz. The large 18-inch display allowed ASUS some additional room inside the chassis, as a result, while the laptop has a large footprint, it's not excessively thick or heavy for an 18-inch top specced gaming laptop. Our only possible crib against the laptop is the display resolution which is limited to FHD+ (1920 x 1200) on this particular model. So you will be a bit short of the 1440p standard which is considered as the sweet spot, given the GeForce RTX 4080 under the hood.\", \"The Acer Predator series of gaming laptops has impressed us during our testing with its consistent cooling performance and with the brand new Helios Neo line-up Acer has further improved on the thermal management aspect. This particular Neo 16 model combines the latest gaming hardware, with a 13th Gen Intel Core i7 processor and the Nvidia GeForce RTX 4060 graphics card. This combination delivers unbeatable value in the high-performance gaming laptop segment, the Core i7 + RTX 4060 combination fits like a glove for 1440p gaming at high FPS. And Acer has chosen the right display spec with a 165Hz 16-inch IPS display with 2560 x 1600 pixel resolution. And the panel carries an impressive 500nit brightness rating, making it one of the brightest displays in its price segment. We do have a bone to pick with Acer though, 16GB of RAM simply doesn't do justice to this configuration, this one screams for 32GB RAM to make the most of all the firepower inside that well-built chassis.\", 'Another ASUS laptop makes it to our list, and this one lies at the other end of the spectrum when it comes to portability. This is your high-performance \"go anywhere\" gaming laptop. Asus ROG Zephyrus is known for its thin and light play in the high-performance gaming laptop space and this particular model sits at the top of the stack. ASUS proudly calls this one an \"All AMD Muscle\" gaming laptop, courtesy of the combination of AMD Ryzen 9 6900HS and the AMD Radeon RX 6700S graphics card with 8GB of GDDR6 video RAM. The combination works really well when it comes to delivering top-notch gaming performance across all AAA gaming titles. The 14-inch display ensures you don\\'t need to push the resolution beyond 1080p and take full advantage of the 144Hz refresh rate on the display. Besides being a compact, thin, and light gaming laptop, the Zephyrus 14 is also one of the best-looking gaming laptops with excellent build quality. We have tested the Asus ROG Zephyrus series of gaming laptops in the past and have particularly appreciated how it delivers a quality gaming experience in a small package. Creators and gamer streamers should particularly consider this laptop, as this does deliver gaming goods while not bothering you with any additional heft.', 'One of the newest gaming laptop series from MSI, the MSI Cyborg is all about walking the line when it comes to performance vs portability. It does the balancing act by offering a slim chassis that is also light at under 2kg. This particular MSI Cyborg 15 model that we are recommending here runs on the Nvidia GeForce RTX 4060 graphics card, coupled with a 10-core 12th Gen Intel Core i7 series processor. The display on this one is a standard 15.6 inch 1080p panel with a 144Hz refresh rate. At a market price of approximately Rs. 1,30,990, this MSI laptop is a value-for-money pick for gamers looking at pure FPS numbers and wanting to go well beyond the entry-level gaming laptops without having to commit a big chunk of their back balance.']\n"
     ]
    }
   ],
   "source": [
    "ldec=driver.find_elements(By.XPATH,'//div[@class=\"tptn-prod-desc\"]')\n",
    "\n",
    "for i in ldec[0:7]:\n",
    "    dc=i.text\n",
    "    dec.append(dc)\n",
    "    \n",
    "print(dec)"
   ]
  },
  {
   "cell_type": "code",
   "execution_count": 126,
   "id": "d41f039d",
   "metadata": {},
   "outputs": [
    {
     "name": "stdout",
     "output_type": "stream",
     "text": [
      "['N/A', 'Flipkart', 'Amazon', 'Amazon', 'Amazon', 'Amazon', 'Amazon']\n"
     ]
    }
   ],
   "source": [
    "lseller=driver.find_elements(By.XPATH,'//td[@class=\"smmerchant\"]')\n",
    "\n",
    "for i in lseller[0:7]:\n",
    "    sll=i.text\n",
    "    seller.append(sll)\n",
    "    \n",
    "print(seller)"
   ]
  },
  {
   "cell_type": "code",
   "execution_count": 127,
   "id": "eb8fceaa",
   "metadata": {},
   "outputs": [
    {
     "name": "stdout",
     "output_type": "stream",
     "text": [
      "['₹ 269,777', '₹ 499,990', '₹ 179,990', '₹ 279,990', '₹ 149,990', '₹ 156,990', '₹ 125,000']\n"
     ]
    }
   ],
   "source": [
    "lprice=driver.find_elements(By.XPATH,'//td[@class=\"smprice\"]')\n",
    "\n",
    "for i in lprice[0:7]:\n",
    "    lpr=i.text\n",
    "    price.append(lpr)\n",
    "    \n",
    "print(price)"
   ]
  },
  {
   "cell_type": "code",
   "execution_count": null,
   "id": "63bafca2",
   "metadata": {},
   "outputs": [],
   "source": []
  },
  {
   "cell_type": "code",
   "execution_count": 128,
   "id": "99f93abd",
   "metadata": {},
   "outputs": [
    {
     "name": "stdout",
     "output_type": "stream",
     "text": [
      "7 7 7 7 7\n"
     ]
    }
   ],
   "source": [
    "print(len(brand),len(spec),len(dec),len(seller),len(price))"
   ]
  },
  {
   "cell_type": "code",
   "execution_count": null,
   "id": "e653c3b2",
   "metadata": {},
   "outputs": [],
   "source": []
  },
  {
   "cell_type": "code",
   "execution_count": 129,
   "id": "656b4f77",
   "metadata": {},
   "outputs": [
    {
     "data": {
      "text/html": [
       "<div>\n",
       "<style scoped>\n",
       "    .dataframe tbody tr th:only-of-type {\n",
       "        vertical-align: middle;\n",
       "    }\n",
       "\n",
       "    .dataframe tbody tr th {\n",
       "        vertical-align: top;\n",
       "    }\n",
       "\n",
       "    .dataframe thead th {\n",
       "        text-align: right;\n",
       "    }\n",
       "</style>\n",
       "<table border=\"1\" class=\"dataframe\">\n",
       "  <thead>\n",
       "    <tr style=\"text-align: right;\">\n",
       "      <th></th>\n",
       "      <th>Brand Name</th>\n",
       "      <th>Specifiation</th>\n",
       "      <th>Description</th>\n",
       "      <th>Seller</th>\n",
       "      <th>Price</th>\n",
       "    </tr>\n",
       "  </thead>\n",
       "  <tbody>\n",
       "    <tr>\n",
       "      <th>0</th>\n",
       "      <td>HP OMEN 17 (2023)</td>\n",
       "      <td>Windows 11 Home\\n17.3\" (2560 x 1440)\\n13th Gen...</td>\n",
       "      <td>We tested the HP OMEN 17 2023 at our digit tes...</td>\n",
       "      <td>N/A</td>\n",
       "      <td>₹ 269,777</td>\n",
       "    </tr>\n",
       "    <tr>\n",
       "      <th>1</th>\n",
       "      <td>MSI Titan GT77 12UHS</td>\n",
       "      <td>Windows 11 Home\\n17.3\" (3840 x 2160)\\n12th Gen...</td>\n",
       "      <td>This laptop won our best performance award las...</td>\n",
       "      <td>Flipkart</td>\n",
       "      <td>₹ 499,990</td>\n",
       "    </tr>\n",
       "    <tr>\n",
       "      <th>2</th>\n",
       "      <td>Lenovo Legion 5i Pro</td>\n",
       "      <td>Windows 11 Home\\n16\" (2560 x 1600)\\n12th Gen I...</td>\n",
       "      <td>This Lenovo Legion 5i Pro gaming laptop hits t...</td>\n",
       "      <td>Amazon</td>\n",
       "      <td>₹ 179,990</td>\n",
       "    </tr>\n",
       "    <tr>\n",
       "      <th>3</th>\n",
       "      <td>ASUS ROG Strix Scar 18 2023</td>\n",
       "      <td>Windows 11 Home\\n18\" (1920 x 1200)\\n13th Gen I...</td>\n",
       "      <td>If a 17-inch display on a gaming laptop no lon...</td>\n",
       "      <td>Amazon</td>\n",
       "      <td>₹ 279,990</td>\n",
       "    </tr>\n",
       "    <tr>\n",
       "      <th>4</th>\n",
       "      <td>Acer Predator Helios Neo 16</td>\n",
       "      <td>Windows 11 Home\\n16\" (2560 x 1600)\\n13th Gen I...</td>\n",
       "      <td>The Acer Predator series of gaming laptops has...</td>\n",
       "      <td>Amazon</td>\n",
       "      <td>₹ 149,990</td>\n",
       "    </tr>\n",
       "    <tr>\n",
       "      <th>5</th>\n",
       "      <td>ASUS ROG Zephyrus G14</td>\n",
       "      <td>Windows 11 Home\\n14\" (1920 x 1200)\\nAMD Ryzen ...</td>\n",
       "      <td>Another ASUS laptop makes it to our list, and ...</td>\n",
       "      <td>Amazon</td>\n",
       "      <td>₹ 156,990</td>\n",
       "    </tr>\n",
       "    <tr>\n",
       "      <th>6</th>\n",
       "      <td>MSI Cyborg 15</td>\n",
       "      <td>Windows 11 Home\\n15.6\" (1920 x 1080)\\n12th Gen...</td>\n",
       "      <td>One of the newest gaming laptop series from MS...</td>\n",
       "      <td>Amazon</td>\n",
       "      <td>₹ 125,000</td>\n",
       "    </tr>\n",
       "  </tbody>\n",
       "</table>\n",
       "</div>"
      ],
      "text/plain": [
       "                    Brand Name  \\\n",
       "0            HP OMEN 17 (2023)   \n",
       "1         MSI Titan GT77 12UHS   \n",
       "2         Lenovo Legion 5i Pro   \n",
       "3  ASUS ROG Strix Scar 18 2023   \n",
       "4  Acer Predator Helios Neo 16   \n",
       "5        ASUS ROG Zephyrus G14   \n",
       "6                MSI Cyborg 15   \n",
       "\n",
       "                                        Specifiation  \\\n",
       "0  Windows 11 Home\\n17.3\" (2560 x 1440)\\n13th Gen...   \n",
       "1  Windows 11 Home\\n17.3\" (3840 x 2160)\\n12th Gen...   \n",
       "2  Windows 11 Home\\n16\" (2560 x 1600)\\n12th Gen I...   \n",
       "3  Windows 11 Home\\n18\" (1920 x 1200)\\n13th Gen I...   \n",
       "4  Windows 11 Home\\n16\" (2560 x 1600)\\n13th Gen I...   \n",
       "5  Windows 11 Home\\n14\" (1920 x 1200)\\nAMD Ryzen ...   \n",
       "6  Windows 11 Home\\n15.6\" (1920 x 1080)\\n12th Gen...   \n",
       "\n",
       "                                         Description    Seller      Price  \n",
       "0  We tested the HP OMEN 17 2023 at our digit tes...       N/A  ₹ 269,777  \n",
       "1  This laptop won our best performance award las...  Flipkart  ₹ 499,990  \n",
       "2  This Lenovo Legion 5i Pro gaming laptop hits t...    Amazon  ₹ 179,990  \n",
       "3  If a 17-inch display on a gaming laptop no lon...    Amazon  ₹ 279,990  \n",
       "4  The Acer Predator series of gaming laptops has...    Amazon  ₹ 149,990  \n",
       "5  Another ASUS laptop makes it to our list, and ...    Amazon  ₹ 156,990  \n",
       "6  One of the newest gaming laptop series from MS...    Amazon  ₹ 125,000  "
      ]
     },
     "execution_count": 129,
     "metadata": {},
     "output_type": "execute_result"
    }
   ],
   "source": [
    "df=pd.DataFrame({'Brand Name':brand,'Specifiation':spec,'Description':dec,'Seller':seller,'Price':price})\n",
    "df"
   ]
  },
  {
   "cell_type": "code",
   "execution_count": null,
   "id": "04f1af8b",
   "metadata": {},
   "outputs": [],
   "source": []
  },
  {
   "cell_type": "markdown",
   "id": "87970a35",
   "metadata": {},
   "source": [
    "# Q7"
   ]
  },
  {
   "cell_type": "code",
   "execution_count": null,
   "id": "610b6c39",
   "metadata": {},
   "outputs": [],
   "source": []
  },
  {
   "cell_type": "code",
   "execution_count": 137,
   "id": "d82886b1",
   "metadata": {},
   "outputs": [],
   "source": [
    "driver = webdriver.Chrome()"
   ]
  },
  {
   "cell_type": "code",
   "execution_count": 138,
   "id": "00dc763a",
   "metadata": {},
   "outputs": [],
   "source": [
    "driver.get(\"http://www.forbes.com/\")  \n",
    "time.sleep(3)"
   ]
  },
  {
   "cell_type": "code",
   "execution_count": 139,
   "id": "4e7bf16e",
   "metadata": {},
   "outputs": [],
   "source": [
    "from selenium.webdriver.common.action_chains import ActionChains\n",
    "driver.maximize_window()"
   ]
  },
  {
   "cell_type": "code",
   "execution_count": 140,
   "id": "6a4fa128",
   "metadata": {},
   "outputs": [],
   "source": [
    "search_icon=driver.find_element(By.XPATH,\"/html/body/div[1]/header/nav/div[1]/div[1]/div/div\")\n",
    "search_icon.click()"
   ]
  },
  {
   "cell_type": "code",
   "execution_count": 143,
   "id": "74570ecb",
   "metadata": {},
   "outputs": [],
   "source": [
    "search_icon=driver.find_element(By.XPATH,\"/html/body/div[1]/header/nav/div[1]/div[1]/div/div[2]/ul/li[2]/div[1]\")\n",
    "search_icon.click()"
   ]
  },
  {
   "cell_type": "code",
   "execution_count": 144,
   "id": "a0589ece",
   "metadata": {},
   "outputs": [],
   "source": [
    "search_icon=driver.find_element(By.XPATH,\"/html/body/div[1]/div/main/div/section/div[2]/div/div/div[1]/div/div[1]/div/div/a\")\n",
    "search_icon.click()"
   ]
  },
  {
   "cell_type": "code",
   "execution_count": null,
   "id": "9240ec67",
   "metadata": {},
   "outputs": [],
   "source": []
  },
  {
   "cell_type": "code",
   "execution_count": 145,
   "id": "f8e1acd3",
   "metadata": {},
   "outputs": [],
   "source": [
    "Rank=[]\n",
    "Name=[]\n",
    "Networth=[]\n",
    "Age=[]\n",
    "Citizenship=[]\n",
    "Source=[]\n",
    "Industry=[]"
   ]
  },
  {
   "cell_type": "code",
   "execution_count": null,
   "id": "7f47a3c6",
   "metadata": {},
   "outputs": [],
   "source": []
  },
  {
   "cell_type": "code",
   "execution_count": 166,
   "id": "aa2513b9",
   "metadata": {},
   "outputs": [],
   "source": [
    "rank = driver.find_elements(By.XPATH,'//div[@class=\"Table_rank___YBhk Table_dataCell__2QCve\"]')\n",
    "\n",
    "for i in rank:\n",
    "    Rank.append(i.text)"
   ]
  },
  {
   "cell_type": "code",
   "execution_count": null,
   "id": "ba7187fe",
   "metadata": {},
   "outputs": [],
   "source": []
  },
  {
   "cell_type": "code",
   "execution_count": 167,
   "id": "71ec8a93",
   "metadata": {},
   "outputs": [
    {
     "name": "stdout",
     "output_type": "stream",
     "text": [
      "['1', '2', '3', '4', '5', '6', '7', '8', '9', '10', '11', '12', '13', '14', '15', '16', '17', '17', '19', '20', '21', '22', '23', '24', '25', '26', '27', '28', '29', '30', '31', '31', '33', '34', '35', '35', '37', '38', '39', '40', '41', '41', '43', '43', '45', '46', '47', '48', '49', '50', '51', '52', '53', '54', '55', '56', '57', '58', '59', '60', '61', '62', '63', '64', '65', '65', '67', '68', '69', '70', '71', '72', '72', '74', '74', '76', '77', '77', '79', '80', '81', '82', '83', '84', '84', '86', '86', '88', '89', '89', '89', '92', '93', '94', '94', '94', '97', '97', '99', '100', '101', '101', '103', '104', '104', '106', '107', '108', '108', '108', '108', '112', '113', '114', '115', '116', '116', '118', '119', '120', '121', '122', '123', '124', '124', '126', '127', '128', '128', '130', '130', '130', '133', '133', '133', '136', '137', '138', '138', '140', '141', '142', '142', '144', '145', '146', '147', '148', '148', '148', '151', '151', '153', '153', '153', '153', '157', '157', '159', '159', '161', '161', '161', '164', '165', '165', '167', '167', '167', '170', '171', '171', '171', '171', '171', '171', '171', '171', '179', '179', '179', '182', '183', '184', '184', '184', '184', '184', '184', '190', '190', '190', '190', '190', '195', '195', '195', '195', '195', '195']\n"
     ]
    }
   ],
   "source": [
    "print(Rank)"
   ]
  },
  {
   "cell_type": "code",
   "execution_count": null,
   "id": "9f4f2c4b",
   "metadata": {},
   "outputs": [],
   "source": []
  },
  {
   "cell_type": "code",
   "execution_count": 156,
   "id": "973622ac",
   "metadata": {},
   "outputs": [],
   "source": [
    "rank=driver.find_elements(By.XPATH,\"//div[@class='rank']\")\n",
    "for i in rank:\n",
    "    Rank.append(i.text)\n",
    "\n",
    "name=driver.find_elements(By.XPATH,\"/html/body/div[1]/div[2]/div[3]/div[2]/div[2]/div[2]/div[1]/div[1]/div[1]/div[2]/div[1]/div[1]/div[2]/div\")\n",
    "for i in name:\n",
    "    Name.append(i.text)\n",
    "    \n",
    "net=driver.find_elements(By.XPATH,\"/html/body/div[1]/div[2]/div[3]/div[2]/div[2]/div[2]/div[1]/div[1]/div[1]/div[2]/div[1]/div[1]/div[3]/div\")\n",
    "for i in net:\n",
    "    Networth.append(str(i.text).replace('\\n',''))\n",
    "\n",
    "age=driver.find_elements(By.XPATH,\"/html/body/div[1]/div[2]/div[3]/div[2]/div[2]/div[2]/div[1]/div[1]/div[1]/div[2]/div[1]/div[1]/div[4]/div\")\n",
    "for i in age:\n",
    "    Age.append(i.text)\n",
    "\n",
    "citi=driver.find_elements(By.XPATH,\"/html/body/div[1]/div[2]/div[3]/div[2]/div[2]/div[2]/div[1]/div[1]/div[1]/div[2]/div[1]/div[1]/div[5]\")\n",
    "for i in citi:\n",
    "    Citizenship.append(str(i.text).replace('\\n',''))\n",
    "\n",
    "source=driver.find_elements(By.XPATH,\"/html/body/div[1]/div[2]/div[3]/div[2]/div[2]/div[2]/div[1]/div[1]/div[1]/div[2]/div[1]/div[1]/div[6]/div/span\")\n",
    "for i in source:\n",
    "    Source.append(str(i.text).replace('\\n',''))\n",
    "\n",
    "industry=driver.find_elements(By.XPATH,\"/html/body/div[1]/div[2]/div[3]/div[2]/div[2]/div[2]/div[1]/div[1]/div[1]/div[2]/div[1]/div[1]/div[7]/div\")\n",
    "for i in industry:\n",
    "    Industry.append(str(i.text).replace('\\n',''))\n",
    "\n",
    "time.sleep(3)"
   ]
  },
  {
   "cell_type": "code",
   "execution_count": 168,
   "id": "1172b2af",
   "metadata": {},
   "outputs": [
    {
     "name": "stdout",
     "output_type": "stream",
     "text": [
      "200 2 2 2 2 2 2\n"
     ]
    }
   ],
   "source": [
    "print(len(Rank),len(Name),len(Networth),len(Age),len(Citizenship),len(Source),len(Industry))"
   ]
  },
  {
   "cell_type": "code",
   "execution_count": null,
   "id": "a079658c",
   "metadata": {},
   "outputs": [],
   "source": []
  },
  {
   "cell_type": "code",
   "execution_count": null,
   "id": "3f150108",
   "metadata": {},
   "outputs": [],
   "source": []
  },
  {
   "cell_type": "markdown",
   "id": "8a1633ab",
   "metadata": {},
   "source": [
    "# Q9"
   ]
  },
  {
   "cell_type": "code",
   "execution_count": null,
   "id": "cbf057ba",
   "metadata": {},
   "outputs": [],
   "source": []
  },
  {
   "cell_type": "code",
   "execution_count": null,
   "id": "515c15cf",
   "metadata": {},
   "outputs": [],
   "source": []
  },
  {
   "cell_type": "code",
   "execution_count": 177,
   "id": "b6c71bef",
   "metadata": {},
   "outputs": [],
   "source": [
    "driver = webdriver.Chrome()"
   ]
  },
  {
   "cell_type": "code",
   "execution_count": 178,
   "id": "7177905b",
   "metadata": {},
   "outputs": [],
   "source": [
    "driver.get(\"https://www.hostelworld.com/\")  \n",
    "time.sleep(3)"
   ]
  },
  {
   "cell_type": "code",
   "execution_count": 176,
   "id": "a38e3ac5",
   "metadata": {},
   "outputs": [
    {
     "ename": "ElementNotInteractableException",
     "evalue": "Message: element not interactable\n  (Session info: chrome=115.0.5790.171)\nStacktrace:\nBacktrace:\n\tGetHandleVerifier [0x00C7A813+48355]\n\t(No symbol) [0x00C0C4B1]\n\t(No symbol) [0x00B15220]\n\t(No symbol) [0x00B3D046]\n\t(No symbol) [0x00B3C8B1]\n\t(No symbol) [0x00B5A73C]\n\t(No symbol) [0x00B39A36]\n\t(No symbol) [0x00B5AA94]\n\t(No symbol) [0x00B6C922]\n\t(No symbol) [0x00B5A536]\n\t(No symbol) [0x00B382DC]\n\t(No symbol) [0x00B393DD]\n\tGetHandleVerifier [0x00EDAABD+2539405]\n\tGetHandleVerifier [0x00F1A78F+2800735]\n\tGetHandleVerifier [0x00F1456C+2775612]\n\tGetHandleVerifier [0x00D051E0+616112]\n\t(No symbol) [0x00C15F8C]\n\t(No symbol) [0x00C12328]\n\t(No symbol) [0x00C1240B]\n\t(No symbol) [0x00C04FF7]\n\tBaseThreadInitThunk [0x753200C9+25]\n\tRtlGetAppContainerNamedObjectPath [0x77027B1E+286]\n\tRtlGetAppContainerNamedObjectPath [0x77027AEE+238]\n",
     "output_type": "error",
     "traceback": [
      "\u001b[1;31m---------------------------------------------------------------------------\u001b[0m",
      "\u001b[1;31mElementNotInteractableException\u001b[0m           Traceback (most recent call last)",
      "Cell \u001b[1;32mIn[176], line 2\u001b[0m\n\u001b[0;32m      1\u001b[0m search_bar\u001b[38;5;241m=\u001b[39m driver\u001b[38;5;241m.\u001b[39mfind_element(By\u001b[38;5;241m.\u001b[39mXPATH,\u001b[38;5;124m'\u001b[39m\u001b[38;5;124m//div[@class=\u001b[39m\u001b[38;5;124m\"\u001b[39m\u001b[38;5;124minput-wrapper\u001b[39m\u001b[38;5;124m\"\u001b[39m\u001b[38;5;124m]\u001b[39m\u001b[38;5;124m'\u001b[39m)\n\u001b[1;32m----> 2\u001b[0m search_bar\u001b[38;5;241m.\u001b[39msend_keys(\u001b[38;5;124m\"\u001b[39m\u001b[38;5;124mLondon\u001b[39m\u001b[38;5;124m\"\u001b[39m)\n",
      "File \u001b[1;32m~\\anaconda3\\Lib\\site-packages\\selenium\\webdriver\\remote\\webelement.py:231\u001b[0m, in \u001b[0;36mWebElement.send_keys\u001b[1;34m(self, *value)\u001b[0m\n\u001b[0;32m    228\u001b[0m             remote_files\u001b[38;5;241m.\u001b[39mappend(\u001b[38;5;28mself\u001b[39m\u001b[38;5;241m.\u001b[39m_upload(file))\n\u001b[0;32m    229\u001b[0m         value \u001b[38;5;241m=\u001b[39m \u001b[38;5;124m\"\u001b[39m\u001b[38;5;130;01m\\n\u001b[39;00m\u001b[38;5;124m\"\u001b[39m\u001b[38;5;241m.\u001b[39mjoin(remote_files)\n\u001b[1;32m--> 231\u001b[0m \u001b[38;5;28mself\u001b[39m\u001b[38;5;241m.\u001b[39m_execute(\n\u001b[0;32m    232\u001b[0m     Command\u001b[38;5;241m.\u001b[39mSEND_KEYS_TO_ELEMENT, {\u001b[38;5;124m\"\u001b[39m\u001b[38;5;124mtext\u001b[39m\u001b[38;5;124m\"\u001b[39m: \u001b[38;5;124m\"\u001b[39m\u001b[38;5;124m\"\u001b[39m\u001b[38;5;241m.\u001b[39mjoin(keys_to_typing(value)), \u001b[38;5;124m\"\u001b[39m\u001b[38;5;124mvalue\u001b[39m\u001b[38;5;124m\"\u001b[39m: keys_to_typing(value)}\n\u001b[0;32m    233\u001b[0m )\n",
      "File \u001b[1;32m~\\anaconda3\\Lib\\site-packages\\selenium\\webdriver\\remote\\webelement.py:395\u001b[0m, in \u001b[0;36mWebElement._execute\u001b[1;34m(self, command, params)\u001b[0m\n\u001b[0;32m    393\u001b[0m     params \u001b[38;5;241m=\u001b[39m {}\n\u001b[0;32m    394\u001b[0m params[\u001b[38;5;124m\"\u001b[39m\u001b[38;5;124mid\u001b[39m\u001b[38;5;124m\"\u001b[39m] \u001b[38;5;241m=\u001b[39m \u001b[38;5;28mself\u001b[39m\u001b[38;5;241m.\u001b[39m_id\n\u001b[1;32m--> 395\u001b[0m \u001b[38;5;28;01mreturn\u001b[39;00m \u001b[38;5;28mself\u001b[39m\u001b[38;5;241m.\u001b[39m_parent\u001b[38;5;241m.\u001b[39mexecute(command, params)\n",
      "File \u001b[1;32m~\\anaconda3\\Lib\\site-packages\\selenium\\webdriver\\remote\\webdriver.py:346\u001b[0m, in \u001b[0;36mWebDriver.execute\u001b[1;34m(self, driver_command, params)\u001b[0m\n\u001b[0;32m    344\u001b[0m response \u001b[38;5;241m=\u001b[39m \u001b[38;5;28mself\u001b[39m\u001b[38;5;241m.\u001b[39mcommand_executor\u001b[38;5;241m.\u001b[39mexecute(driver_command, params)\n\u001b[0;32m    345\u001b[0m \u001b[38;5;28;01mif\u001b[39;00m response:\n\u001b[1;32m--> 346\u001b[0m     \u001b[38;5;28mself\u001b[39m\u001b[38;5;241m.\u001b[39merror_handler\u001b[38;5;241m.\u001b[39mcheck_response(response)\n\u001b[0;32m    347\u001b[0m     response[\u001b[38;5;124m\"\u001b[39m\u001b[38;5;124mvalue\u001b[39m\u001b[38;5;124m\"\u001b[39m] \u001b[38;5;241m=\u001b[39m \u001b[38;5;28mself\u001b[39m\u001b[38;5;241m.\u001b[39m_unwrap_value(response\u001b[38;5;241m.\u001b[39mget(\u001b[38;5;124m\"\u001b[39m\u001b[38;5;124mvalue\u001b[39m\u001b[38;5;124m\"\u001b[39m, \u001b[38;5;28;01mNone\u001b[39;00m))\n\u001b[0;32m    348\u001b[0m     \u001b[38;5;28;01mreturn\u001b[39;00m response\n",
      "File \u001b[1;32m~\\anaconda3\\Lib\\site-packages\\selenium\\webdriver\\remote\\errorhandler.py:245\u001b[0m, in \u001b[0;36mErrorHandler.check_response\u001b[1;34m(self, response)\u001b[0m\n\u001b[0;32m    243\u001b[0m         alert_text \u001b[38;5;241m=\u001b[39m value[\u001b[38;5;124m\"\u001b[39m\u001b[38;5;124malert\u001b[39m\u001b[38;5;124m\"\u001b[39m]\u001b[38;5;241m.\u001b[39mget(\u001b[38;5;124m\"\u001b[39m\u001b[38;5;124mtext\u001b[39m\u001b[38;5;124m\"\u001b[39m)\n\u001b[0;32m    244\u001b[0m     \u001b[38;5;28;01mraise\u001b[39;00m exception_class(message, screen, stacktrace, alert_text)  \u001b[38;5;66;03m# type: ignore[call-arg]  # mypy is not smart enough here\u001b[39;00m\n\u001b[1;32m--> 245\u001b[0m \u001b[38;5;28;01mraise\u001b[39;00m exception_class(message, screen, stacktrace)\n",
      "\u001b[1;31mElementNotInteractableException\u001b[0m: Message: element not interactable\n  (Session info: chrome=115.0.5790.171)\nStacktrace:\nBacktrace:\n\tGetHandleVerifier [0x00C7A813+48355]\n\t(No symbol) [0x00C0C4B1]\n\t(No symbol) [0x00B15220]\n\t(No symbol) [0x00B3D046]\n\t(No symbol) [0x00B3C8B1]\n\t(No symbol) [0x00B5A73C]\n\t(No symbol) [0x00B39A36]\n\t(No symbol) [0x00B5AA94]\n\t(No symbol) [0x00B6C922]\n\t(No symbol) [0x00B5A536]\n\t(No symbol) [0x00B382DC]\n\t(No symbol) [0x00B393DD]\n\tGetHandleVerifier [0x00EDAABD+2539405]\n\tGetHandleVerifier [0x00F1A78F+2800735]\n\tGetHandleVerifier [0x00F1456C+2775612]\n\tGetHandleVerifier [0x00D051E0+616112]\n\t(No symbol) [0x00C15F8C]\n\t(No symbol) [0x00C12328]\n\t(No symbol) [0x00C1240B]\n\t(No symbol) [0x00C04FF7]\n\tBaseThreadInitThunk [0x753200C9+25]\n\tRtlGetAppContainerNamedObjectPath [0x77027B1E+286]\n\tRtlGetAppContainerNamedObjectPath [0x77027AEE+238]\n"
     ]
    }
   ],
   "source": [
    "search_bar= driver.find_element(By.XPATH,'//div[@class=\"input-wrapper\"]')\n",
    "search_bar.send_keys(\"London\")"
   ]
  },
  {
   "cell_type": "code",
   "execution_count": null,
   "id": "8d4453f0",
   "metadata": {},
   "outputs": [],
   "source": []
  }
 ],
 "metadata": {
  "kernelspec": {
   "display_name": "Python 3 (ipykernel)",
   "language": "python",
   "name": "python3"
  },
  "language_info": {
   "codemirror_mode": {
    "name": "ipython",
    "version": 3
   },
   "file_extension": ".py",
   "mimetype": "text/x-python",
   "name": "python",
   "nbconvert_exporter": "python",
   "pygments_lexer": "ipython3",
   "version": "3.11.4"
  }
 },
 "nbformat": 4,
 "nbformat_minor": 5
}
